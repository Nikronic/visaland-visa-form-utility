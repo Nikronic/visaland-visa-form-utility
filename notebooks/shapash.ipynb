{
 "cells": [
  {
   "cell_type": "code",
   "execution_count": 1,
   "metadata": {},
   "outputs": [
    {
     "name": "stderr",
     "output_type": "stream",
     "text": [
      "/home/nik/anaconda3/envs/py38l/lib/python3.8/site-packages/xgboost/compat.py:31: FutureWarning: pandas.Int64Index is deprecated and will be removed from pandas in a future version. Use pandas.Index with the appropriate dtype instead.\n",
      "  from pandas import MultiIndex, Int64Index\n"
     ]
    },
    {
     "name": "stdout",
     "output_type": "stream",
     "text": [
      "[__main__: 10-24 16:15:36] {69} INFO - \t\t↓↓↓ Starting setting up configs: dirs, mlflow, dvc, etc ↓↓↓\n"
     ]
    },
    {
     "name": "stderr",
     "output_type": "stream",
     "text": [
      "[__main__: 10-24 16:15:36] {69} INFO - \t\t↓↓↓ Starting setting up configs: dirs, mlflow, dvc, etc ↓↓↓\n"
     ]
    },
    {
     "name": "stdout",
     "output_type": "stream",
     "text": [
      "[__main__: 10-24 16:15:36] {84} INFO - MLflow experiment name: shapash - 0.12.0-alpha\n"
     ]
    },
    {
     "name": "stderr",
     "output_type": "stream",
     "text": [
      "[__main__: 10-24 16:15:36] {84} INFO - MLflow experiment name: shapash - 0.12.0-alpha\n"
     ]
    },
    {
     "name": "stdout",
     "output_type": "stream",
     "text": [
      "[__main__: 10-24 16:15:36] {85} INFO - MLflow experiment id: f105529a6d4e4acc91251e08a0e5423d\n"
     ]
    },
    {
     "name": "stderr",
     "output_type": "stream",
     "text": [
      "[__main__: 10-24 16:15:36] {85} INFO - MLflow experiment id: f105529a6d4e4acc91251e08a0e5423d\n"
     ]
    },
    {
     "name": "stdout",
     "output_type": "stream",
     "text": [
      "[__main__: 10-24 16:15:36] {86} INFO - DVC data version: v1.2.5-dev\n"
     ]
    },
    {
     "name": "stderr",
     "output_type": "stream",
     "text": [
      "[__main__: 10-24 16:15:36] {86} INFO - DVC data version: v1.2.5-dev\n"
     ]
    },
    {
     "name": "stdout",
     "output_type": "stream",
     "text": [
      "[__main__: 10-24 16:15:36] {87} INFO - DVC repo (root): /home/nik/visaland-visa-form-utility\n"
     ]
    },
    {
     "name": "stderr",
     "output_type": "stream",
     "text": [
      "[__main__: 10-24 16:15:36] {87} INFO - DVC repo (root): /home/nik/visaland-visa-form-utility\n"
     ]
    },
    {
     "name": "stdout",
     "output_type": "stream",
     "text": [
      "[__main__: 10-24 16:15:36] {88} INFO - DVC data source path: raw-dataset/all-dev.pkl\n"
     ]
    },
    {
     "name": "stderr",
     "output_type": "stream",
     "text": [
      "[__main__: 10-24 16:15:36] {88} INFO - DVC data source path: raw-dataset/all-dev.pkl\n"
     ]
    },
    {
     "name": "stdout",
     "output_type": "stream",
     "text": [
      "[__main__: 10-24 16:15:36] {89} INFO - \t\t↑↑↑ Finished setting up configs: dirs, mlflow, and dvc. ↑↑↑\n"
     ]
    },
    {
     "name": "stderr",
     "output_type": "stream",
     "text": [
      "[__main__: 10-24 16:15:36] {89} INFO - \t\t↑↑↑ Finished setting up configs: dirs, mlflow, and dvc. ↑↑↑\n"
     ]
    },
    {
     "name": "stdout",
     "output_type": "stream",
     "text": [
      "[__main__: 10-24 16:15:36] {91} INFO - \t\t↓↓↓ Starting loading preprocessed (EDA) data from DVC ↓↓↓\n"
     ]
    },
    {
     "name": "stderr",
     "output_type": "stream",
     "text": [
      "[__main__: 10-24 16:15:36] {91} INFO - \t\t↓↓↓ Starting loading preprocessed (EDA) data from DVC ↓↓↓\n"
     ]
    },
    {
     "name": "stdout",
     "output_type": "stream",
     "text": [
      "[__main__: 10-24 16:15:36] {101} INFO - preprocessed data in raw PATH=raw-dataset/all-dev.pkl with VERSION=v1.2.5-dev,\n",
      "loaded from DVC storage at /home/nik/visaland-visa-form-utility/dataset/dvc-storage/37/cc877a11b1063361635b0c53dd2a2b.\n"
     ]
    },
    {
     "name": "stderr",
     "output_type": "stream",
     "text": [
      "[__main__: 10-24 16:15:36] {101} INFO - preprocessed data in raw PATH=raw-dataset/all-dev.pkl with VERSION=v1.2.5-dev,\n",
      "loaded from DVC storage at /home/nik/visaland-visa-form-utility/dataset/dvc-storage/37/cc877a11b1063361635b0c53dd2a2b.\n"
     ]
    },
    {
     "name": "stdout",
     "output_type": "stream",
     "text": [
      "[__main__: 10-24 16:15:36] {104} INFO - \t\t↑↑↑ Finished loading preprocessed (EDA) data from DVC ↑↑↑\n"
     ]
    },
    {
     "name": "stderr",
     "output_type": "stream",
     "text": [
      "[__main__: 10-24 16:15:36] {104} INFO - \t\t↑↑↑ Finished loading preprocessed (EDA) data from DVC ↑↑↑\n"
     ]
    },
    {
     "name": "stdout",
     "output_type": "stream",
     "text": [
      "[__main__: 10-24 16:15:36] {107} INFO - \t\t↓↓↓ Starting labeling data with snorkel ↓↓↓\n"
     ]
    },
    {
     "name": "stderr",
     "output_type": "stream",
     "text": [
      "[__main__: 10-24 16:15:36] {107} INFO - \t\t↓↓↓ Starting labeling data with snorkel ↓↓↓\n"
     ]
    },
    {
     "name": "stdout",
     "output_type": "stream",
     "text": [
      "[__main__: 10-24 16:15:36] {108} INFO - prepare data by separating already labeled (`acc` and `rej`) from weak and unlabeled data (`w-acc`, `w-rej` and `no idea`)\n"
     ]
    },
    {
     "name": "stderr",
     "output_type": "stream",
     "text": [
      "[__main__: 10-24 16:15:36] {108} INFO - prepare data by separating already labeled (`acc` and `rej`) from weak and unlabeled data (`w-acc`, `w-rej` and `no idea`)\n"
     ]
    },
    {
     "name": "stdout",
     "output_type": "stream",
     "text": [
      "[__main__: 10-24 16:15:36] {117} INFO - shape of unlabeled data: (86, 89)\n"
     ]
    },
    {
     "name": "stderr",
     "output_type": "stream",
     "text": [
      "[__main__: 10-24 16:15:36] {117} INFO - shape of unlabeled data: (86, 89)\n"
     ]
    },
    {
     "name": "stdout",
     "output_type": "stream",
     "text": [
      "[__main__: 10-24 16:15:36] {118} INFO - shape of labeled unlabeled data: (212, 89)\n"
     ]
    },
    {
     "name": "stderr",
     "output_type": "stream",
     "text": [
      "[__main__: 10-24 16:15:36] {118} INFO - shape of labeled unlabeled data: (212, 89)\n"
     ]
    },
    {
     "name": "stdout",
     "output_type": "stream",
     "text": [
      "[__main__: 10-24 16:15:36] {124} INFO - \t↓↓↓ Starting extracting label matrices (L) by applying `LabelFunction`s ↓↓↓\n"
     ]
    },
    {
     "name": "stderr",
     "output_type": "stream",
     "text": [
      "[__main__: 10-24 16:15:36] {124} INFO - \t↓↓↓ Starting extracting label matrices (L) by applying `LabelFunction`s ↓↓↓\n"
     ]
    },
    {
     "name": "stdout",
     "output_type": "stream",
     "text": [
      "[vizard.snorkel.labeling.ComposeLFLabeling: 10-24 16:15:36] {165} INFO - Following labeling functions are being used:\n"
     ]
    },
    {
     "name": "stderr",
     "output_type": "stream",
     "text": [
      "[vizard.snorkel.labeling.ComposeLFLabeling: 10-24 16:15:36] {165} INFO - Following labeling functions are being used:\n"
     ]
    },
    {
     "name": "stdout",
     "output_type": "stream",
     "text": [
      "[vizard.snorkel.labeling.ComposeLFLabeling: 10-24 16:15:36] {167} INFO - * LabelingFunction \"WeakAccept\" is being used on column \"VisaResult\"\n"
     ]
    },
    {
     "name": "stderr",
     "output_type": "stream",
     "text": [
      "[vizard.snorkel.labeling.ComposeLFLabeling: 10-24 16:15:36] {167} INFO - * LabelingFunction \"WeakAccept\" is being used on column \"VisaResult\"\n"
     ]
    },
    {
     "name": "stdout",
     "output_type": "stream",
     "text": [
      "[vizard.snorkel.labeling.ComposeLFLabeling: 10-24 16:15:36] {167} INFO - * LabelingFunction \"WeakReject\" is being used on column \"VisaResult\"\n"
     ]
    },
    {
     "name": "stderr",
     "output_type": "stream",
     "text": [
      "[vizard.snorkel.labeling.ComposeLFLabeling: 10-24 16:15:36] {167} INFO - * LabelingFunction \"WeakReject\" is being used on column \"VisaResult\"\n"
     ]
    },
    {
     "name": "stdout",
     "output_type": "stream",
     "text": [
      "[vizard.snorkel.labeling.ComposeLFLabeling: 10-24 16:15:36] {167} INFO - * LabelingFunction \"NoIdea\" is being used on column \"VisaResult\"\n"
     ]
    },
    {
     "name": "stderr",
     "output_type": "stream",
     "text": [
      "[vizard.snorkel.labeling.ComposeLFLabeling: 10-24 16:15:36] {167} INFO - * LabelingFunction \"NoIdea\" is being used on column \"VisaResult\"\n",
      "100%|██████████| 86/86 [00:00<00:00, 7112.77it/s]\n",
      "100%|██████████| 212/212 [00:00<00:00, 22832.59it/s]\n"
     ]
    },
    {
     "name": "stdout",
     "output_type": "stream",
     "text": [
      "[__main__: 10-24 16:15:37] {143} INFO -                        j Polarity  Coverage  Overlaps  Conflicts\n",
      "WeakAccept_VisaResult  0      [1]  0.162791       0.0        0.0\n",
      "WeakReject_VisaResult  1      [0]  0.186047       0.0        0.0\n",
      "NoIdea_VisaResult      2      [0]  0.651163       0.0        0.0\n"
     ]
    },
    {
     "name": "stderr",
     "output_type": "stream",
     "text": [
      "[__main__: 10-24 16:15:37] {143} INFO -                        j Polarity  Coverage  Overlaps  Conflicts\n",
      "WeakAccept_VisaResult  0      [1]  0.162791       0.0        0.0\n",
      "WeakReject_VisaResult  1      [0]  0.186047       0.0        0.0\n",
      "NoIdea_VisaResult      2      [0]  0.651163       0.0        0.0\n"
     ]
    },
    {
     "name": "stdout",
     "output_type": "stream",
     "text": [
      "[__main__: 10-24 16:15:37] {144} INFO - \t↑↑↑ Finishing extracting label matrices (L) by applying `LabelFunction`s ↑↑↑\n"
     ]
    },
    {
     "name": "stderr",
     "output_type": "stream",
     "text": [
      "[__main__: 10-24 16:15:37] {144} INFO - \t↑↑↑ Finishing extracting label matrices (L) by applying `LabelFunction`s ↑↑↑\n"
     ]
    },
    {
     "name": "stdout",
     "output_type": "stream",
     "text": [
      "[__main__: 10-24 16:15:37] {146} INFO - \t↓↓↓ Starting training `LabelModel` ↓↓↓\n"
     ]
    },
    {
     "name": "stderr",
     "output_type": "stream",
     "text": [
      "[__main__: 10-24 16:15:37] {146} INFO - \t↓↓↓ Starting training `LabelModel` ↓↓↓\n"
     ]
    },
    {
     "name": "stdout",
     "output_type": "stream",
     "text": [
      "[__main__: 10-24 16:15:37] {155} INFO - Training using device=\"cuda\"\n"
     ]
    },
    {
     "name": "stderr",
     "output_type": "stream",
     "text": [
      "[__main__: 10-24 16:15:37] {155} INFO - Training using device=\"cuda\"\n"
     ]
    },
    {
     "name": "stdout",
     "output_type": "stream",
     "text": [
      "[snorkel.labeling.model.label_model.LabelModel: 10-24 16:15:40] {906} INFO - Computing O...\n"
     ]
    },
    {
     "name": "stderr",
     "output_type": "stream",
     "text": [
      "[snorkel.labeling.model.label_model.LabelModel: 10-24 16:15:40] {906} INFO - Computing O...\n"
     ]
    },
    {
     "name": "stdout",
     "output_type": "stream",
     "text": [
      "[snorkel.labeling.model.label_model.LabelModel: 10-24 16:15:40] {912} INFO - Estimating \\mu...\n"
     ]
    },
    {
     "name": "stderr",
     "output_type": "stream",
     "text": [
      "[snorkel.labeling.model.label_model.LabelModel: 10-24 16:15:40] {912} INFO - Estimating \\mu...\n"
     ]
    },
    {
     "name": "stdout",
     "output_type": "stream",
     "text": [
      "[snorkel.labeling.model.label_model.LabelModel: 10-24 16:15:40] {920} INFO - Using GPU...\n"
     ]
    },
    {
     "name": "stderr",
     "output_type": "stream",
     "text": [
      "[snorkel.labeling.model.label_model.LabelModel: 10-24 16:15:40] {920} INFO - Using GPU...\n",
      "  0%|          | 0/2000 [00:00<?, ?epoch/s]"
     ]
    },
    {
     "name": "stdout",
     "output_type": "stream",
     "text": [
      "[snorkel.labeling.model.label_model.LabelModel: 10-24 16:15:41] {80} INFO - [0 epochs]: TRAIN:[loss=0.269]\n"
     ]
    },
    {
     "name": "stderr",
     "output_type": "stream",
     "text": [
      "[snorkel.labeling.model.label_model.LabelModel: 10-24 16:15:41] {80} INFO - [0 epochs]: TRAIN:[loss=0.269]\n",
      "  3%|▎         | 68/2000 [00:00<00:05, 341.82epoch/s]"
     ]
    },
    {
     "name": "stdout",
     "output_type": "stream",
     "text": [
      "[snorkel.labeling.model.label_model.LabelModel: 10-24 16:15:41] {80} INFO - [100 epochs]: TRAIN:[loss=0.255]\n"
     ]
    },
    {
     "name": "stderr",
     "output_type": "stream",
     "text": [
      "[snorkel.labeling.model.label_model.LabelModel: 10-24 16:15:41] {80} INFO - [100 epochs]: TRAIN:[loss=0.255]\n",
      "  9%|▉         | 181/2000 [00:00<00:04, 366.54epoch/s]"
     ]
    },
    {
     "name": "stdout",
     "output_type": "stream",
     "text": [
      "[snorkel.labeling.model.label_model.LabelModel: 10-24 16:15:41] {80} INFO - [200 epochs]: TRAIN:[loss=0.242]\n"
     ]
    },
    {
     "name": "stderr",
     "output_type": "stream",
     "text": [
      "[snorkel.labeling.model.label_model.LabelModel: 10-24 16:15:41] {80} INFO - [200 epochs]: TRAIN:[loss=0.242]\n",
      " 15%|█▍        | 296/2000 [00:00<00:04, 357.06epoch/s]"
     ]
    },
    {
     "name": "stdout",
     "output_type": "stream",
     "text": [
      "[snorkel.labeling.model.label_model.LabelModel: 10-24 16:15:41] {80} INFO - [300 epochs]: TRAIN:[loss=0.229]\n"
     ]
    },
    {
     "name": "stderr",
     "output_type": "stream",
     "text": [
      "[snorkel.labeling.model.label_model.LabelModel: 10-24 16:15:41] {80} INFO - [300 epochs]: TRAIN:[loss=0.229]\n",
      " 19%|█▊        | 372/2000 [00:01<00:04, 367.13epoch/s]"
     ]
    },
    {
     "name": "stdout",
     "output_type": "stream",
     "text": [
      "[snorkel.labeling.model.label_model.LabelModel: 10-24 16:15:42] {80} INFO - [400 epochs]: TRAIN:[loss=0.218]\n"
     ]
    },
    {
     "name": "stderr",
     "output_type": "stream",
     "text": [
      "[snorkel.labeling.model.label_model.LabelModel: 10-24 16:15:42] {80} INFO - [400 epochs]: TRAIN:[loss=0.218]\n",
      " 24%|██▍       | 488/2000 [00:01<00:04, 376.57epoch/s]"
     ]
    },
    {
     "name": "stdout",
     "output_type": "stream",
     "text": [
      "[snorkel.labeling.model.label_model.LabelModel: 10-24 16:15:42] {80} INFO - [500 epochs]: TRAIN:[loss=0.207]\n"
     ]
    },
    {
     "name": "stderr",
     "output_type": "stream",
     "text": [
      "[snorkel.labeling.model.label_model.LabelModel: 10-24 16:15:42] {80} INFO - [500 epochs]: TRAIN:[loss=0.207]\n",
      " 28%|██▊       | 565/2000 [00:01<00:03, 379.60epoch/s]"
     ]
    },
    {
     "name": "stdout",
     "output_type": "stream",
     "text": [
      "[snorkel.labeling.model.label_model.LabelModel: 10-24 16:15:42] {80} INFO - [600 epochs]: TRAIN:[loss=0.197]\n"
     ]
    },
    {
     "name": "stderr",
     "output_type": "stream",
     "text": [
      "[snorkel.labeling.model.label_model.LabelModel: 10-24 16:15:42] {80} INFO - [600 epochs]: TRAIN:[loss=0.197]\n",
      " 34%|███▍      | 683/2000 [00:01<00:03, 376.31epoch/s]"
     ]
    },
    {
     "name": "stdout",
     "output_type": "stream",
     "text": [
      "[snorkel.labeling.model.label_model.LabelModel: 10-24 16:15:42] {80} INFO - [700 epochs]: TRAIN:[loss=0.187]\n"
     ]
    },
    {
     "name": "stderr",
     "output_type": "stream",
     "text": [
      "[snorkel.labeling.model.label_model.LabelModel: 10-24 16:15:42] {80} INFO - [700 epochs]: TRAIN:[loss=0.187]\n",
      " 40%|███▉      | 799/2000 [00:02<00:03, 376.80epoch/s]"
     ]
    },
    {
     "name": "stdout",
     "output_type": "stream",
     "text": [
      "[snorkel.labeling.model.label_model.LabelModel: 10-24 16:15:43] {80} INFO - [800 epochs]: TRAIN:[loss=0.178]\n"
     ]
    },
    {
     "name": "stderr",
     "output_type": "stream",
     "text": [
      "[snorkel.labeling.model.label_model.LabelModel: 10-24 16:15:43] {80} INFO - [800 epochs]: TRAIN:[loss=0.178]\n",
      " 44%|████▍     | 879/2000 [00:02<00:02, 386.06epoch/s]"
     ]
    },
    {
     "name": "stdout",
     "output_type": "stream",
     "text": [
      "[snorkel.labeling.model.label_model.LabelModel: 10-24 16:15:43] {80} INFO - [900 epochs]: TRAIN:[loss=0.170]\n"
     ]
    },
    {
     "name": "stderr",
     "output_type": "stream",
     "text": [
      "[snorkel.labeling.model.label_model.LabelModel: 10-24 16:15:43] {80} INFO - [900 epochs]: TRAIN:[loss=0.170]\n",
      " 50%|████▉     | 995/2000 [00:02<00:02, 377.01epoch/s]"
     ]
    },
    {
     "name": "stdout",
     "output_type": "stream",
     "text": [
      "[snorkel.labeling.model.label_model.LabelModel: 10-24 16:15:43] {80} INFO - [1000 epochs]: TRAIN:[loss=0.163]\n"
     ]
    },
    {
     "name": "stderr",
     "output_type": "stream",
     "text": [
      "[snorkel.labeling.model.label_model.LabelModel: 10-24 16:15:43] {80} INFO - [1000 epochs]: TRAIN:[loss=0.163]\n",
      " 53%|█████▎    | 1068/2000 [00:02<00:02, 322.01epoch/s]"
     ]
    },
    {
     "name": "stdout",
     "output_type": "stream",
     "text": [
      "[snorkel.labeling.model.label_model.LabelModel: 10-24 16:15:44] {80} INFO - [1100 epochs]: TRAIN:[loss=0.155]\n"
     ]
    },
    {
     "name": "stderr",
     "output_type": "stream",
     "text": [
      "[snorkel.labeling.model.label_model.LabelModel: 10-24 16:15:44] {80} INFO - [1100 epochs]: TRAIN:[loss=0.155]\n",
      " 60%|█████▉    | 1194/2000 [00:03<00:02, 281.43epoch/s]"
     ]
    },
    {
     "name": "stdout",
     "output_type": "stream",
     "text": [
      "[snorkel.labeling.model.label_model.LabelModel: 10-24 16:15:44] {80} INFO - [1200 epochs]: TRAIN:[loss=0.149]\n"
     ]
    },
    {
     "name": "stderr",
     "output_type": "stream",
     "text": [
      "[snorkel.labeling.model.label_model.LabelModel: 10-24 16:15:44] {80} INFO - [1200 epochs]: TRAIN:[loss=0.149]\n",
      " 64%|██████▍   | 1277/2000 [00:03<00:02, 258.55epoch/s]"
     ]
    },
    {
     "name": "stdout",
     "output_type": "stream",
     "text": [
      "[snorkel.labeling.model.label_model.LabelModel: 10-24 16:15:44] {80} INFO - [1300 epochs]: TRAIN:[loss=0.142]\n"
     ]
    },
    {
     "name": "stderr",
     "output_type": "stream",
     "text": [
      "[snorkel.labeling.model.label_model.LabelModel: 10-24 16:15:44] {80} INFO - [1300 epochs]: TRAIN:[loss=0.142]\n",
      " 69%|██████▉   | 1382/2000 [00:04<00:02, 256.35epoch/s]"
     ]
    },
    {
     "name": "stdout",
     "output_type": "stream",
     "text": [
      "[snorkel.labeling.model.label_model.LabelModel: 10-24 16:15:45] {80} INFO - [1400 epochs]: TRAIN:[loss=0.136]\n"
     ]
    },
    {
     "name": "stderr",
     "output_type": "stream",
     "text": [
      "[snorkel.labeling.model.label_model.LabelModel: 10-24 16:15:45] {80} INFO - [1400 epochs]: TRAIN:[loss=0.136]\n",
      " 74%|███████▍  | 1486/2000 [00:04<00:02, 253.42epoch/s]"
     ]
    },
    {
     "name": "stdout",
     "output_type": "stream",
     "text": [
      "[snorkel.labeling.model.label_model.LabelModel: 10-24 16:15:45] {80} INFO - [1500 epochs]: TRAIN:[loss=0.131]\n"
     ]
    },
    {
     "name": "stderr",
     "output_type": "stream",
     "text": [
      "[snorkel.labeling.model.label_model.LabelModel: 10-24 16:15:45] {80} INFO - [1500 epochs]: TRAIN:[loss=0.131]\n",
      " 80%|███████▉  | 1591/2000 [00:04<00:01, 256.38epoch/s]"
     ]
    },
    {
     "name": "stdout",
     "output_type": "stream",
     "text": [
      "[snorkel.labeling.model.label_model.LabelModel: 10-24 16:15:46] {80} INFO - [1600 epochs]: TRAIN:[loss=0.125]\n"
     ]
    },
    {
     "name": "stderr",
     "output_type": "stream",
     "text": [
      "[snorkel.labeling.model.label_model.LabelModel: 10-24 16:15:46] {80} INFO - [1600 epochs]: TRAIN:[loss=0.125]\n",
      " 84%|████████▍ | 1675/2000 [00:05<00:01, 268.31epoch/s]"
     ]
    },
    {
     "name": "stdout",
     "output_type": "stream",
     "text": [
      "[snorkel.labeling.model.label_model.LabelModel: 10-24 16:15:46] {80} INFO - [1700 epochs]: TRAIN:[loss=0.120]\n"
     ]
    },
    {
     "name": "stderr",
     "output_type": "stream",
     "text": [
      "[snorkel.labeling.model.label_model.LabelModel: 10-24 16:15:46] {80} INFO - [1700 epochs]: TRAIN:[loss=0.120]\n",
      " 90%|████████▉ | 1790/2000 [00:05<00:00, 281.38epoch/s]"
     ]
    },
    {
     "name": "stdout",
     "output_type": "stream",
     "text": [
      "[snorkel.labeling.model.label_model.LabelModel: 10-24 16:15:46] {80} INFO - [1800 epochs]: TRAIN:[loss=0.114]\n"
     ]
    },
    {
     "name": "stderr",
     "output_type": "stream",
     "text": [
      "[snorkel.labeling.model.label_model.LabelModel: 10-24 16:15:46] {80} INFO - [1800 epochs]: TRAIN:[loss=0.114]\n",
      " 94%|█████████▍| 1879/2000 [00:06<00:00, 285.09epoch/s]"
     ]
    },
    {
     "name": "stdout",
     "output_type": "stream",
     "text": [
      "[snorkel.labeling.model.label_model.LabelModel: 10-24 16:15:47] {80} INFO - [1900 epochs]: TRAIN:[loss=0.110]\n"
     ]
    },
    {
     "name": "stderr",
     "output_type": "stream",
     "text": [
      "[snorkel.labeling.model.label_model.LabelModel: 10-24 16:15:47] {80} INFO - [1900 epochs]: TRAIN:[loss=0.110]\n",
      "100%|██████████| 2000/2000 [00:06<00:00, 310.84epoch/s]\n"
     ]
    },
    {
     "name": "stdout",
     "output_type": "stream",
     "text": [
      "[snorkel.labeling.model.label_model.LabelModel: 10-24 16:15:47] {978} INFO - Finished Training\n"
     ]
    },
    {
     "name": "stderr",
     "output_type": "stream",
     "text": [
      "[snorkel.labeling.model.label_model.LabelModel: 10-24 16:15:47] {978} INFO - Finished Training\n"
     ]
    },
    {
     "name": "stdout",
     "output_type": "stream",
     "text": [
      "[__main__: 10-24 16:15:47] {167} INFO - \t↑↑↑ Finished training LabelModel ↑↑↑\n"
     ]
    },
    {
     "name": "stderr",
     "output_type": "stream",
     "text": [
      "[__main__: 10-24 16:15:47] {167} INFO - \t↑↑↑ Finished training LabelModel ↑↑↑\n"
     ]
    },
    {
     "name": "stdout",
     "output_type": "stream",
     "text": [
      "[__main__: 10-24 16:15:47] {169} INFO - \t↓↓↓ Starting inference on LabelModel ↓↓↓\n"
     ]
    },
    {
     "name": "stderr",
     "output_type": "stream",
     "text": [
      "[__main__: 10-24 16:15:47] {169} INFO - \t↓↓↓ Starting inference on LabelModel ↓↓↓\n"
     ]
    },
    {
     "name": "stdout",
     "output_type": "stream",
     "text": [
      "[__main__: 10-24 16:15:47] {175} INFO - ModelLabel prediction is saved in \"AL\" column.\n"
     ]
    },
    {
     "name": "stderr",
     "output_type": "stream",
     "text": [
      "[__main__: 10-24 16:15:47] {175} INFO - ModelLabel prediction is saved in \"AL\" column.\n"
     ]
    },
    {
     "name": "stdout",
     "output_type": "stream",
     "text": [
      "[snorkel.labeling.model.base_labeler: 10-24 16:15:47] {104} WARNING - Metrics calculated over data points with non-abstain labels only\n"
     ]
    },
    {
     "name": "stderr",
     "output_type": "stream",
     "text": [
      "[snorkel.labeling.model.base_labeler: 10-24 16:15:47] {104} WARNING - Metrics calculated over data points with non-abstain labels only\n"
     ]
    },
    {
     "name": "stdout",
     "output_type": "stream",
     "text": [
      "[vizard.snorkel.modeling: 10-24 16:15:47] {51} INFO - Label Model training stats: \n"
     ]
    },
    {
     "name": "stderr",
     "output_type": "stream",
     "text": [
      "[vizard.snorkel.modeling: 10-24 16:15:47] {51} INFO - Label Model training stats: \n"
     ]
    },
    {
     "name": "stdout",
     "output_type": "stream",
     "text": [
      "[vizard.snorkel.modeling: 10-24 16:15:47] {53} INFO - Label Model training accuracy: 100.0%\n"
     ]
    },
    {
     "name": "stderr",
     "output_type": "stream",
     "text": [
      "[vizard.snorkel.modeling: 10-24 16:15:47] {53} INFO - Label Model training accuracy: 100.0%\n"
     ]
    },
    {
     "name": "stdout",
     "output_type": "stream",
     "text": [
      "[vizard.snorkel.modeling: 10-24 16:15:47] {53} INFO - Label Model training coverage: 100.0%\n"
     ]
    },
    {
     "name": "stderr",
     "output_type": "stream",
     "text": [
      "[vizard.snorkel.modeling: 10-24 16:15:47] {53} INFO - Label Model training coverage: 100.0%\n"
     ]
    },
    {
     "name": "stdout",
     "output_type": "stream",
     "text": [
      "[vizard.snorkel.modeling: 10-24 16:15:47] {53} INFO - Label Model training precision: 100.0%\n"
     ]
    },
    {
     "name": "stderr",
     "output_type": "stream",
     "text": [
      "[vizard.snorkel.modeling: 10-24 16:15:47] {53} INFO - Label Model training precision: 100.0%\n"
     ]
    },
    {
     "name": "stdout",
     "output_type": "stream",
     "text": [
      "[vizard.snorkel.modeling: 10-24 16:15:47] {53} INFO - Label Model training recall: 100.0%\n"
     ]
    },
    {
     "name": "stderr",
     "output_type": "stream",
     "text": [
      "[vizard.snorkel.modeling: 10-24 16:15:47] {53} INFO - Label Model training recall: 100.0%\n"
     ]
    },
    {
     "name": "stdout",
     "output_type": "stream",
     "text": [
      "[vizard.snorkel.modeling: 10-24 16:15:47] {53} INFO - Label Model training f1: 100.0%\n"
     ]
    },
    {
     "name": "stderr",
     "output_type": "stream",
     "text": [
      "[vizard.snorkel.modeling: 10-24 16:15:47] {53} INFO - Label Model training f1: 100.0%\n"
     ]
    },
    {
     "name": "stdout",
     "output_type": "stream",
     "text": [
      "[snorkel.labeling.model.base_labeler: 10-24 16:15:47] {104} WARNING - Metrics calculated over data points with non-abstain labels only\n"
     ]
    },
    {
     "name": "stderr",
     "output_type": "stream",
     "text": [
      "[snorkel.labeling.model.base_labeler: 10-24 16:15:47] {104} WARNING - Metrics calculated over data points with non-abstain labels only\n"
     ]
    },
    {
     "name": "stdout",
     "output_type": "stream",
     "text": [
      "[vizard.snorkel.modeling: 10-24 16:15:47] {51} INFO - Label Model testing stats: \n"
     ]
    },
    {
     "name": "stderr",
     "output_type": "stream",
     "text": [
      "[vizard.snorkel.modeling: 10-24 16:15:47] {51} INFO - Label Model testing stats: \n"
     ]
    },
    {
     "name": "stdout",
     "output_type": "stream",
     "text": [
      "[vizard.snorkel.modeling: 10-24 16:15:47] {53} INFO - Label Model testing accuracy: 100.0%\n"
     ]
    },
    {
     "name": "stderr",
     "output_type": "stream",
     "text": [
      "[vizard.snorkel.modeling: 10-24 16:15:47] {53} INFO - Label Model testing accuracy: 100.0%\n"
     ]
    },
    {
     "name": "stdout",
     "output_type": "stream",
     "text": [
      "[vizard.snorkel.modeling: 10-24 16:15:47] {53} INFO - Label Model testing coverage: 100.0%\n"
     ]
    },
    {
     "name": "stderr",
     "output_type": "stream",
     "text": [
      "[vizard.snorkel.modeling: 10-24 16:15:47] {53} INFO - Label Model testing coverage: 100.0%\n"
     ]
    },
    {
     "name": "stdout",
     "output_type": "stream",
     "text": [
      "[vizard.snorkel.modeling: 10-24 16:15:47] {53} INFO - Label Model testing precision: 100.0%\n"
     ]
    },
    {
     "name": "stderr",
     "output_type": "stream",
     "text": [
      "[vizard.snorkel.modeling: 10-24 16:15:47] {53} INFO - Label Model testing precision: 100.0%\n"
     ]
    },
    {
     "name": "stdout",
     "output_type": "stream",
     "text": [
      "[vizard.snorkel.modeling: 10-24 16:15:47] {53} INFO - Label Model testing recall: 100.0%\n"
     ]
    },
    {
     "name": "stderr",
     "output_type": "stream",
     "text": [
      "[vizard.snorkel.modeling: 10-24 16:15:47] {53} INFO - Label Model testing recall: 100.0%\n"
     ]
    },
    {
     "name": "stdout",
     "output_type": "stream",
     "text": [
      "[vizard.snorkel.modeling: 10-24 16:15:47] {53} INFO - Label Model testing f1: 100.0%\n"
     ]
    },
    {
     "name": "stderr",
     "output_type": "stream",
     "text": [
      "[vizard.snorkel.modeling: 10-24 16:15:47] {53} INFO - Label Model testing f1: 100.0%\n"
     ]
    },
    {
     "name": "stdout",
     "output_type": "stream",
     "text": [
      "[__main__: 10-24 16:15:47] {203} INFO - \t↑↑↑ Finishing inference on LabelModel ↑↑↑\n"
     ]
    },
    {
     "name": "stderr",
     "output_type": "stream",
     "text": [
      "[__main__: 10-24 16:15:47] {203} INFO - \t↑↑↑ Finishing inference on LabelModel ↑↑↑\n"
     ]
    },
    {
     "name": "stdout",
     "output_type": "stream",
     "text": [
      "[__main__: 10-24 16:15:47] {210} INFO - \t\t↑↑↑ Finished labeling data with snorkel ↑↑↑\n"
     ]
    },
    {
     "name": "stderr",
     "output_type": "stream",
     "text": [
      "[__main__: 10-24 16:15:47] {210} INFO - \t\t↑↑↑ Finished labeling data with snorkel ↑↑↑\n"
     ]
    },
    {
     "name": "stdout",
     "output_type": "stream",
     "text": [
      "[vizard.models.preprocessors.corePandasTrainTestSplit: 10-24 16:15:47] {261} INFO - Config file \"/home/nik/visaland-visa-form-utility/vizard/models/preprocessors/data/canada_pandas_train_test_split.json\" is being used\n"
     ]
    },
    {
     "name": "stderr",
     "output_type": "stream",
     "text": [
      "[vizard.models.preprocessors.corePandasTrainTestSplit: 10-24 16:15:47] {261} INFO - Config file \"/home/nik/visaland-visa-form-utility/vizard/models/preprocessors/data/canada_pandas_train_test_split.json\" is being used\n"
     ]
    },
    {
     "name": "stdout",
     "output_type": "stream",
     "text": [
      "[__main__: 10-24 16:15:47] {228} INFO - \t\t↓↓↓ Starting augmentation via snorkel (TFs) ↓↓↓\n"
     ]
    },
    {
     "name": "stderr",
     "output_type": "stream",
     "text": [
      "[__main__: 10-24 16:15:47] {228} INFO - \t\t↓↓↓ Starting augmentation via snorkel (TFs) ↓↓↓\n"
     ]
    },
    {
     "name": "stdout",
     "output_type": "stream",
     "text": [
      "[vizard.snorkel.augmentation.ComposeTFAugmentation: 10-24 16:15:47] {436} INFO - Following transformation functions are being used:\n"
     ]
    },
    {
     "name": "stderr",
     "output_type": "stream",
     "text": [
      "[vizard.snorkel.augmentation.ComposeTFAugmentation: 10-24 16:15:47] {436} INFO - Following transformation functions are being used:\n"
     ]
    },
    {
     "name": "stdout",
     "output_type": "stream",
     "text": [
      "[vizard.snorkel.augmentation.ComposeTFAugmentation: 10-24 16:15:47] {438} INFO - * TransformationFunction \"AddNormalNoiseDOBYear\" is being used on column \"P1.PD.DOBYear.Period\"\n"
     ]
    },
    {
     "name": "stderr",
     "output_type": "stream",
     "text": [
      "[vizard.snorkel.augmentation.ComposeTFAugmentation: 10-24 16:15:47] {438} INFO - * TransformationFunction \"AddNormalNoiseDOBYear\" is being used on column \"P1.PD.DOBYear.Period\"\n"
     ]
    },
    {
     "name": "stdout",
     "output_type": "stream",
     "text": [
      "[vizard.snorkel.augmentation.ComposeTFAugmentation: 10-24 16:15:47] {438} INFO - * TransformationFunction \"AddNormalNoiseChildDOBX\" is being used on column \"p1.SecB.Chd.[0].ChdDOB.Period\"\n"
     ]
    },
    {
     "name": "stderr",
     "output_type": "stream",
     "text": [
      "[vizard.snorkel.augmentation.ComposeTFAugmentation: 10-24 16:15:47] {438} INFO - * TransformationFunction \"AddNormalNoiseChildDOBX\" is being used on column \"p1.SecB.Chd.[0].ChdDOB.Period\"\n"
     ]
    },
    {
     "name": "stdout",
     "output_type": "stream",
     "text": [
      "[vizard.snorkel.augmentation.ComposeTFAugmentation: 10-24 16:15:47] {438} INFO - * TransformationFunction \"AddNormalNoiseChildDOBX\" is being used on column \"p1.SecB.Chd.[1].ChdDOB.Period\"\n"
     ]
    },
    {
     "name": "stderr",
     "output_type": "stream",
     "text": [
      "[vizard.snorkel.augmentation.ComposeTFAugmentation: 10-24 16:15:47] {438} INFO - * TransformationFunction \"AddNormalNoiseChildDOBX\" is being used on column \"p1.SecB.Chd.[1].ChdDOB.Period\"\n"
     ]
    },
    {
     "name": "stdout",
     "output_type": "stream",
     "text": [
      "[vizard.snorkel.augmentation.ComposeTFAugmentation: 10-24 16:15:47] {438} INFO - * TransformationFunction \"AddNormalNoiseChildDOBX\" is being used on column \"p1.SecB.Chd.[2].ChdDOB.Period\"\n"
     ]
    },
    {
     "name": "stderr",
     "output_type": "stream",
     "text": [
      "[vizard.snorkel.augmentation.ComposeTFAugmentation: 10-24 16:15:47] {438} INFO - * TransformationFunction \"AddNormalNoiseChildDOBX\" is being used on column \"p1.SecB.Chd.[2].ChdDOB.Period\"\n"
     ]
    },
    {
     "name": "stdout",
     "output_type": "stream",
     "text": [
      "[vizard.snorkel.augmentation.ComposeTFAugmentation: 10-24 16:15:47] {438} INFO - * TransformationFunction \"AddNormalNoiseChildDOBX\" is being used on column \"p1.SecB.Chd.[3].ChdDOB.Period\"\n"
     ]
    },
    {
     "name": "stderr",
     "output_type": "stream",
     "text": [
      "[vizard.snorkel.augmentation.ComposeTFAugmentation: 10-24 16:15:47] {438} INFO - * TransformationFunction \"AddNormalNoiseChildDOBX\" is being used on column \"p1.SecB.Chd.[3].ChdDOB.Period\"\n"
     ]
    },
    {
     "name": "stdout",
     "output_type": "stream",
     "text": [
      "[vizard.snorkel.augmentation.ComposeTFAugmentation: 10-24 16:15:47] {438} INFO - * TransformationFunction \"AddNormalNoiseDateOfMarr\" is being used on column \"P1.MS.SecA.DateOfMarr.Period\"\n"
     ]
    },
    {
     "name": "stderr",
     "output_type": "stream",
     "text": [
      "[vizard.snorkel.augmentation.ComposeTFAugmentation: 10-24 16:15:47] {438} INFO - * TransformationFunction \"AddNormalNoiseDateOfMarr\" is being used on column \"P1.MS.SecA.DateOfMarr.Period\"\n"
     ]
    },
    {
     "name": "stdout",
     "output_type": "stream",
     "text": [
      "[vizard.snorkel.augmentation.ComposeTFAugmentation: 10-24 16:15:47] {438} INFO - * TransformationFunction \"AddNormalNoiseOccRowXPeriod\" is being used on column \"P3.Occ.OccRow1.Period\"\n"
     ]
    },
    {
     "name": "stderr",
     "output_type": "stream",
     "text": [
      "[vizard.snorkel.augmentation.ComposeTFAugmentation: 10-24 16:15:47] {438} INFO - * TransformationFunction \"AddNormalNoiseOccRowXPeriod\" is being used on column \"P3.Occ.OccRow1.Period\"\n"
     ]
    },
    {
     "name": "stdout",
     "output_type": "stream",
     "text": [
      "[vizard.snorkel.augmentation.ComposeTFAugmentation: 10-24 16:15:47] {438} INFO - * TransformationFunction \"AddNormalNoiseOccRowXPeriod\" is being used on column \"P3.Occ.OccRow2.Period\"\n"
     ]
    },
    {
     "name": "stderr",
     "output_type": "stream",
     "text": [
      "[vizard.snorkel.augmentation.ComposeTFAugmentation: 10-24 16:15:47] {438} INFO - * TransformationFunction \"AddNormalNoiseOccRowXPeriod\" is being used on column \"P3.Occ.OccRow2.Period\"\n"
     ]
    },
    {
     "name": "stdout",
     "output_type": "stream",
     "text": [
      "[vizard.snorkel.augmentation.ComposeTFAugmentation: 10-24 16:15:47] {438} INFO - * TransformationFunction \"AddNormalNoiseOccRowXPeriod\" is being used on column \"P3.Occ.OccRow3.Period\"\n"
     ]
    },
    {
     "name": "stderr",
     "output_type": "stream",
     "text": [
      "[vizard.snorkel.augmentation.ComposeTFAugmentation: 10-24 16:15:47] {438} INFO - * TransformationFunction \"AddNormalNoiseOccRowXPeriod\" is being used on column \"P3.Occ.OccRow3.Period\"\n"
     ]
    },
    {
     "name": "stdout",
     "output_type": "stream",
     "text": [
      "[vizard.snorkel.augmentation.ComposeTFAugmentation: 10-24 16:15:47] {438} INFO - * TransformationFunction \"AddNormalNoiseHLS\" is being used on column \"P3.DOV.PrpsRow1.HLS.Period\"\n"
     ]
    },
    {
     "name": "stderr",
     "output_type": "stream",
     "text": [
      "[vizard.snorkel.augmentation.ComposeTFAugmentation: 10-24 16:15:47] {438} INFO - * TransformationFunction \"AddNormalNoiseHLS\" is being used on column \"P3.DOV.PrpsRow1.HLS.Period\"\n"
     ]
    },
    {
     "name": "stdout",
     "output_type": "stream",
     "text": [
      "[vizard.snorkel.augmentation.ComposeTFAugmentation: 10-24 16:15:47] {438} INFO - * TransformationFunction \"AddCategoricalNoiseChildRelX\" is being used on column \"p1.SecB.Chd.[0].ChdRel\"\n"
     ]
    },
    {
     "name": "stderr",
     "output_type": "stream",
     "text": [
      "[vizard.snorkel.augmentation.ComposeTFAugmentation: 10-24 16:15:47] {438} INFO - * TransformationFunction \"AddCategoricalNoiseChildRelX\" is being used on column \"p1.SecB.Chd.[0].ChdRel\"\n"
     ]
    },
    {
     "name": "stdout",
     "output_type": "stream",
     "text": [
      "[vizard.snorkel.augmentation.ComposeTFAugmentation: 10-24 16:15:47] {438} INFO - * TransformationFunction \"AddCategoricalNoiseChildRelX\" is being used on column \"p1.SecB.Chd.[1].ChdRel\"\n"
     ]
    },
    {
     "name": "stderr",
     "output_type": "stream",
     "text": [
      "[vizard.snorkel.augmentation.ComposeTFAugmentation: 10-24 16:15:47] {438} INFO - * TransformationFunction \"AddCategoricalNoiseChildRelX\" is being used on column \"p1.SecB.Chd.[1].ChdRel\"\n"
     ]
    },
    {
     "name": "stdout",
     "output_type": "stream",
     "text": [
      "[vizard.snorkel.augmentation.ComposeTFAugmentation: 10-24 16:15:47] {438} INFO - * TransformationFunction \"AddCategoricalNoiseChildRelX\" is being used on column \"p1.SecB.Chd.[2].ChdRel\"\n"
     ]
    },
    {
     "name": "stderr",
     "output_type": "stream",
     "text": [
      "[vizard.snorkel.augmentation.ComposeTFAugmentation: 10-24 16:15:47] {438} INFO - * TransformationFunction \"AddCategoricalNoiseChildRelX\" is being used on column \"p1.SecB.Chd.[2].ChdRel\"\n"
     ]
    },
    {
     "name": "stdout",
     "output_type": "stream",
     "text": [
      "[vizard.snorkel.augmentation.ComposeTFAugmentation: 10-24 16:15:47] {438} INFO - * TransformationFunction \"AddCategoricalNoiseChildRelX\" is being used on column \"p1.SecB.Chd.[3].ChdRel\"\n"
     ]
    },
    {
     "name": "stderr",
     "output_type": "stream",
     "text": [
      "[vizard.snorkel.augmentation.ComposeTFAugmentation: 10-24 16:15:47] {438} INFO - * TransformationFunction \"AddCategoricalNoiseChildRelX\" is being used on column \"p1.SecB.Chd.[3].ChdRel\"\n"
     ]
    },
    {
     "name": "stdout",
     "output_type": "stream",
     "text": [
      "[vizard.snorkel.augmentation.ComposeTFAugmentation: 10-24 16:15:47] {438} INFO - * TransformationFunction \"AddCategoricalNoiseSiblingRelX\" is being used on column \"p1.SecC.Chd.[0].ChdRel\"\n"
     ]
    },
    {
     "name": "stderr",
     "output_type": "stream",
     "text": [
      "[vizard.snorkel.augmentation.ComposeTFAugmentation: 10-24 16:15:47] {438} INFO - * TransformationFunction \"AddCategoricalNoiseSiblingRelX\" is being used on column \"p1.SecC.Chd.[0].ChdRel\"\n"
     ]
    },
    {
     "name": "stdout",
     "output_type": "stream",
     "text": [
      "[vizard.snorkel.augmentation.ComposeTFAugmentation: 10-24 16:15:47] {438} INFO - * TransformationFunction \"AddCategoricalNoiseSiblingRelX\" is being used on column \"p1.SecC.Chd.[1].ChdRel\"\n"
     ]
    },
    {
     "name": "stderr",
     "output_type": "stream",
     "text": [
      "[vizard.snorkel.augmentation.ComposeTFAugmentation: 10-24 16:15:47] {438} INFO - * TransformationFunction \"AddCategoricalNoiseSiblingRelX\" is being used on column \"p1.SecC.Chd.[1].ChdRel\"\n"
     ]
    },
    {
     "name": "stdout",
     "output_type": "stream",
     "text": [
      "[vizard.snorkel.augmentation.ComposeTFAugmentation: 10-24 16:15:47] {438} INFO - * TransformationFunction \"AddCategoricalNoiseSiblingRelX\" is being used on column \"p1.SecC.Chd.[2].ChdRel\"\n"
     ]
    },
    {
     "name": "stderr",
     "output_type": "stream",
     "text": [
      "[vizard.snorkel.augmentation.ComposeTFAugmentation: 10-24 16:15:47] {438} INFO - * TransformationFunction \"AddCategoricalNoiseSiblingRelX\" is being used on column \"p1.SecC.Chd.[2].ChdRel\"\n"
     ]
    },
    {
     "name": "stdout",
     "output_type": "stream",
     "text": [
      "[vizard.snorkel.augmentation.ComposeTFAugmentation: 10-24 16:15:47] {438} INFO - * TransformationFunction \"AddCategoricalNoiseSiblingRelX\" is being used on column \"p1.SecC.Chd.[3].ChdRel\"\n"
     ]
    },
    {
     "name": "stderr",
     "output_type": "stream",
     "text": [
      "[vizard.snorkel.augmentation.ComposeTFAugmentation: 10-24 16:15:47] {438} INFO - * TransformationFunction \"AddCategoricalNoiseSiblingRelX\" is being used on column \"p1.SecC.Chd.[3].ChdRel\"\n"
     ]
    },
    {
     "name": "stdout",
     "output_type": "stream",
     "text": [
      "[vizard.snorkel.augmentation.ComposeTFAugmentation: 10-24 16:15:47] {438} INFO - * TransformationFunction \"AddCategoricalNoiseSiblingRelX\" is being used on column \"p1.SecC.Chd.[4].ChdRel\"\n"
     ]
    },
    {
     "name": "stderr",
     "output_type": "stream",
     "text": [
      "[vizard.snorkel.augmentation.ComposeTFAugmentation: 10-24 16:15:47] {438} INFO - * TransformationFunction \"AddCategoricalNoiseSiblingRelX\" is being used on column \"p1.SecC.Chd.[4].ChdRel\"\n"
     ]
    },
    {
     "name": "stdout",
     "output_type": "stream",
     "text": [
      "[vizard.snorkel.augmentation.ComposeTFAugmentation: 10-24 16:15:47] {438} INFO - * TransformationFunction \"AddCategoricalNoiseSiblingRelX\" is being used on column \"p1.SecC.Chd.[5].ChdRel\"\n"
     ]
    },
    {
     "name": "stderr",
     "output_type": "stream",
     "text": [
      "[vizard.snorkel.augmentation.ComposeTFAugmentation: 10-24 16:15:47] {438} INFO - * TransformationFunction \"AddCategoricalNoiseSiblingRelX\" is being used on column \"p1.SecC.Chd.[5].ChdRel\"\n"
     ]
    },
    {
     "name": "stdout",
     "output_type": "stream",
     "text": [
      "[vizard.snorkel.augmentation.ComposeTFAugmentation: 10-24 16:15:47] {438} INFO - * TransformationFunction \"AddCategoricalNoiseSiblingRelX\" is being used on column \"p1.SecC.Chd.[6].ChdRel\"\n"
     ]
    },
    {
     "name": "stderr",
     "output_type": "stream",
     "text": [
      "[vizard.snorkel.augmentation.ComposeTFAugmentation: 10-24 16:15:47] {438} INFO - * TransformationFunction \"AddCategoricalNoiseSiblingRelX\" is being used on column \"p1.SecC.Chd.[6].ChdRel\"\n"
     ]
    },
    {
     "name": "stdout",
     "output_type": "stream",
     "text": [
      "[vizard.snorkel.augmentation.ComposeTFAugmentation: 10-24 16:15:47] {438} INFO - * TransformationFunction \"AddCategoricalNoiseSex\" is being used on column \"P1.PD.Sex.Sex\"\n"
     ]
    },
    {
     "name": "stderr",
     "output_type": "stream",
     "text": [
      "[vizard.snorkel.augmentation.ComposeTFAugmentation: 10-24 16:15:47] {438} INFO - * TransformationFunction \"AddCategoricalNoiseSex\" is being used on column \"P1.PD.Sex.Sex\"\n"
     ]
    },
    {
     "name": "stdout",
     "output_type": "stream",
     "text": [
      "[vizard.snorkel.augmentation.ComposeTFAugmentation: 10-24 16:15:47] {438} INFO - * TransformationFunction \"AddOrderedNoiseChdAccomp\" is being used on column \"p1.SecB.Chd.X.ChdAccomp.Count\"\n"
     ]
    },
    {
     "name": "stderr",
     "output_type": "stream",
     "text": [
      "[vizard.snorkel.augmentation.ComposeTFAugmentation: 10-24 16:15:47] {438} INFO - * TransformationFunction \"AddOrderedNoiseChdAccomp\" is being used on column \"p1.SecB.Chd.X.ChdAccomp.Count\"\n"
     ]
    },
    {
     "name": "stdout",
     "output_type": "stream",
     "text": [
      "[vizard.snorkel.augmentation.ComposeTFAugmentation: 10-24 16:15:47] {438} INFO - * TransformationFunction \"AddOrderedNoiseChdAccomp\" is being used on column \"p1.SecC.Chd.X.ChdAccomp.Count\"\n"
     ]
    },
    {
     "name": "stderr",
     "output_type": "stream",
     "text": [
      "[vizard.snorkel.augmentation.ComposeTFAugmentation: 10-24 16:15:47] {438} INFO - * TransformationFunction \"AddOrderedNoiseChdAccomp\" is being used on column \"p1.SecC.Chd.X.ChdAccomp.Count\"\n",
      "100%|██████████| 238/238 [00:01<00:00, 214.60it/s]\n"
     ]
    },
    {
     "name": "stdout",
     "output_type": "stream",
     "text": [
      "[__main__: 10-24 16:15:48] {267} INFO - Original dataset size: 238\n"
     ]
    },
    {
     "name": "stderr",
     "output_type": "stream",
     "text": [
      "[__main__: 10-24 16:15:48] {267} INFO - Original dataset size: 238\n"
     ]
    },
    {
     "name": "stdout",
     "output_type": "stream",
     "text": [
      "[__main__: 10-24 16:15:48] {268} INFO - Augmented dataset size: 476\n"
     ]
    },
    {
     "name": "stderr",
     "output_type": "stream",
     "text": [
      "[__main__: 10-24 16:15:48] {268} INFO - Augmented dataset size: 476\n"
     ]
    },
    {
     "name": "stdout",
     "output_type": "stream",
     "text": [
      "[__main__: 10-24 16:15:48] {269} INFO - \t\t↑↑↑ Finishing augmentation via snorkel (TFs) ↑↑↑\n"
     ]
    },
    {
     "name": "stderr",
     "output_type": "stream",
     "text": [
      "[__main__: 10-24 16:15:48] {269} INFO - \t\t↑↑↑ Finishing augmentation via snorkel (TFs) ↑↑↑\n"
     ]
    },
    {
     "name": "stdout",
     "output_type": "stream",
     "text": [
      "[__main__: 10-24 16:15:48] {271} INFO - \t\t↓↓↓ Starting slicing by snorkel (SFs) ↓↓↓\n"
     ]
    },
    {
     "name": "stderr",
     "output_type": "stream",
     "text": [
      "[__main__: 10-24 16:15:48] {271} INFO - \t\t↓↓↓ Starting slicing by snorkel (SFs) ↓↓↓\n"
     ]
    },
    {
     "name": "stdout",
     "output_type": "stream",
     "text": [
      "[vizard.snorkel.slicing.ComposeSFSlicing: 10-24 16:15:48] {158} INFO - Following slicing functions are being used:\n"
     ]
    },
    {
     "name": "stderr",
     "output_type": "stream",
     "text": [
      "[vizard.snorkel.slicing.ComposeSFSlicing: 10-24 16:15:48] {158} INFO - Following slicing functions are being used:\n"
     ]
    },
    {
     "name": "stdout",
     "output_type": "stream",
     "text": [
      "[vizard.snorkel.slicing.ComposeSFSlicing: 10-24 16:15:48] {160} INFO - * SlicingFunction \"SinglePerson\" is being used on column \"p1.SecA.App.ChdMStatus\"\n"
     ]
    },
    {
     "name": "stderr",
     "output_type": "stream",
     "text": [
      "[vizard.snorkel.slicing.ComposeSFSlicing: 10-24 16:15:48] {160} INFO - * SlicingFunction \"SinglePerson\" is being used on column \"p1.SecA.App.ChdMStatus\"\n",
      "100%|██████████| 476/476 [00:00<00:00, 44312.26it/s]\n"
     ]
    },
    {
     "name": "stdout",
     "output_type": "stream",
     "text": [
      "[__main__: 10-24 16:15:48] {278} INFO -      P1.PD.AliasName.AliasNameIndicator.AliasNameIndicator P1.PD.Sex.Sex  \\\n",
      "291                                              False            Female   \n",
      "205                                              False            Female   \n",
      "287                                              False              Male   \n",
      "205                                              False            Female   \n",
      "35                                               False              Male   \n",
      "\n",
      "     P1.PD.CurrCOR.Row2.Country  P1.PD.CurrCOR.Row2.Status  \\\n",
      "291                    1.107154                          3   \n",
      "205                    1.107154                          1   \n",
      "287                    1.107154                          1   \n",
      "205                    1.107154                          1   \n",
      "35                     1.107154                          1   \n",
      "\n",
      "     P1.PD.PrevCOR.Row2.Country  P1.PD.PrevCOR.Row3.Country  \\\n",
      "291                    2.099993                    1.429856   \n",
      "205                    1.429856                    1.429856   \n",
      "287                    1.429856                    1.429856   \n",
      "205                    1.429856                    1.429856   \n",
      "35                     1.429856                    1.429856   \n",
      "\n",
      "     P1.PD.SameAsCORIndicator P1.PD.CWA.Row2.Country  P1.PD.CWA.Row2.Status  \\\n",
      "291                     False                 TURKEY                      3   \n",
      "205                      True                 TURKEY                      6   \n",
      "287                     False                 TURKEY                      3   \n",
      "205                      True                 TURKEY                      6   \n",
      "35                      False                 TURKEY                      3   \n",
      "\n",
      "     P2.MS.SecA.PrevMarrIndicator  ... p1.SecC.Chd.X.ChdCOB.ForeignerCount  \\\n",
      "291                         False  ...                                   0   \n",
      "205                         False  ...                                   0   \n",
      "287                         False  ...                                   0   \n",
      "205                         False  ...                                   0   \n",
      "35                          False  ...                                   0   \n",
      "\n",
      "     p1.SecB.ChdMoFaSps.X.ChdCOB.ForeignerCount p1.SecB.Chd.X.ChdAccomp.Count  \\\n",
      "291                                           0                             0   \n",
      "205                                           0                             0   \n",
      "287                                           0                             0   \n",
      "205                                           0                             0   \n",
      "35                                            0                             0   \n",
      "\n",
      "    p1.SecA.ParAccomp.Count  p1.SecA.Sps.SpsAccomp.Count  \\\n",
      "291                       0                            0   \n",
      "205                       2                            0   \n",
      "287                       0                            0   \n",
      "205                       2                            0   \n",
      "35                        0                            0   \n",
      "\n",
      "    p1.SecC.Chd.X.ChdAccomp.Count  p1.SecB.Chd.X.ChdRel.ChdCount  \\\n",
      "291                             0                              0   \n",
      "205                             0                              0   \n",
      "287                             0                              0   \n",
      "205                             0                              0   \n",
      "35                              0                              0   \n",
      "\n",
      "    p1.SecC.Chd.X.ChdRel.ChdCount  p1.SecX.LongDistAddr p1.SecX.ForeignAddr  \n",
      "291                             3                     0                   1  \n",
      "205                             0                     0                   0  \n",
      "287                             5                     2                   3  \n",
      "205                             0                     0                   0  \n",
      "35                              4                     1                   0  \n",
      "\n",
      "[5 rows x 89 columns]\n"
     ]
    },
    {
     "name": "stderr",
     "output_type": "stream",
     "text": [
      "[__main__: 10-24 16:15:48] {278} INFO -      P1.PD.AliasName.AliasNameIndicator.AliasNameIndicator P1.PD.Sex.Sex  \\\n",
      "291                                              False            Female   \n",
      "205                                              False            Female   \n",
      "287                                              False              Male   \n",
      "205                                              False            Female   \n",
      "35                                               False              Male   \n",
      "\n",
      "     P1.PD.CurrCOR.Row2.Country  P1.PD.CurrCOR.Row2.Status  \\\n",
      "291                    1.107154                          3   \n",
      "205                    1.107154                          1   \n",
      "287                    1.107154                          1   \n",
      "205                    1.107154                          1   \n",
      "35                     1.107154                          1   \n",
      "\n",
      "     P1.PD.PrevCOR.Row2.Country  P1.PD.PrevCOR.Row3.Country  \\\n",
      "291                    2.099993                    1.429856   \n",
      "205                    1.429856                    1.429856   \n",
      "287                    1.429856                    1.429856   \n",
      "205                    1.429856                    1.429856   \n",
      "35                     1.429856                    1.429856   \n",
      "\n",
      "     P1.PD.SameAsCORIndicator P1.PD.CWA.Row2.Country  P1.PD.CWA.Row2.Status  \\\n",
      "291                     False                 TURKEY                      3   \n",
      "205                      True                 TURKEY                      6   \n",
      "287                     False                 TURKEY                      3   \n",
      "205                      True                 TURKEY                      6   \n",
      "35                      False                 TURKEY                      3   \n",
      "\n",
      "     P2.MS.SecA.PrevMarrIndicator  ... p1.SecC.Chd.X.ChdCOB.ForeignerCount  \\\n",
      "291                         False  ...                                   0   \n",
      "205                         False  ...                                   0   \n",
      "287                         False  ...                                   0   \n",
      "205                         False  ...                                   0   \n",
      "35                          False  ...                                   0   \n",
      "\n",
      "     p1.SecB.ChdMoFaSps.X.ChdCOB.ForeignerCount p1.SecB.Chd.X.ChdAccomp.Count  \\\n",
      "291                                           0                             0   \n",
      "205                                           0                             0   \n",
      "287                                           0                             0   \n",
      "205                                           0                             0   \n",
      "35                                            0                             0   \n",
      "\n",
      "    p1.SecA.ParAccomp.Count  p1.SecA.Sps.SpsAccomp.Count  \\\n",
      "291                       0                            0   \n",
      "205                       2                            0   \n",
      "287                       0                            0   \n",
      "205                       2                            0   \n",
      "35                        0                            0   \n",
      "\n",
      "    p1.SecC.Chd.X.ChdAccomp.Count  p1.SecB.Chd.X.ChdRel.ChdCount  \\\n",
      "291                             0                              0   \n",
      "205                             0                              0   \n",
      "287                             0                              0   \n",
      "205                             0                              0   \n",
      "35                              0                              0   \n",
      "\n",
      "    p1.SecC.Chd.X.ChdRel.ChdCount  p1.SecX.LongDistAddr p1.SecX.ForeignAddr  \n",
      "291                             3                     0                   1  \n",
      "205                             0                     0                   0  \n",
      "287                             5                     2                   3  \n",
      "205                             0                     0                   0  \n",
      "35                              4                     1                   0  \n",
      "\n",
      "[5 rows x 89 columns]\n",
      "100%|██████████| 476/476 [00:00<00:00, 45953.34it/s]\n"
     ]
    },
    {
     "name": "stdout",
     "output_type": "stream",
     "text": [
      "[__main__: 10-24 16:15:48] {285} INFO - \t\t↑↑↑ Finishing slicing by snorkel (SFs) ↑↑↑\n"
     ]
    },
    {
     "name": "stderr",
     "output_type": "stream",
     "text": [
      "[__main__: 10-24 16:15:48] {285} INFO - \t\t↑↑↑ Finishing slicing by snorkel (SFs) ↑↑↑\n"
     ]
    },
    {
     "name": "stdout",
     "output_type": "stream",
     "text": [
      "[__main__: 10-24 16:15:48] {287} INFO - \t\t↓↓↓ Starting preprocessing on directly DVC `vX.X.X-dev` data ↓↓↓\n"
     ]
    },
    {
     "name": "stderr",
     "output_type": "stream",
     "text": [
      "[__main__: 10-24 16:15:48] {287} INFO - \t\t↓↓↓ Starting preprocessing on directly DVC `vX.X.X-dev` data ↓↓↓\n"
     ]
    },
    {
     "name": "stdout",
     "output_type": "stream",
     "text": [
      "[vizard.models.preprocessors.coreTrainTestEvalSplit: 10-24 16:15:48] {103} INFO - Config file \"/home/nik/visaland-visa-form-utility/vizard/models/preprocessors/data/canada_train_test_eval_split.json\" is being used\n"
     ]
    },
    {
     "name": "stderr",
     "output_type": "stream",
     "text": [
      "[vizard.models.preprocessors.coreTrainTestEvalSplit: 10-24 16:15:48] {103} INFO - Config file \"/home/nik/visaland-visa-form-utility/vizard/models/preprocessors/data/canada_train_test_eval_split.json\" is being used\n"
     ]
    },
    {
     "name": "stdout",
     "output_type": "stream",
     "text": [
      "[vizard.models.preprocessors.coreColumnTransformerConfig: 10-24 16:15:48] {589} INFO - Config file \"/home/nik/visaland-visa-form-utility/vizard/models/preprocessors/data/canada_column_transformer_config_x.json\" is being used\n"
     ]
    },
    {
     "name": "stderr",
     "output_type": "stream",
     "text": [
      "[vizard.models.preprocessors.coreColumnTransformerConfig: 10-24 16:15:48] {589} INFO - Config file \"/home/nik/visaland-visa-form-utility/vizard/models/preprocessors/data/canada_column_transformer_config_x.json\" is being used\n"
     ]
    },
    {
     "name": "stdout",
     "output_type": "stream",
     "text": [
      "[vizard.models.preprocessors.coreColumnTransformerConfig: 10-24 16:15:48] {589} INFO - Config file \"/home/nik/visaland-visa-form-utility/vizard/models/preprocessors/data/canada_column_transformer_config_x.json\" is being used\n"
     ]
    },
    {
     "name": "stderr",
     "output_type": "stream",
     "text": [
      "[vizard.models.preprocessors.coreColumnTransformerConfig: 10-24 16:15:48] {589} INFO - Config file \"/home/nik/visaland-visa-form-utility/vizard/models/preprocessors/data/canada_column_transformer_config_x.json\" is being used\n",
      "/home/nik/anaconda3/envs/py38l/lib/python3.8/site-packages/sklearn/compose/_column_transformer.py:1044: UserWarning: This pattern is interpreted as a regular expression, and has match groups. To actually get the groups, use str.extract.\n",
      "  cols = cols[cols.str.contains(self.pattern, regex=True)]\n"
     ]
    },
    {
     "name": "stdout",
     "output_type": "stream",
     "text": [
      "[vizard.models.preprocessors.helpers.func: 10-24 16:15:49] {142} DEBUG - preview_column_transformer() -> \n"
     ]
    },
    {
     "name": "stderr",
     "output_type": "stream",
     "text": [
      "[vizard.models.preprocessors.helpers.func: 10-24 16:15:49] {142} DEBUG - preview_column_transformer() -> \n"
     ]
    },
    {
     "name": "stdout",
     "output_type": "stream",
     "text": [
      "[vizard.models.preprocessors.helpers: 10-24 16:15:49] {140} INFO - For \"ChdMStatus_categorical_OneHotEncoder\" transformer: \n"
     ]
    },
    {
     "name": "stderr",
     "output_type": "stream",
     "text": [
      "[vizard.models.preprocessors.helpers: 10-24 16:15:49] {140} INFO - For \"ChdMStatus_categorical_OneHotEncoder\" transformer: \n"
     ]
    },
    {
     "name": "stdout",
     "output_type": "stream",
     "text": [
      "[vizard.models.preprocessors.helpers: 10-24 16:15:49] {141} INFO - 14 columns are affected. \n"
     ]
    },
    {
     "name": "stderr",
     "output_type": "stream",
     "text": [
      "[vizard.models.preprocessors.helpers: 10-24 16:15:49] {141} INFO - 14 columns are affected. \n"
     ]
    },
    {
     "name": "stdout",
     "output_type": "stream",
     "text": [
      "[vizard.models.preprocessors.helpers: 10-24 16:15:49] {142} INFO - On selected columns, 60 unique values exist. It is expected to have 46 new columns and 84 columns are newly produced.\n",
      "\n"
     ]
    },
    {
     "name": "stderr",
     "output_type": "stream",
     "text": [
      "[vizard.models.preprocessors.helpers: 10-24 16:15:49] {142} INFO - On selected columns, 60 unique values exist. It is expected to have 46 new columns and 84 columns are newly produced.\n",
      "\n"
     ]
    },
    {
     "name": "stdout",
     "output_type": "stream",
     "text": [
      "[vizard.models.preprocessors.helpers: 10-24 16:15:49] {140} INFO - For \"binary_categorical_OneHotEncoder\" transformer: \n"
     ]
    },
    {
     "name": "stderr",
     "output_type": "stream",
     "text": [
      "[vizard.models.preprocessors.helpers: 10-24 16:15:49] {140} INFO - For \"binary_categorical_OneHotEncoder\" transformer: \n"
     ]
    },
    {
     "name": "stdout",
     "output_type": "stream",
     "text": [
      "[vizard.models.preprocessors.helpers: 10-24 16:15:49] {141} INFO - 8 columns are affected. \n"
     ]
    },
    {
     "name": "stderr",
     "output_type": "stream",
     "text": [
      "[vizard.models.preprocessors.helpers: 10-24 16:15:49] {141} INFO - 8 columns are affected. \n"
     ]
    },
    {
     "name": "stdout",
     "output_type": "stream",
     "text": [
      "[vizard.models.preprocessors.helpers: 10-24 16:15:49] {142} INFO - On selected columns, 16 unique values exist. It is expected to have 8 new columns and 8 columns are newly produced.\n",
      "\n"
     ]
    },
    {
     "name": "stderr",
     "output_type": "stream",
     "text": [
      "[vizard.models.preprocessors.helpers: 10-24 16:15:49] {142} INFO - On selected columns, 16 unique values exist. It is expected to have 8 new columns and 8 columns are newly produced.\n",
      "\n"
     ]
    },
    {
     "name": "stdout",
     "output_type": "stream",
     "text": [
      "[vizard.models.preprocessors.helpers: 10-24 16:15:49] {140} INFO - For \"CORStatus_categorical_OneHotEncoder\" transformer: \n"
     ]
    },
    {
     "name": "stderr",
     "output_type": "stream",
     "text": [
      "[vizard.models.preprocessors.helpers: 10-24 16:15:49] {140} INFO - For \"CORStatus_categorical_OneHotEncoder\" transformer: \n"
     ]
    },
    {
     "name": "stdout",
     "output_type": "stream",
     "text": [
      "[vizard.models.preprocessors.helpers: 10-24 16:15:49] {141} INFO - 1 columns are affected. \n"
     ]
    },
    {
     "name": "stderr",
     "output_type": "stream",
     "text": [
      "[vizard.models.preprocessors.helpers: 10-24 16:15:49] {141} INFO - 1 columns are affected. \n"
     ]
    },
    {
     "name": "stdout",
     "output_type": "stream",
     "text": [
      "[vizard.models.preprocessors.helpers: 10-24 16:15:49] {142} INFO - On selected columns, 3 unique values exist. It is expected to have 2 new columns and 2 columns are newly produced.\n",
      "\n"
     ]
    },
    {
     "name": "stderr",
     "output_type": "stream",
     "text": [
      "[vizard.models.preprocessors.helpers: 10-24 16:15:49] {142} INFO - On selected columns, 3 unique values exist. It is expected to have 2 new columns and 2 columns are newly produced.\n",
      "\n"
     ]
    },
    {
     "name": "stdout",
     "output_type": "stream",
     "text": [
      "[vizard.models.preprocessors.helpers: 10-24 16:15:49] {140} INFO - For \"CWAStatus_categorical_OneHotEncoder\" transformer: \n"
     ]
    },
    {
     "name": "stderr",
     "output_type": "stream",
     "text": [
      "[vizard.models.preprocessors.helpers: 10-24 16:15:49] {140} INFO - For \"CWAStatus_categorical_OneHotEncoder\" transformer: \n"
     ]
    },
    {
     "name": "stdout",
     "output_type": "stream",
     "text": [
      "[vizard.models.preprocessors.helpers: 10-24 16:15:49] {141} INFO - 1 columns are affected. \n"
     ]
    },
    {
     "name": "stderr",
     "output_type": "stream",
     "text": [
      "[vizard.models.preprocessors.helpers: 10-24 16:15:49] {141} INFO - 1 columns are affected. \n"
     ]
    },
    {
     "name": "stdout",
     "output_type": "stream",
     "text": [
      "[vizard.models.preprocessors.helpers: 10-24 16:15:49] {142} INFO - On selected columns, 3 unique values exist. It is expected to have 2 new columns and 2 columns are newly produced.\n",
      "\n"
     ]
    },
    {
     "name": "stderr",
     "output_type": "stream",
     "text": [
      "[vizard.models.preprocessors.helpers: 10-24 16:15:49] {142} INFO - On selected columns, 3 unique values exist. It is expected to have 2 new columns and 2 columns are newly produced.\n",
      "\n"
     ]
    },
    {
     "name": "stdout",
     "output_type": "stream",
     "text": [
      "[vizard.models.preprocessors.helpers: 10-24 16:15:49] {140} INFO - For \"Country_categorical_OneHotEncoder\" transformer: \n"
     ]
    },
    {
     "name": "stderr",
     "output_type": "stream",
     "text": [
      "[vizard.models.preprocessors.helpers: 10-24 16:15:49] {140} INFO - For \"Country_categorical_OneHotEncoder\" transformer: \n"
     ]
    },
    {
     "name": "stdout",
     "output_type": "stream",
     "text": [
      "[vizard.models.preprocessors.helpers: 10-24 16:15:49] {141} INFO - 1 columns are affected. \n"
     ]
    },
    {
     "name": "stderr",
     "output_type": "stream",
     "text": [
      "[vizard.models.preprocessors.helpers: 10-24 16:15:49] {141} INFO - 1 columns are affected. \n"
     ]
    },
    {
     "name": "stdout",
     "output_type": "stream",
     "text": [
      "[vizard.models.preprocessors.helpers: 10-24 16:15:49] {142} INFO - On selected columns, 5 unique values exist. It is expected to have 4 new columns and 4 columns are newly produced.\n",
      "\n"
     ]
    },
    {
     "name": "stderr",
     "output_type": "stream",
     "text": [
      "[vizard.models.preprocessors.helpers: 10-24 16:15:49] {142} INFO - On selected columns, 5 unique values exist. It is expected to have 4 new columns and 4 columns are newly produced.\n",
      "\n"
     ]
    },
    {
     "name": "stdout",
     "output_type": "stream",
     "text": [
      "[vizard.models.preprocessors.helpers: 10-24 16:15:49] {140} INFO - For \"Prps_categorical_OneHotEncoder\" transformer: \n"
     ]
    },
    {
     "name": "stderr",
     "output_type": "stream",
     "text": [
      "[vizard.models.preprocessors.helpers: 10-24 16:15:49] {140} INFO - For \"Prps_categorical_OneHotEncoder\" transformer: \n"
     ]
    },
    {
     "name": "stdout",
     "output_type": "stream",
     "text": [
      "[vizard.models.preprocessors.helpers: 10-24 16:15:49] {141} INFO - 1 columns are affected. \n"
     ]
    },
    {
     "name": "stderr",
     "output_type": "stream",
     "text": [
      "[vizard.models.preprocessors.helpers: 10-24 16:15:49] {141} INFO - 1 columns are affected. \n"
     ]
    },
    {
     "name": "stdout",
     "output_type": "stream",
     "text": [
      "[vizard.models.preprocessors.helpers: 10-24 16:15:49] {142} INFO - On selected columns, 5 unique values exist. It is expected to have 4 new columns and 4 columns are newly produced.\n",
      "\n"
     ]
    },
    {
     "name": "stderr",
     "output_type": "stream",
     "text": [
      "[vizard.models.preprocessors.helpers: 10-24 16:15:49] {142} INFO - On selected columns, 5 unique values exist. It is expected to have 4 new columns and 4 columns are newly produced.\n",
      "\n"
     ]
    },
    {
     "name": "stdout",
     "output_type": "stream",
     "text": [
      "[vizard.models.preprocessors.helpers: 10-24 16:15:49] {140} INFO - For \"Relationship_categorical_OneHotEncoder\" transformer: \n"
     ]
    },
    {
     "name": "stderr",
     "output_type": "stream",
     "text": [
      "[vizard.models.preprocessors.helpers: 10-24 16:15:49] {140} INFO - For \"Relationship_categorical_OneHotEncoder\" transformer: \n"
     ]
    },
    {
     "name": "stdout",
     "output_type": "stream",
     "text": [
      "[vizard.models.preprocessors.helpers: 10-24 16:15:49] {141} INFO - 2 columns are affected. \n"
     ]
    },
    {
     "name": "stderr",
     "output_type": "stream",
     "text": [
      "[vizard.models.preprocessors.helpers: 10-24 16:15:49] {141} INFO - 2 columns are affected. \n"
     ]
    },
    {
     "name": "stdout",
     "output_type": "stream",
     "text": [
      "[vizard.models.preprocessors.helpers: 10-24 16:15:49] {142} INFO - On selected columns, 11 unique values exist. It is expected to have 9 new columns and 9 columns are newly produced.\n",
      "\n"
     ]
    },
    {
     "name": "stderr",
     "output_type": "stream",
     "text": [
      "[vizard.models.preprocessors.helpers: 10-24 16:15:49] {142} INFO - On selected columns, 11 unique values exist. It is expected to have 9 new columns and 9 columns are newly produced.\n",
      "\n"
     ]
    },
    {
     "name": "stdout",
     "output_type": "stream",
     "text": [
      "[vizard.models.preprocessors.helpers: 10-24 16:15:49] {140} INFO - For \"Study_categorical_OneHotEncoder\" transformer: \n"
     ]
    },
    {
     "name": "stderr",
     "output_type": "stream",
     "text": [
      "[vizard.models.preprocessors.helpers: 10-24 16:15:49] {140} INFO - For \"Study_categorical_OneHotEncoder\" transformer: \n"
     ]
    },
    {
     "name": "stdout",
     "output_type": "stream",
     "text": [
      "[vizard.models.preprocessors.helpers: 10-24 16:15:49] {141} INFO - 1 columns are affected. \n"
     ]
    },
    {
     "name": "stderr",
     "output_type": "stream",
     "text": [
      "[vizard.models.preprocessors.helpers: 10-24 16:15:49] {141} INFO - 1 columns are affected. \n"
     ]
    },
    {
     "name": "stdout",
     "output_type": "stream",
     "text": [
      "[vizard.models.preprocessors.helpers: 10-24 16:15:49] {142} INFO - On selected columns, 6 unique values exist. It is expected to have 5 new columns and 5 columns are newly produced.\n",
      "\n"
     ]
    },
    {
     "name": "stderr",
     "output_type": "stream",
     "text": [
      "[vizard.models.preprocessors.helpers: 10-24 16:15:49] {142} INFO - On selected columns, 6 unique values exist. It is expected to have 5 new columns and 5 columns are newly produced.\n",
      "\n"
     ]
    },
    {
     "name": "stdout",
     "output_type": "stream",
     "text": [
      "[vizard.models.preprocessors.helpers: 10-24 16:15:49] {140} INFO - For \"SecBChdRel_categorical_OneHotEncoder\" transformer: \n"
     ]
    },
    {
     "name": "stderr",
     "output_type": "stream",
     "text": [
      "[vizard.models.preprocessors.helpers: 10-24 16:15:49] {140} INFO - For \"SecBChdRel_categorical_OneHotEncoder\" transformer: \n"
     ]
    },
    {
     "name": "stdout",
     "output_type": "stream",
     "text": [
      "[vizard.models.preprocessors.helpers: 10-24 16:15:49] {141} INFO - 4 columns are affected. \n"
     ]
    },
    {
     "name": "stderr",
     "output_type": "stream",
     "text": [
      "[vizard.models.preprocessors.helpers: 10-24 16:15:49] {141} INFO - 4 columns are affected. \n"
     ]
    },
    {
     "name": "stdout",
     "output_type": "stream",
     "text": [
      "[vizard.models.preprocessors.helpers: 10-24 16:15:49] {142} INFO - On selected columns, 12 unique values exist. It is expected to have 8 new columns and 8 columns are newly produced.\n",
      "\n"
     ]
    },
    {
     "name": "stderr",
     "output_type": "stream",
     "text": [
      "[vizard.models.preprocessors.helpers: 10-24 16:15:49] {142} INFO - On selected columns, 12 unique values exist. It is expected to have 8 new columns and 8 columns are newly produced.\n",
      "\n"
     ]
    },
    {
     "name": "stdout",
     "output_type": "stream",
     "text": [
      "[vizard.models.preprocessors.helpers: 10-24 16:15:49] {140} INFO - For \"SecCChdRel_categorical_OneHotEncoder\" transformer: \n"
     ]
    },
    {
     "name": "stderr",
     "output_type": "stream",
     "text": [
      "[vizard.models.preprocessors.helpers: 10-24 16:15:49] {140} INFO - For \"SecCChdRel_categorical_OneHotEncoder\" transformer: \n"
     ]
    },
    {
     "name": "stdout",
     "output_type": "stream",
     "text": [
      "[vizard.models.preprocessors.helpers: 10-24 16:15:49] {141} INFO - 7 columns are affected. \n"
     ]
    },
    {
     "name": "stderr",
     "output_type": "stream",
     "text": [
      "[vizard.models.preprocessors.helpers: 10-24 16:15:49] {141} INFO - 7 columns are affected. \n"
     ]
    },
    {
     "name": "stdout",
     "output_type": "stream",
     "text": [
      "[vizard.models.preprocessors.helpers: 10-24 16:15:49] {142} INFO - On selected columns, 21 unique values exist. It is expected to have 14 new columns and 14 columns are newly produced.\n",
      "\n"
     ]
    },
    {
     "name": "stderr",
     "output_type": "stream",
     "text": [
      "[vizard.models.preprocessors.helpers: 10-24 16:15:49] {142} INFO - On selected columns, 21 unique values exist. It is expected to have 14 new columns and 14 columns are newly produced.\n",
      "\n"
     ]
    },
    {
     "name": "stdout",
     "output_type": "stream",
     "text": [
      "[vizard.models.preprocessors.helpers: 10-24 16:15:49] {140} INFO - For \"Occ_categorical_OneHotEncoder\" transformer: \n"
     ]
    },
    {
     "name": "stderr",
     "output_type": "stream",
     "text": [
      "[vizard.models.preprocessors.helpers: 10-24 16:15:49] {140} INFO - For \"Occ_categorical_OneHotEncoder\" transformer: \n"
     ]
    },
    {
     "name": "stdout",
     "output_type": "stream",
     "text": [
      "[vizard.models.preprocessors.helpers: 10-24 16:15:49] {141} INFO - 3 columns are affected. \n"
     ]
    },
    {
     "name": "stderr",
     "output_type": "stream",
     "text": [
      "[vizard.models.preprocessors.helpers: 10-24 16:15:49] {141} INFO - 3 columns are affected. \n"
     ]
    },
    {
     "name": "stdout",
     "output_type": "stream",
     "text": [
      "[vizard.models.preprocessors.helpers: 10-24 16:15:49] {142} INFO - On selected columns, 18 unique values exist. It is expected to have 15 new columns and 18 columns are newly produced.\n",
      "\n"
     ]
    },
    {
     "name": "stderr",
     "output_type": "stream",
     "text": [
      "[vizard.models.preprocessors.helpers: 10-24 16:15:49] {142} INFO - On selected columns, 18 unique values exist. It is expected to have 15 new columns and 18 columns are newly produced.\n",
      "\n"
     ]
    },
    {
     "name": "stdout",
     "output_type": "stream",
     "text": [
      "[__main__: 10-24 16:15:49] {361} INFO - [                                         0\n",
      "P1.PD.CurrCOR.Row2.Country_og     1.107154\n",
      "P1.PD.CurrCOR.Row2.Country_tf    -0.064957\n",
      "P1.PD.PrevCOR.Row2.Country_og     1.429856\n",
      "P1.PD.PrevCOR.Row2.Country_tf    -0.046690\n",
      "P1.PD.PrevCOR.Row3.Country_og     1.429856\n",
      "...                                    ...\n",
      "p1.SecC.Chd.[4].ChdDOB.Period_tf -0.571796\n",
      "p1.SecC.Chd.[5].ChdDOB.Period_og  0.000000\n",
      "p1.SecC.Chd.[5].ChdDOB.Period_tf -0.394287\n",
      "p1.SecC.Chd.[6].ChdDOB.Period_og  0.000000\n",
      "p1.SecC.Chd.[6].ChdDOB.Period_tf -0.292062\n",
      "\n",
      "[68 rows x 1 columns]]\n"
     ]
    },
    {
     "name": "stderr",
     "output_type": "stream",
     "text": [
      "[__main__: 10-24 16:15:49] {361} INFO - [                                         0\n",
      "P1.PD.CurrCOR.Row2.Country_og     1.107154\n",
      "P1.PD.CurrCOR.Row2.Country_tf    -0.064957\n",
      "P1.PD.PrevCOR.Row2.Country_og     1.429856\n",
      "P1.PD.PrevCOR.Row2.Country_tf    -0.046690\n",
      "P1.PD.PrevCOR.Row3.Country_og     1.429856\n",
      "...                                    ...\n",
      "p1.SecC.Chd.[4].ChdDOB.Period_tf -0.571796\n",
      "p1.SecC.Chd.[5].ChdDOB.Period_og  0.000000\n",
      "p1.SecC.Chd.[5].ChdDOB.Period_tf -0.394287\n",
      "p1.SecC.Chd.[6].ChdDOB.Period_og  0.000000\n",
      "p1.SecC.Chd.[6].ChdDOB.Period_tf -0.292062\n",
      "\n",
      "[68 rows x 1 columns]]\n"
     ]
    },
    {
     "name": "stdout",
     "output_type": "stream",
     "text": [
      "[__main__: 10-24 16:15:49] {362} INFO - \t\t↑↑↑ Finished preprocessing on directly DVC `vX.X.X-dev` data ↑↑↑\n"
     ]
    },
    {
     "name": "stderr",
     "output_type": "stream",
     "text": [
      "[__main__: 10-24 16:15:49] {362} INFO - \t\t↑↑↑ Finished preprocessing on directly DVC `vX.X.X-dev` data ↑↑↑\n"
     ]
    },
    {
     "name": "stdout",
     "output_type": "stream",
     "text": [
      "[__main__: 10-24 16:15:49] {364} INFO - \t\t↓↓↓ Starting defining estimators models ↓↓↓\n"
     ]
    },
    {
     "name": "stderr",
     "output_type": "stream",
     "text": [
      "[__main__: 10-24 16:15:49] {364} INFO - \t\t↓↓↓ Starting defining estimators models ↓↓↓\n"
     ]
    },
    {
     "name": "stdout",
     "output_type": "stream",
     "text": [
      "[__main__: 10-24 16:15:49] {366} INFO - \t\t↑↑↑ Finished defining estimators models ↑↑↑\n"
     ]
    },
    {
     "name": "stderr",
     "output_type": "stream",
     "text": [
      "[__main__: 10-24 16:15:49] {366} INFO - \t\t↑↑↑ Finished defining estimators models ↑↑↑\n"
     ]
    },
    {
     "name": "stdout",
     "output_type": "stream",
     "text": [
      "[__main__: 10-24 16:15:49] {368} INFO - \t\t↓↓↓ Starting loading training config and training estimators ↓↓↓\n"
     ]
    },
    {
     "name": "stderr",
     "output_type": "stream",
     "text": [
      "[__main__: 10-24 16:15:49] {368} INFO - \t\t↓↓↓ Starting loading training config and training estimators ↓↓↓\n",
      "[flaml.automl: 10-24 16:15:49] {2600} INFO - task = classification\n"
     ]
    },
    {
     "name": "stdout",
     "output_type": "stream",
     "text": [
      "[flaml.automl: 10-24 16:15:49] {2600} INFO - task = classification\n"
     ]
    },
    {
     "name": "stderr",
     "output_type": "stream",
     "text": [
      "[flaml.automl: 10-24 16:15:49] {2600} INFO - task = classification\n",
      "[flaml.automl: 10-24 16:15:49] {2602} INFO - Data split method: stratified\n"
     ]
    },
    {
     "name": "stdout",
     "output_type": "stream",
     "text": [
      "[flaml.automl: 10-24 16:15:49] {2602} INFO - Data split method: stratified\n"
     ]
    },
    {
     "name": "stderr",
     "output_type": "stream",
     "text": [
      "[flaml.automl: 10-24 16:15:49] {2602} INFO - Data split method: stratified\n",
      "[flaml.automl: 10-24 16:15:49] {2605} INFO - Evaluation method: holdout\n"
     ]
    },
    {
     "name": "stdout",
     "output_type": "stream",
     "text": [
      "[flaml.automl: 10-24 16:15:49] {2605} INFO - Evaluation method: holdout\n"
     ]
    },
    {
     "name": "stderr",
     "output_type": "stream",
     "text": [
      "[flaml.automl: 10-24 16:15:49] {2605} INFO - Evaluation method: holdout\n",
      "[flaml.automl: 10-24 16:15:49] {2727} INFO - Minimizing error metric: log_loss\n"
     ]
    },
    {
     "name": "stdout",
     "output_type": "stream",
     "text": [
      "[flaml.automl: 10-24 16:15:49] {2727} INFO - Minimizing error metric: log_loss\n"
     ]
    },
    {
     "name": "stderr",
     "output_type": "stream",
     "text": [
      "[flaml.automl: 10-24 16:15:49] {2727} INFO - Minimizing error metric: log_loss\n",
      "[flaml.automl: 10-24 16:15:49] {2869} INFO - List of ML learners in AutoML Run: ['lgbm', 'rf', 'catboost', 'xgboost', 'extra_tree', 'xgb_limitdepth', 'lrl1']\n"
     ]
    },
    {
     "name": "stdout",
     "output_type": "stream",
     "text": [
      "[flaml.automl: 10-24 16:15:49] {2869} INFO - List of ML learners in AutoML Run: ['lgbm', 'rf', 'catboost', 'xgboost', 'extra_tree', 'xgb_limitdepth', 'lrl1']\n"
     ]
    },
    {
     "name": "stderr",
     "output_type": "stream",
     "text": [
      "[flaml.automl: 10-24 16:15:49] {2869} INFO - List of ML learners in AutoML Run: ['lgbm', 'rf', 'catboost', 'xgboost', 'extra_tree', 'xgb_limitdepth', 'lrl1']\n",
      "[flaml.automl: 10-24 16:15:49] {3174} INFO - iteration 0, current learner lgbm\n"
     ]
    },
    {
     "name": "stdout",
     "output_type": "stream",
     "text": [
      "[flaml.automl: 10-24 16:15:49] {3174} INFO - iteration 0, current learner lgbm\n"
     ]
    },
    {
     "name": "stderr",
     "output_type": "stream",
     "text": [
      "[flaml.automl: 10-24 16:15:49] {3174} INFO - iteration 0, current learner lgbm\n"
     ]
    },
    {
     "name": "stdout",
     "output_type": "stream",
     "text": [
      "[flaml.tune.tune: 10-24 16:15:49] {513} INFO - trial 1 config: {'n_estimators': 4, 'num_leaves': 4, 'min_child_samples': 20, 'learning_rate': 0.09999999999999995, 'log_max_bin': 8, 'colsample_bytree': 1.0, 'reg_alpha': 0.0009765625, 'reg_lambda': 1.0}\n"
     ]
    },
    {
     "name": "stderr",
     "output_type": "stream",
     "text": [
      "[flaml.tune.tune: 10-24 16:15:49] {513} INFO - trial 1 config: {'n_estimators': 4, 'num_leaves': 4, 'min_child_samples': 20, 'learning_rate': 0.09999999999999995, 'log_max_bin': 8, 'colsample_bytree': 1.0, 'reg_alpha': 0.0009765625, 'reg_lambda': 1.0}\n",
      "[flaml.automl: 10-24 16:15:49] {3307} INFO - Estimated sufficient time budget=847s. Estimated necessary time budget=21s.\n"
     ]
    },
    {
     "name": "stdout",
     "output_type": "stream",
     "text": [
      "[flaml.automl: 10-24 16:15:49] {3307} INFO - Estimated sufficient time budget=847s. Estimated necessary time budget=21s.\n"
     ]
    },
    {
     "name": "stderr",
     "output_type": "stream",
     "text": [
      "[flaml.automl: 10-24 16:15:49] {3307} INFO - Estimated sufficient time budget=847s. Estimated necessary time budget=21s.\n",
      "[flaml.automl: 10-24 16:15:49] {3354} INFO -  at 0.1s,\testimator lgbm's best error=0.4776,\tbest estimator lgbm's best error=0.4776\n"
     ]
    },
    {
     "name": "stdout",
     "output_type": "stream",
     "text": [
      "[flaml.automl: 10-24 16:15:49] {3354} INFO -  at 0.1s,\testimator lgbm's best error=0.4776,\tbest estimator lgbm's best error=0.4776\n"
     ]
    },
    {
     "name": "stderr",
     "output_type": "stream",
     "text": [
      "[flaml.automl: 10-24 16:15:49] {3354} INFO -  at 0.1s,\testimator lgbm's best error=0.4776,\tbest estimator lgbm's best error=0.4776\n",
      "[flaml.automl: 10-24 16:15:49] {3174} INFO - iteration 1, current learner lgbm\n"
     ]
    },
    {
     "name": "stdout",
     "output_type": "stream",
     "text": [
      "[flaml.automl: 10-24 16:15:49] {3174} INFO - iteration 1, current learner lgbm\n"
     ]
    },
    {
     "name": "stderr",
     "output_type": "stream",
     "text": [
      "[flaml.automl: 10-24 16:15:49] {3174} INFO - iteration 1, current learner lgbm\n"
     ]
    },
    {
     "name": "stdout",
     "output_type": "stream",
     "text": [
      "[flaml.tune.tune: 10-24 16:15:49] {513} INFO - trial 1 config: {'n_estimators': 4, 'num_leaves': 5, 'min_child_samples': 23, 'learning_rate': 0.04090133312716447, 'log_max_bin': 9, 'colsample_bytree': 0.9049476394314453, 'reg_alpha': 0.0009765625, 'reg_lambda': 7.234663956270828}\n"
     ]
    },
    {
     "name": "stderr",
     "output_type": "stream",
     "text": [
      "[flaml.tune.tune: 10-24 16:15:49] {513} INFO - trial 1 config: {'n_estimators': 4, 'num_leaves': 5, 'min_child_samples': 23, 'learning_rate': 0.04090133312716447, 'log_max_bin': 9, 'colsample_bytree': 0.9049476394314453, 'reg_alpha': 0.0009765625, 'reg_lambda': 7.234663956270828}\n",
      "[flaml.automl: 10-24 16:15:49] {3354} INFO -  at 0.3s,\testimator lgbm's best error=0.4776,\tbest estimator lgbm's best error=0.4776\n"
     ]
    },
    {
     "name": "stdout",
     "output_type": "stream",
     "text": [
      "[flaml.automl: 10-24 16:15:49] {3354} INFO -  at 0.3s,\testimator lgbm's best error=0.4776,\tbest estimator lgbm's best error=0.4776\n"
     ]
    },
    {
     "name": "stderr",
     "output_type": "stream",
     "text": [
      "[flaml.automl: 10-24 16:15:49] {3354} INFO -  at 0.3s,\testimator lgbm's best error=0.4776,\tbest estimator lgbm's best error=0.4776\n",
      "[flaml.automl: 10-24 16:15:49] {3174} INFO - iteration 2, current learner lgbm\n"
     ]
    },
    {
     "name": "stdout",
     "output_type": "stream",
     "text": [
      "[flaml.automl: 10-24 16:15:49] {3174} INFO - iteration 2, current learner lgbm\n"
     ]
    },
    {
     "name": "stderr",
     "output_type": "stream",
     "text": [
      "[flaml.automl: 10-24 16:15:49] {3174} INFO - iteration 2, current learner lgbm\n"
     ]
    },
    {
     "name": "stdout",
     "output_type": "stream",
     "text": [
      "[flaml.tune.tune: 10-24 16:15:49] {513} INFO - trial 1 config: {'n_estimators': 8, 'num_leaves': 4, 'min_child_samples': 17, 'learning_rate': 0.24449080837804102, 'log_max_bin': 8, 'colsample_bytree': 1.0, 'reg_alpha': 0.003877889357535574, 'reg_lambda': 0.13822342074827465}\n"
     ]
    },
    {
     "name": "stderr",
     "output_type": "stream",
     "text": [
      "[flaml.tune.tune: 10-24 16:15:49] {513} INFO - trial 1 config: {'n_estimators': 8, 'num_leaves': 4, 'min_child_samples': 17, 'learning_rate': 0.24449080837804102, 'log_max_bin': 8, 'colsample_bytree': 1.0, 'reg_alpha': 0.003877889357535574, 'reg_lambda': 0.13822342074827465}\n",
      "[flaml.automl: 10-24 16:15:50] {3354} INFO -  at 0.4s,\testimator lgbm's best error=0.3813,\tbest estimator lgbm's best error=0.3813\n"
     ]
    },
    {
     "name": "stdout",
     "output_type": "stream",
     "text": [
      "[flaml.automl: 10-24 16:15:50] {3354} INFO -  at 0.4s,\testimator lgbm's best error=0.3813,\tbest estimator lgbm's best error=0.3813\n"
     ]
    },
    {
     "name": "stderr",
     "output_type": "stream",
     "text": [
      "[flaml.automl: 10-24 16:15:50] {3354} INFO -  at 0.4s,\testimator lgbm's best error=0.3813,\tbest estimator lgbm's best error=0.3813\n",
      "[flaml.automl: 10-24 16:15:50] {3174} INFO - iteration 3, current learner lgbm\n"
     ]
    },
    {
     "name": "stdout",
     "output_type": "stream",
     "text": [
      "[flaml.automl: 10-24 16:15:50] {3174} INFO - iteration 3, current learner lgbm\n"
     ]
    },
    {
     "name": "stderr",
     "output_type": "stream",
     "text": [
      "[flaml.automl: 10-24 16:15:50] {3174} INFO - iteration 3, current learner lgbm\n"
     ]
    },
    {
     "name": "stdout",
     "output_type": "stream",
     "text": [
      "[flaml.tune.tune: 10-24 16:15:50] {513} INFO - trial 1 config: {'n_estimators': 5, 'num_leaves': 4, 'min_child_samples': 14, 'learning_rate': 0.18851563460285517, 'log_max_bin': 8, 'colsample_bytree': 0.9041546041688525, 'reg_alpha': 0.002406913716941263, 'reg_lambda': 0.058443314603953175}\n"
     ]
    },
    {
     "name": "stderr",
     "output_type": "stream",
     "text": [
      "[flaml.tune.tune: 10-24 16:15:50] {513} INFO - trial 1 config: {'n_estimators': 5, 'num_leaves': 4, 'min_child_samples': 14, 'learning_rate': 0.18851563460285517, 'log_max_bin': 8, 'colsample_bytree': 0.9041546041688525, 'reg_alpha': 0.002406913716941263, 'reg_lambda': 0.058443314603953175}\n",
      "[flaml.automl: 10-24 16:15:50] {3354} INFO -  at 0.6s,\testimator lgbm's best error=0.3813,\tbest estimator lgbm's best error=0.3813\n"
     ]
    },
    {
     "name": "stdout",
     "output_type": "stream",
     "text": [
      "[flaml.automl: 10-24 16:15:50] {3354} INFO -  at 0.6s,\testimator lgbm's best error=0.3813,\tbest estimator lgbm's best error=0.3813\n"
     ]
    },
    {
     "name": "stderr",
     "output_type": "stream",
     "text": [
      "[flaml.automl: 10-24 16:15:50] {3354} INFO -  at 0.6s,\testimator lgbm's best error=0.3813,\tbest estimator lgbm's best error=0.3813\n",
      "[flaml.automl: 10-24 16:15:50] {3174} INFO - iteration 4, current learner lgbm\n"
     ]
    },
    {
     "name": "stdout",
     "output_type": "stream",
     "text": [
      "[flaml.automl: 10-24 16:15:50] {3174} INFO - iteration 4, current learner lgbm\n"
     ]
    },
    {
     "name": "stderr",
     "output_type": "stream",
     "text": [
      "[flaml.automl: 10-24 16:15:50] {3174} INFO - iteration 4, current learner lgbm\n"
     ]
    },
    {
     "name": "stdout",
     "output_type": "stream",
     "text": [
      "[flaml.tune.tune: 10-24 16:15:50] {513} INFO - trial 1 config: {'n_estimators': 14, 'num_leaves': 11, 'min_child_samples': 21, 'learning_rate': 0.31708646079820985, 'log_max_bin': 8, 'colsample_bytree': 1.0, 'reg_alpha': 0.006247845846505115, 'reg_lambda': 0.3269101722382837}\n"
     ]
    },
    {
     "name": "stderr",
     "output_type": "stream",
     "text": [
      "[flaml.tune.tune: 10-24 16:15:50] {513} INFO - trial 1 config: {'n_estimators': 14, 'num_leaves': 11, 'min_child_samples': 21, 'learning_rate': 0.31708646079820985, 'log_max_bin': 8, 'colsample_bytree': 1.0, 'reg_alpha': 0.006247845846505115, 'reg_lambda': 0.3269101722382837}\n",
      "[flaml.automl: 10-24 16:15:50] {3354} INFO -  at 0.6s,\testimator lgbm's best error=0.3168,\tbest estimator lgbm's best error=0.3168\n"
     ]
    },
    {
     "name": "stdout",
     "output_type": "stream",
     "text": [
      "[flaml.automl: 10-24 16:15:50] {3354} INFO -  at 0.6s,\testimator lgbm's best error=0.3168,\tbest estimator lgbm's best error=0.3168\n"
     ]
    },
    {
     "name": "stderr",
     "output_type": "stream",
     "text": [
      "[flaml.automl: 10-24 16:15:50] {3354} INFO -  at 0.6s,\testimator lgbm's best error=0.3168,\tbest estimator lgbm's best error=0.3168\n",
      "[flaml.automl: 10-24 16:15:50] {3174} INFO - iteration 5, current learner lgbm\n"
     ]
    },
    {
     "name": "stdout",
     "output_type": "stream",
     "text": [
      "[flaml.automl: 10-24 16:15:50] {3174} INFO - iteration 5, current learner lgbm\n"
     ]
    },
    {
     "name": "stderr",
     "output_type": "stream",
     "text": [
      "[flaml.automl: 10-24 16:15:50] {3174} INFO - iteration 5, current learner lgbm\n"
     ]
    },
    {
     "name": "stdout",
     "output_type": "stream",
     "text": [
      "[flaml.tune.tune: 10-24 16:15:50] {513} INFO - trial 1 config: {'n_estimators': 10, 'num_leaves': 19, 'min_child_samples': 22, 'learning_rate': 0.29746036065257914, 'log_max_bin': 7, 'colsample_bytree': 1.0, 'reg_alpha': 0.0009765625, 'reg_lambda': 0.30019204468137667}\n"
     ]
    },
    {
     "name": "stderr",
     "output_type": "stream",
     "text": [
      "[flaml.tune.tune: 10-24 16:15:50] {513} INFO - trial 1 config: {'n_estimators': 10, 'num_leaves': 19, 'min_child_samples': 22, 'learning_rate': 0.29746036065257914, 'log_max_bin': 7, 'colsample_bytree': 1.0, 'reg_alpha': 0.0009765625, 'reg_lambda': 0.30019204468137667}\n",
      "[flaml.automl: 10-24 16:15:50] {3354} INFO -  at 0.8s,\testimator lgbm's best error=0.2750,\tbest estimator lgbm's best error=0.2750\n"
     ]
    },
    {
     "name": "stdout",
     "output_type": "stream",
     "text": [
      "[flaml.automl: 10-24 16:15:50] {3354} INFO -  at 0.8s,\testimator lgbm's best error=0.2750,\tbest estimator lgbm's best error=0.2750\n"
     ]
    },
    {
     "name": "stderr",
     "output_type": "stream",
     "text": [
      "[flaml.automl: 10-24 16:15:50] {3354} INFO -  at 0.8s,\testimator lgbm's best error=0.2750,\tbest estimator lgbm's best error=0.2750\n",
      "[flaml.automl: 10-24 16:15:50] {3174} INFO - iteration 6, current learner lgbm\n"
     ]
    },
    {
     "name": "stdout",
     "output_type": "stream",
     "text": [
      "[flaml.automl: 10-24 16:15:50] {3174} INFO - iteration 6, current learner lgbm\n"
     ]
    },
    {
     "name": "stderr",
     "output_type": "stream",
     "text": [
      "[flaml.automl: 10-24 16:15:50] {3174} INFO - iteration 6, current learner lgbm\n"
     ]
    },
    {
     "name": "stdout",
     "output_type": "stream",
     "text": [
      "[flaml.tune.tune: 10-24 16:15:50] {513} INFO - trial 1 config: {'n_estimators': 14, 'num_leaves': 11, 'min_child_samples': 21, 'learning_rate': 0.31708646079820985, 'log_max_bin': 8, 'colsample_bytree': 0.8656679135922174, 'reg_alpha': 0.015006777607478983, 'reg_lambda': 0.326910172238284}\n"
     ]
    },
    {
     "name": "stderr",
     "output_type": "stream",
     "text": [
      "[flaml.tune.tune: 10-24 16:15:50] {513} INFO - trial 1 config: {'n_estimators': 14, 'num_leaves': 11, 'min_child_samples': 21, 'learning_rate': 0.31708646079820985, 'log_max_bin': 8, 'colsample_bytree': 0.8656679135922174, 'reg_alpha': 0.015006777607478983, 'reg_lambda': 0.326910172238284}\n",
      "[flaml.automl: 10-24 16:15:50] {3354} INFO -  at 1.0s,\testimator lgbm's best error=0.2410,\tbest estimator lgbm's best error=0.2410\n"
     ]
    },
    {
     "name": "stdout",
     "output_type": "stream",
     "text": [
      "[flaml.automl: 10-24 16:15:50] {3354} INFO -  at 1.0s,\testimator lgbm's best error=0.2410,\tbest estimator lgbm's best error=0.2410\n"
     ]
    },
    {
     "name": "stderr",
     "output_type": "stream",
     "text": [
      "[flaml.automl: 10-24 16:15:50] {3354} INFO -  at 1.0s,\testimator lgbm's best error=0.2410,\tbest estimator lgbm's best error=0.2410\n",
      "[flaml.automl: 10-24 16:15:50] {3174} INFO - iteration 7, current learner lgbm\n"
     ]
    },
    {
     "name": "stdout",
     "output_type": "stream",
     "text": [
      "[flaml.automl: 10-24 16:15:50] {3174} INFO - iteration 7, current learner lgbm\n"
     ]
    },
    {
     "name": "stderr",
     "output_type": "stream",
     "text": [
      "[flaml.automl: 10-24 16:15:50] {3174} INFO - iteration 7, current learner lgbm\n"
     ]
    },
    {
     "name": "stdout",
     "output_type": "stream",
     "text": [
      "[flaml.tune.tune: 10-24 16:15:50] {513} INFO - trial 1 config: {'n_estimators': 32, 'num_leaves': 8, 'min_child_samples': 20, 'learning_rate': 0.4376299740923299, 'log_max_bin': 10, 'colsample_bytree': 0.7901826003728172, 'reg_alpha': 0.01725863706291574, 'reg_lambda': 0.9159215092860552}\n"
     ]
    },
    {
     "name": "stderr",
     "output_type": "stream",
     "text": [
      "[flaml.tune.tune: 10-24 16:15:50] {513} INFO - trial 1 config: {'n_estimators': 32, 'num_leaves': 8, 'min_child_samples': 20, 'learning_rate': 0.4376299740923299, 'log_max_bin': 10, 'colsample_bytree': 0.7901826003728172, 'reg_alpha': 0.01725863706291574, 'reg_lambda': 0.9159215092860552}\n",
      "[flaml.automl: 10-24 16:15:50] {3354} INFO -  at 1.2s,\testimator lgbm's best error=0.2410,\tbest estimator lgbm's best error=0.2410\n"
     ]
    },
    {
     "name": "stdout",
     "output_type": "stream",
     "text": [
      "[flaml.automl: 10-24 16:15:50] {3354} INFO -  at 1.2s,\testimator lgbm's best error=0.2410,\tbest estimator lgbm's best error=0.2410\n"
     ]
    },
    {
     "name": "stderr",
     "output_type": "stream",
     "text": [
      "[flaml.automl: 10-24 16:15:50] {3354} INFO -  at 1.2s,\testimator lgbm's best error=0.2410,\tbest estimator lgbm's best error=0.2410\n",
      "[flaml.automl: 10-24 16:15:50] {3174} INFO - iteration 8, current learner lgbm\n"
     ]
    },
    {
     "name": "stdout",
     "output_type": "stream",
     "text": [
      "[flaml.automl: 10-24 16:15:50] {3174} INFO - iteration 8, current learner lgbm\n"
     ]
    },
    {
     "name": "stderr",
     "output_type": "stream",
     "text": [
      "[flaml.automl: 10-24 16:15:50] {3174} INFO - iteration 8, current learner lgbm\n"
     ]
    },
    {
     "name": "stdout",
     "output_type": "stream",
     "text": [
      "[flaml.tune.tune: 10-24 16:15:50] {513} INFO - trial 1 config: {'n_estimators': 6, 'num_leaves': 16, 'min_child_samples': 22, 'learning_rate': 0.22974620015475045, 'log_max_bin': 6, 'colsample_bytree': 0.9411532268116175, 'reg_alpha': 0.013048734575005072, 'reg_lambda': 0.11668058848860097}\n"
     ]
    },
    {
     "name": "stderr",
     "output_type": "stream",
     "text": [
      "[flaml.tune.tune: 10-24 16:15:50] {513} INFO - trial 1 config: {'n_estimators': 6, 'num_leaves': 16, 'min_child_samples': 22, 'learning_rate': 0.22974620015475045, 'log_max_bin': 6, 'colsample_bytree': 0.9411532268116175, 'reg_alpha': 0.013048734575005072, 'reg_lambda': 0.11668058848860097}\n",
      "[flaml.automl: 10-24 16:15:50] {3354} INFO -  at 1.3s,\testimator lgbm's best error=0.2410,\tbest estimator lgbm's best error=0.2410\n"
     ]
    },
    {
     "name": "stdout",
     "output_type": "stream",
     "text": [
      "[flaml.automl: 10-24 16:15:50] {3354} INFO -  at 1.3s,\testimator lgbm's best error=0.2410,\tbest estimator lgbm's best error=0.2410\n"
     ]
    },
    {
     "name": "stderr",
     "output_type": "stream",
     "text": [
      "[flaml.automl: 10-24 16:15:50] {3354} INFO -  at 1.3s,\testimator lgbm's best error=0.2410,\tbest estimator lgbm's best error=0.2410\n",
      "[flaml.automl: 10-24 16:15:50] {3174} INFO - iteration 9, current learner lgbm\n"
     ]
    },
    {
     "name": "stdout",
     "output_type": "stream",
     "text": [
      "[flaml.automl: 10-24 16:15:50] {3174} INFO - iteration 9, current learner lgbm\n"
     ]
    },
    {
     "name": "stderr",
     "output_type": "stream",
     "text": [
      "[flaml.automl: 10-24 16:15:50] {3174} INFO - iteration 9, current learner lgbm\n"
     ]
    },
    {
     "name": "stdout",
     "output_type": "stream",
     "text": [
      "[flaml.tune.tune: 10-24 16:15:50] {513} INFO - trial 1 config: {'n_estimators': 6, 'num_leaves': 18, 'min_child_samples': 24, 'learning_rate': 0.33924573798206376, 'log_max_bin': 7, 'colsample_bytree': 0.8035141780823174, 'reg_alpha': 0.064865044398899, 'reg_lambda': 0.8695623667147924}\n"
     ]
    },
    {
     "name": "stderr",
     "output_type": "stream",
     "text": [
      "[flaml.tune.tune: 10-24 16:15:50] {513} INFO - trial 1 config: {'n_estimators': 6, 'num_leaves': 18, 'min_child_samples': 24, 'learning_rate': 0.33924573798206376, 'log_max_bin': 7, 'colsample_bytree': 0.8035141780823174, 'reg_alpha': 0.064865044398899, 'reg_lambda': 0.8695623667147924}\n",
      "[flaml.automl: 10-24 16:15:50] {3354} INFO -  at 1.3s,\testimator lgbm's best error=0.2410,\tbest estimator lgbm's best error=0.2410\n"
     ]
    },
    {
     "name": "stdout",
     "output_type": "stream",
     "text": [
      "[flaml.automl: 10-24 16:15:50] {3354} INFO -  at 1.3s,\testimator lgbm's best error=0.2410,\tbest estimator lgbm's best error=0.2410\n"
     ]
    },
    {
     "name": "stderr",
     "output_type": "stream",
     "text": [
      "[flaml.automl: 10-24 16:15:50] {3354} INFO -  at 1.3s,\testimator lgbm's best error=0.2410,\tbest estimator lgbm's best error=0.2410\n",
      "[flaml.automl: 10-24 16:15:51] {3174} INFO - iteration 10, current learner lgbm\n"
     ]
    },
    {
     "name": "stdout",
     "output_type": "stream",
     "text": [
      "[flaml.automl: 10-24 16:15:51] {3174} INFO - iteration 10, current learner lgbm\n"
     ]
    },
    {
     "name": "stderr",
     "output_type": "stream",
     "text": [
      "[flaml.automl: 10-24 16:15:51] {3174} INFO - iteration 10, current learner lgbm\n"
     ]
    },
    {
     "name": "stdout",
     "output_type": "stream",
     "text": [
      "[flaml.tune.tune: 10-24 16:15:51] {513} INFO - trial 1 config: {'n_estimators': 30, 'num_leaves': 7, 'min_child_samples': 18, 'learning_rate': 0.29637461098140755, 'log_max_bin': 10, 'colsample_bytree': 0.9278216491021173, 'reg_alpha': 0.0034718757421239844, 'reg_lambda': 0.12290120272410186}\n"
     ]
    },
    {
     "name": "stderr",
     "output_type": "stream",
     "text": [
      "[flaml.tune.tune: 10-24 16:15:51] {513} INFO - trial 1 config: {'n_estimators': 30, 'num_leaves': 7, 'min_child_samples': 18, 'learning_rate': 0.29637461098140755, 'log_max_bin': 10, 'colsample_bytree': 0.9278216491021173, 'reg_alpha': 0.0034718757421239844, 'reg_lambda': 0.12290120272410186}\n",
      "[flaml.automl: 10-24 16:15:51] {3354} INFO -  at 1.4s,\testimator lgbm's best error=0.2410,\tbest estimator lgbm's best error=0.2410\n"
     ]
    },
    {
     "name": "stdout",
     "output_type": "stream",
     "text": [
      "[flaml.automl: 10-24 16:15:51] {3354} INFO -  at 1.4s,\testimator lgbm's best error=0.2410,\tbest estimator lgbm's best error=0.2410\n"
     ]
    },
    {
     "name": "stderr",
     "output_type": "stream",
     "text": [
      "[flaml.automl: 10-24 16:15:51] {3354} INFO -  at 1.4s,\testimator lgbm's best error=0.2410,\tbest estimator lgbm's best error=0.2410\n",
      "[flaml.automl: 10-24 16:15:51] {3174} INFO - iteration 11, current learner xgboost\n"
     ]
    },
    {
     "name": "stdout",
     "output_type": "stream",
     "text": [
      "[flaml.automl: 10-24 16:15:51] {3174} INFO - iteration 11, current learner xgboost\n"
     ]
    },
    {
     "name": "stderr",
     "output_type": "stream",
     "text": [
      "[flaml.automl: 10-24 16:15:51] {3174} INFO - iteration 11, current learner xgboost\n"
     ]
    },
    {
     "name": "stdout",
     "output_type": "stream",
     "text": [
      "[flaml.tune.tune: 10-24 16:15:51] {513} INFO - trial 1 config: {'n_estimators': 4, 'max_leaves': 4, 'min_child_weight': 0.9999999999999993, 'learning_rate': 0.09999999999999995, 'subsample': 1.0, 'colsample_bylevel': 1.0, 'colsample_bytree': 1.0, 'reg_alpha': 0.0009765625, 'reg_lambda': 1.0}\n"
     ]
    },
    {
     "name": "stderr",
     "output_type": "stream",
     "text": [
      "[flaml.tune.tune: 10-24 16:15:51] {513} INFO - trial 1 config: {'n_estimators': 4, 'max_leaves': 4, 'min_child_weight': 0.9999999999999993, 'learning_rate': 0.09999999999999995, 'subsample': 1.0, 'colsample_bylevel': 1.0, 'colsample_bytree': 1.0, 'reg_alpha': 0.0009765625, 'reg_lambda': 1.0}\n",
      "[flaml.automl: 10-24 16:15:51] {3354} INFO -  at 1.4s,\testimator xgboost's best error=0.5610,\tbest estimator lgbm's best error=0.2410\n"
     ]
    },
    {
     "name": "stdout",
     "output_type": "stream",
     "text": [
      "[flaml.automl: 10-24 16:15:51] {3354} INFO -  at 1.4s,\testimator xgboost's best error=0.5610,\tbest estimator lgbm's best error=0.2410\n"
     ]
    },
    {
     "name": "stderr",
     "output_type": "stream",
     "text": [
      "[flaml.automl: 10-24 16:15:51] {3354} INFO -  at 1.4s,\testimator xgboost's best error=0.5610,\tbest estimator lgbm's best error=0.2410\n",
      "[flaml.automl: 10-24 16:15:51] {3174} INFO - iteration 12, current learner xgboost\n"
     ]
    },
    {
     "name": "stdout",
     "output_type": "stream",
     "text": [
      "[flaml.automl: 10-24 16:15:51] {3174} INFO - iteration 12, current learner xgboost\n"
     ]
    },
    {
     "name": "stderr",
     "output_type": "stream",
     "text": [
      "[flaml.automl: 10-24 16:15:51] {3174} INFO - iteration 12, current learner xgboost\n"
     ]
    },
    {
     "name": "stdout",
     "output_type": "stream",
     "text": [
      "[flaml.tune.tune: 10-24 16:15:51] {513} INFO - trial 1 config: {'n_estimators': 4, 'max_leaves': 5, 'min_child_weight': 1.4952317042235694, 'learning_rate': 0.04052580820147284, 'subsample': 1.0, 'colsample_bylevel': 0.9039669660532299, 'colsample_bytree': 0.9005043427192151, 'reg_alpha': 0.007210828893539485, 'reg_lambda': 0.28193756824170324}\n"
     ]
    },
    {
     "name": "stderr",
     "output_type": "stream",
     "text": [
      "[flaml.tune.tune: 10-24 16:15:51] {513} INFO - trial 1 config: {'n_estimators': 4, 'max_leaves': 5, 'min_child_weight': 1.4952317042235694, 'learning_rate': 0.04052580820147284, 'subsample': 1.0, 'colsample_bylevel': 0.9039669660532299, 'colsample_bytree': 0.9005043427192151, 'reg_alpha': 0.007210828893539485, 'reg_lambda': 0.28193756824170324}\n",
      "[flaml.automl: 10-24 16:15:51] {3354} INFO -  at 1.6s,\testimator xgboost's best error=0.5610,\tbest estimator lgbm's best error=0.2410\n"
     ]
    },
    {
     "name": "stdout",
     "output_type": "stream",
     "text": [
      "[flaml.automl: 10-24 16:15:51] {3354} INFO -  at 1.6s,\testimator xgboost's best error=0.5610,\tbest estimator lgbm's best error=0.2410\n"
     ]
    },
    {
     "name": "stderr",
     "output_type": "stream",
     "text": [
      "[flaml.automl: 10-24 16:15:51] {3354} INFO -  at 1.6s,\testimator xgboost's best error=0.5610,\tbest estimator lgbm's best error=0.2410\n",
      "[flaml.automl: 10-24 16:15:51] {3174} INFO - iteration 13, current learner xgboost\n"
     ]
    },
    {
     "name": "stdout",
     "output_type": "stream",
     "text": [
      "[flaml.automl: 10-24 16:15:51] {3174} INFO - iteration 13, current learner xgboost\n"
     ]
    },
    {
     "name": "stderr",
     "output_type": "stream",
     "text": [
      "[flaml.automl: 10-24 16:15:51] {3174} INFO - iteration 13, current learner xgboost\n"
     ]
    },
    {
     "name": "stdout",
     "output_type": "stream",
     "text": [
      "[flaml.tune.tune: 10-24 16:15:51] {513} INFO - trial 1 config: {'n_estimators': 8, 'max_leaves': 4, 'min_child_weight': 0.6687926675011664, 'learning_rate': 0.24675633735138086, 'subsample': 0.9536899102627593, 'colsample_bylevel': 1.0, 'colsample_bytree': 1.0, 'reg_alpha': 0.0009765625, 'reg_lambda': 3.5468845327583534}\n"
     ]
    },
    {
     "name": "stderr",
     "output_type": "stream",
     "text": [
      "[flaml.tune.tune: 10-24 16:15:51] {513} INFO - trial 1 config: {'n_estimators': 8, 'max_leaves': 4, 'min_child_weight': 0.6687926675011664, 'learning_rate': 0.24675633735138086, 'subsample': 0.9536899102627593, 'colsample_bylevel': 1.0, 'colsample_bytree': 1.0, 'reg_alpha': 0.0009765625, 'reg_lambda': 3.5468845327583534}\n",
      "[flaml.automl: 10-24 16:15:51] {3354} INFO -  at 1.8s,\testimator xgboost's best error=0.4009,\tbest estimator lgbm's best error=0.2410\n"
     ]
    },
    {
     "name": "stdout",
     "output_type": "stream",
     "text": [
      "[flaml.automl: 10-24 16:15:51] {3354} INFO -  at 1.8s,\testimator xgboost's best error=0.4009,\tbest estimator lgbm's best error=0.2410\n"
     ]
    },
    {
     "name": "stderr",
     "output_type": "stream",
     "text": [
      "[flaml.automl: 10-24 16:15:51] {3354} INFO -  at 1.8s,\testimator xgboost's best error=0.4009,\tbest estimator lgbm's best error=0.2410\n",
      "[flaml.automl: 10-24 16:15:51] {3174} INFO - iteration 14, current learner lgbm\n"
     ]
    },
    {
     "name": "stdout",
     "output_type": "stream",
     "text": [
      "[flaml.automl: 10-24 16:15:51] {3174} INFO - iteration 14, current learner lgbm\n"
     ]
    },
    {
     "name": "stderr",
     "output_type": "stream",
     "text": [
      "[flaml.automl: 10-24 16:15:51] {3174} INFO - iteration 14, current learner lgbm\n"
     ]
    },
    {
     "name": "stdout",
     "output_type": "stream",
     "text": [
      "[flaml.tune.tune: 10-24 16:15:51] {513} INFO - trial 1 config: {'n_estimators': 9, 'num_leaves': 20, 'min_child_samples': 13, 'learning_rate': 0.18613016340335614, 'log_max_bin': 9, 'colsample_bytree': 0.7382848769131752, 'reg_alpha': 0.010331853413007052, 'reg_lambda': 0.8824080209995621}\n"
     ]
    },
    {
     "name": "stderr",
     "output_type": "stream",
     "text": [
      "[flaml.tune.tune: 10-24 16:15:51] {513} INFO - trial 1 config: {'n_estimators': 9, 'num_leaves': 20, 'min_child_samples': 13, 'learning_rate': 0.18613016340335614, 'log_max_bin': 9, 'colsample_bytree': 0.7382848769131752, 'reg_alpha': 0.010331853413007052, 'reg_lambda': 0.8824080209995621}\n",
      "[flaml.automl: 10-24 16:15:51] {3354} INFO -  at 1.9s,\testimator lgbm's best error=0.2410,\tbest estimator lgbm's best error=0.2410\n"
     ]
    },
    {
     "name": "stdout",
     "output_type": "stream",
     "text": [
      "[flaml.automl: 10-24 16:15:51] {3354} INFO -  at 1.9s,\testimator lgbm's best error=0.2410,\tbest estimator lgbm's best error=0.2410\n"
     ]
    },
    {
     "name": "stderr",
     "output_type": "stream",
     "text": [
      "[flaml.automl: 10-24 16:15:51] {3354} INFO -  at 1.9s,\testimator lgbm's best error=0.2410,\tbest estimator lgbm's best error=0.2410\n",
      "[flaml.automl: 10-24 16:15:51] {3174} INFO - iteration 15, current learner extra_tree\n"
     ]
    },
    {
     "name": "stdout",
     "output_type": "stream",
     "text": [
      "[flaml.automl: 10-24 16:15:51] {3174} INFO - iteration 15, current learner extra_tree\n"
     ]
    },
    {
     "name": "stderr",
     "output_type": "stream",
     "text": [
      "[flaml.automl: 10-24 16:15:51] {3174} INFO - iteration 15, current learner extra_tree\n"
     ]
    },
    {
     "name": "stdout",
     "output_type": "stream",
     "text": [
      "[flaml.tune.tune: 10-24 16:15:51] {513} INFO - trial 1 config: {'n_estimators': 4, 'max_features': 0.06375767130633382, 'max_leaves': 4, 'criterion': 'entropy'}\n"
     ]
    },
    {
     "name": "stderr",
     "output_type": "stream",
     "text": [
      "[flaml.tune.tune: 10-24 16:15:51] {513} INFO - trial 1 config: {'n_estimators': 4, 'max_features': 0.06375767130633382, 'max_leaves': 4, 'criterion': 'entropy'}\n",
      "[flaml.automl: 10-24 16:15:51] {3354} INFO -  at 2.0s,\testimator extra_tree's best error=0.3827,\tbest estimator lgbm's best error=0.2410\n"
     ]
    },
    {
     "name": "stdout",
     "output_type": "stream",
     "text": [
      "[flaml.automl: 10-24 16:15:51] {3354} INFO -  at 2.0s,\testimator extra_tree's best error=0.3827,\tbest estimator lgbm's best error=0.2410\n"
     ]
    },
    {
     "name": "stderr",
     "output_type": "stream",
     "text": [
      "[flaml.automl: 10-24 16:15:51] {3354} INFO -  at 2.0s,\testimator extra_tree's best error=0.3827,\tbest estimator lgbm's best error=0.2410\n",
      "[flaml.automl: 10-24 16:15:51] {3174} INFO - iteration 16, current learner extra_tree\n"
     ]
    },
    {
     "name": "stdout",
     "output_type": "stream",
     "text": [
      "[flaml.automl: 10-24 16:15:51] {3174} INFO - iteration 16, current learner extra_tree\n"
     ]
    },
    {
     "name": "stderr",
     "output_type": "stream",
     "text": [
      "[flaml.automl: 10-24 16:15:51] {3174} INFO - iteration 16, current learner extra_tree\n"
     ]
    },
    {
     "name": "stdout",
     "output_type": "stream",
     "text": [
      "[flaml.tune.tune: 10-24 16:15:51] {513} INFO - trial 1 config: {'n_estimators': 4, 'max_features': 0.0724824680014999, 'max_leaves': 5, 'criterion': 'gini'}\n"
     ]
    },
    {
     "name": "stderr",
     "output_type": "stream",
     "text": [
      "[flaml.tune.tune: 10-24 16:15:51] {513} INFO - trial 1 config: {'n_estimators': 4, 'max_features': 0.0724824680014999, 'max_leaves': 5, 'criterion': 'gini'}\n",
      "[flaml.automl: 10-24 16:15:51] {3354} INFO -  at 2.0s,\testimator extra_tree's best error=0.3827,\tbest estimator lgbm's best error=0.2410\n"
     ]
    },
    {
     "name": "stdout",
     "output_type": "stream",
     "text": [
      "[flaml.automl: 10-24 16:15:51] {3354} INFO -  at 2.0s,\testimator extra_tree's best error=0.3827,\tbest estimator lgbm's best error=0.2410\n"
     ]
    },
    {
     "name": "stderr",
     "output_type": "stream",
     "text": [
      "[flaml.automl: 10-24 16:15:51] {3354} INFO -  at 2.0s,\testimator extra_tree's best error=0.3827,\tbest estimator lgbm's best error=0.2410\n",
      "[flaml.automl: 10-24 16:15:51] {3174} INFO - iteration 17, current learner lgbm\n"
     ]
    },
    {
     "name": "stdout",
     "output_type": "stream",
     "text": [
      "[flaml.automl: 10-24 16:15:51] {3174} INFO - iteration 17, current learner lgbm\n"
     ]
    },
    {
     "name": "stderr",
     "output_type": "stream",
     "text": [
      "[flaml.automl: 10-24 16:15:51] {3174} INFO - iteration 17, current learner lgbm\n"
     ]
    },
    {
     "name": "stdout",
     "output_type": "stream",
     "text": [
      "[flaml.tune.tune: 10-24 16:15:51] {513} INFO - trial 1 config: {'n_estimators': 22, 'num_leaves': 6, 'min_child_samples': 33, 'learning_rate': 0.540180171677224, 'log_max_bin': 7, 'colsample_bytree': 0.9930509502712596, 'reg_alpha': 0.02179699664310161, 'reg_lambda': 0.12111206853242956}\n"
     ]
    },
    {
     "name": "stderr",
     "output_type": "stream",
     "text": [
      "[flaml.tune.tune: 10-24 16:15:51] {513} INFO - trial 1 config: {'n_estimators': 22, 'num_leaves': 6, 'min_child_samples': 33, 'learning_rate': 0.540180171677224, 'log_max_bin': 7, 'colsample_bytree': 0.9930509502712596, 'reg_alpha': 0.02179699664310161, 'reg_lambda': 0.12111206853242956}\n",
      "[flaml.automl: 10-24 16:15:51] {3354} INFO -  at 2.3s,\testimator lgbm's best error=0.2410,\tbest estimator lgbm's best error=0.2410\n"
     ]
    },
    {
     "name": "stdout",
     "output_type": "stream",
     "text": [
      "[flaml.automl: 10-24 16:15:51] {3354} INFO -  at 2.3s,\testimator lgbm's best error=0.2410,\tbest estimator lgbm's best error=0.2410\n"
     ]
    },
    {
     "name": "stderr",
     "output_type": "stream",
     "text": [
      "[flaml.automl: 10-24 16:15:51] {3354} INFO -  at 2.3s,\testimator lgbm's best error=0.2410,\tbest estimator lgbm's best error=0.2410\n",
      "[flaml.automl: 10-24 16:15:51] {3174} INFO - iteration 18, current learner extra_tree\n"
     ]
    },
    {
     "name": "stdout",
     "output_type": "stream",
     "text": [
      "[flaml.automl: 10-24 16:15:51] {3174} INFO - iteration 18, current learner extra_tree\n"
     ]
    },
    {
     "name": "stderr",
     "output_type": "stream",
     "text": [
      "[flaml.automl: 10-24 16:15:51] {3174} INFO - iteration 18, current learner extra_tree\n"
     ]
    },
    {
     "name": "stdout",
     "output_type": "stream",
     "text": [
      "[flaml.tune.tune: 10-24 16:15:51] {513} INFO - trial 1 config: {'n_estimators': 8, 'max_features': 0.06375767130633382, 'max_leaves': 4, 'criterion': 'entropy'}\n"
     ]
    },
    {
     "name": "stderr",
     "output_type": "stream",
     "text": [
      "[flaml.tune.tune: 10-24 16:15:51] {513} INFO - trial 1 config: {'n_estimators': 8, 'max_features': 0.06375767130633382, 'max_leaves': 4, 'criterion': 'entropy'}\n",
      "[flaml.automl: 10-24 16:15:52] {3354} INFO -  at 2.4s,\testimator extra_tree's best error=0.3827,\tbest estimator lgbm's best error=0.2410\n"
     ]
    },
    {
     "name": "stdout",
     "output_type": "stream",
     "text": [
      "[flaml.automl: 10-24 16:15:52] {3354} INFO -  at 2.4s,\testimator extra_tree's best error=0.3827,\tbest estimator lgbm's best error=0.2410\n"
     ]
    },
    {
     "name": "stderr",
     "output_type": "stream",
     "text": [
      "[flaml.automl: 10-24 16:15:52] {3354} INFO -  at 2.4s,\testimator extra_tree's best error=0.3827,\tbest estimator lgbm's best error=0.2410\n",
      "[flaml.automl: 10-24 16:15:52] {3174} INFO - iteration 19, current learner extra_tree\n"
     ]
    },
    {
     "name": "stdout",
     "output_type": "stream",
     "text": [
      "[flaml.automl: 10-24 16:15:52] {3174} INFO - iteration 19, current learner extra_tree\n"
     ]
    },
    {
     "name": "stderr",
     "output_type": "stream",
     "text": [
      "[flaml.automl: 10-24 16:15:52] {3174} INFO - iteration 19, current learner extra_tree\n"
     ]
    },
    {
     "name": "stdout",
     "output_type": "stream",
     "text": [
      "[flaml.tune.tune: 10-24 16:15:52] {513} INFO - trial 1 config: {'n_estimators': 5, 'max_features': 0.06375767130633382, 'max_leaves': 4, 'criterion': 'entropy'}\n"
     ]
    },
    {
     "name": "stderr",
     "output_type": "stream",
     "text": [
      "[flaml.tune.tune: 10-24 16:15:52] {513} INFO - trial 1 config: {'n_estimators': 5, 'max_features': 0.06375767130633382, 'max_leaves': 4, 'criterion': 'entropy'}\n",
      "[flaml.automl: 10-24 16:15:52] {3354} INFO -  at 2.4s,\testimator extra_tree's best error=0.3827,\tbest estimator lgbm's best error=0.2410\n"
     ]
    },
    {
     "name": "stdout",
     "output_type": "stream",
     "text": [
      "[flaml.automl: 10-24 16:15:52] {3354} INFO -  at 2.4s,\testimator extra_tree's best error=0.3827,\tbest estimator lgbm's best error=0.2410\n"
     ]
    },
    {
     "name": "stderr",
     "output_type": "stream",
     "text": [
      "[flaml.automl: 10-24 16:15:52] {3354} INFO -  at 2.4s,\testimator extra_tree's best error=0.3827,\tbest estimator lgbm's best error=0.2410\n",
      "[flaml.automl: 10-24 16:15:52] {3174} INFO - iteration 20, current learner rf\n"
     ]
    },
    {
     "name": "stdout",
     "output_type": "stream",
     "text": [
      "[flaml.automl: 10-24 16:15:52] {3174} INFO - iteration 20, current learner rf\n"
     ]
    },
    {
     "name": "stderr",
     "output_type": "stream",
     "text": [
      "[flaml.automl: 10-24 16:15:52] {3174} INFO - iteration 20, current learner rf\n"
     ]
    },
    {
     "name": "stdout",
     "output_type": "stream",
     "text": [
      "[flaml.tune.tune: 10-24 16:15:52] {513} INFO - trial 1 config: {'n_estimators': 4, 'max_features': 0.06375767130633382, 'max_leaves': 4, 'criterion': 'entropy'}\n"
     ]
    },
    {
     "name": "stderr",
     "output_type": "stream",
     "text": [
      "[flaml.tune.tune: 10-24 16:15:52] {513} INFO - trial 1 config: {'n_estimators': 4, 'max_features': 0.06375767130633382, 'max_leaves': 4, 'criterion': 'entropy'}\n",
      "[flaml.automl: 10-24 16:15:52] {3354} INFO -  at 2.5s,\testimator rf's best error=0.4223,\tbest estimator lgbm's best error=0.2410\n"
     ]
    },
    {
     "name": "stdout",
     "output_type": "stream",
     "text": [
      "[flaml.automl: 10-24 16:15:52] {3354} INFO -  at 2.5s,\testimator rf's best error=0.4223,\tbest estimator lgbm's best error=0.2410\n"
     ]
    },
    {
     "name": "stderr",
     "output_type": "stream",
     "text": [
      "[flaml.automl: 10-24 16:15:52] {3354} INFO -  at 2.5s,\testimator rf's best error=0.4223,\tbest estimator lgbm's best error=0.2410\n",
      "[flaml.automl: 10-24 16:15:52] {3174} INFO - iteration 21, current learner rf\n"
     ]
    },
    {
     "name": "stdout",
     "output_type": "stream",
     "text": [
      "[flaml.automl: 10-24 16:15:52] {3174} INFO - iteration 21, current learner rf\n"
     ]
    },
    {
     "name": "stderr",
     "output_type": "stream",
     "text": [
      "[flaml.automl: 10-24 16:15:52] {3174} INFO - iteration 21, current learner rf\n"
     ]
    },
    {
     "name": "stdout",
     "output_type": "stream",
     "text": [
      "[flaml.tune.tune: 10-24 16:15:52] {513} INFO - trial 1 config: {'n_estimators': 4, 'max_features': 0.0724824680014999, 'max_leaves': 5, 'criterion': 'gini'}\n"
     ]
    },
    {
     "name": "stderr",
     "output_type": "stream",
     "text": [
      "[flaml.tune.tune: 10-24 16:15:52] {513} INFO - trial 1 config: {'n_estimators': 4, 'max_features': 0.0724824680014999, 'max_leaves': 5, 'criterion': 'gini'}\n",
      "[flaml.automl: 10-24 16:15:52] {3354} INFO -  at 2.6s,\testimator rf's best error=0.4027,\tbest estimator lgbm's best error=0.2410\n"
     ]
    },
    {
     "name": "stdout",
     "output_type": "stream",
     "text": [
      "[flaml.automl: 10-24 16:15:52] {3354} INFO -  at 2.6s,\testimator rf's best error=0.4027,\tbest estimator lgbm's best error=0.2410\n"
     ]
    },
    {
     "name": "stderr",
     "output_type": "stream",
     "text": [
      "[flaml.automl: 10-24 16:15:52] {3354} INFO -  at 2.6s,\testimator rf's best error=0.4027,\tbest estimator lgbm's best error=0.2410\n",
      "[flaml.automl: 10-24 16:15:52] {3174} INFO - iteration 22, current learner lgbm\n"
     ]
    },
    {
     "name": "stdout",
     "output_type": "stream",
     "text": [
      "[flaml.automl: 10-24 16:15:52] {3174} INFO - iteration 22, current learner lgbm\n"
     ]
    },
    {
     "name": "stderr",
     "output_type": "stream",
     "text": [
      "[flaml.automl: 10-24 16:15:52] {3174} INFO - iteration 22, current learner lgbm\n"
     ]
    },
    {
     "name": "stdout",
     "output_type": "stream",
     "text": [
      "[flaml.tune.tune: 10-24 16:15:52] {513} INFO - trial 1 config: {'n_estimators': 23, 'num_leaves': 22, 'min_child_samples': 17, 'learning_rate': 0.09183870802366262, 'log_max_bin': 8, 'colsample_bytree': 0.9442343528670976, 'reg_alpha': 0.010897750079027251, 'reg_lambda': 1.0740954698993865}\n"
     ]
    },
    {
     "name": "stderr",
     "output_type": "stream",
     "text": [
      "[flaml.tune.tune: 10-24 16:15:52] {513} INFO - trial 1 config: {'n_estimators': 23, 'num_leaves': 22, 'min_child_samples': 17, 'learning_rate': 0.09183870802366262, 'log_max_bin': 8, 'colsample_bytree': 0.9442343528670976, 'reg_alpha': 0.010897750079027251, 'reg_lambda': 1.0740954698993865}\n",
      "[flaml.automl: 10-24 16:15:52] {3354} INFO -  at 2.7s,\testimator lgbm's best error=0.2410,\tbest estimator lgbm's best error=0.2410\n"
     ]
    },
    {
     "name": "stdout",
     "output_type": "stream",
     "text": [
      "[flaml.automl: 10-24 16:15:52] {3354} INFO -  at 2.7s,\testimator lgbm's best error=0.2410,\tbest estimator lgbm's best error=0.2410\n"
     ]
    },
    {
     "name": "stderr",
     "output_type": "stream",
     "text": [
      "[flaml.automl: 10-24 16:15:52] {3354} INFO -  at 2.7s,\testimator lgbm's best error=0.2410,\tbest estimator lgbm's best error=0.2410\n",
      "[flaml.automl: 10-24 16:15:52] {3174} INFO - iteration 23, current learner lgbm\n"
     ]
    },
    {
     "name": "stdout",
     "output_type": "stream",
     "text": [
      "[flaml.automl: 10-24 16:15:52] {3174} INFO - iteration 23, current learner lgbm\n"
     ]
    },
    {
     "name": "stderr",
     "output_type": "stream",
     "text": [
      "[flaml.automl: 10-24 16:15:52] {3174} INFO - iteration 23, current learner lgbm\n"
     ]
    },
    {
     "name": "stdout",
     "output_type": "stream",
     "text": [
      "[flaml.tune.tune: 10-24 16:15:52] {513} INFO - trial 1 config: {'n_estimators': 9, 'num_leaves': 6, 'min_child_samples': 26, 'learning_rate': 1.0, 'log_max_bin': 8, 'colsample_bytree': 0.7871014743173372, 'reg_alpha': 0.020665125601819143, 'reg_lambda': 0.09949791588160711}\n"
     ]
    },
    {
     "name": "stderr",
     "output_type": "stream",
     "text": [
      "[flaml.tune.tune: 10-24 16:15:52] {513} INFO - trial 1 config: {'n_estimators': 9, 'num_leaves': 6, 'min_child_samples': 26, 'learning_rate': 1.0, 'log_max_bin': 8, 'colsample_bytree': 0.7871014743173372, 'reg_alpha': 0.020665125601819143, 'reg_lambda': 0.09949791588160711}\n",
      "[flaml.automl: 10-24 16:15:52] {3354} INFO -  at 2.8s,\testimator lgbm's best error=0.2410,\tbest estimator lgbm's best error=0.2410\n"
     ]
    },
    {
     "name": "stdout",
     "output_type": "stream",
     "text": [
      "[flaml.automl: 10-24 16:15:52] {3354} INFO -  at 2.8s,\testimator lgbm's best error=0.2410,\tbest estimator lgbm's best error=0.2410\n"
     ]
    },
    {
     "name": "stderr",
     "output_type": "stream",
     "text": [
      "[flaml.automl: 10-24 16:15:52] {3354} INFO -  at 2.8s,\testimator lgbm's best error=0.2410,\tbest estimator lgbm's best error=0.2410\n",
      "[flaml.automl: 10-24 16:15:52] {3174} INFO - iteration 24, current learner extra_tree\n"
     ]
    },
    {
     "name": "stdout",
     "output_type": "stream",
     "text": [
      "[flaml.automl: 10-24 16:15:52] {3174} INFO - iteration 24, current learner extra_tree\n"
     ]
    },
    {
     "name": "stderr",
     "output_type": "stream",
     "text": [
      "[flaml.automl: 10-24 16:15:52] {3174} INFO - iteration 24, current learner extra_tree\n"
     ]
    },
    {
     "name": "stdout",
     "output_type": "stream",
     "text": [
      "[flaml.tune.tune: 10-24 16:15:52] {513} INFO - trial 1 config: {'n_estimators': 4, 'max_features': 0.08249626913374537, 'max_leaves': 6, 'criterion': 'gini'}\n"
     ]
    },
    {
     "name": "stderr",
     "output_type": "stream",
     "text": [
      "[flaml.tune.tune: 10-24 16:15:52] {513} INFO - trial 1 config: {'n_estimators': 4, 'max_features': 0.08249626913374537, 'max_leaves': 6, 'criterion': 'gini'}\n",
      "[flaml.automl: 10-24 16:15:52] {3354} INFO -  at 2.9s,\testimator extra_tree's best error=0.3827,\tbest estimator lgbm's best error=0.2410\n"
     ]
    },
    {
     "name": "stdout",
     "output_type": "stream",
     "text": [
      "[flaml.automl: 10-24 16:15:52] {3354} INFO -  at 2.9s,\testimator extra_tree's best error=0.3827,\tbest estimator lgbm's best error=0.2410\n"
     ]
    },
    {
     "name": "stderr",
     "output_type": "stream",
     "text": [
      "[flaml.automl: 10-24 16:15:52] {3354} INFO -  at 2.9s,\testimator extra_tree's best error=0.3827,\tbest estimator lgbm's best error=0.2410\n",
      "[flaml.automl: 10-24 16:15:52] {3174} INFO - iteration 25, current learner extra_tree\n"
     ]
    },
    {
     "name": "stdout",
     "output_type": "stream",
     "text": [
      "[flaml.automl: 10-24 16:15:52] {3174} INFO - iteration 25, current learner extra_tree\n"
     ]
    },
    {
     "name": "stderr",
     "output_type": "stream",
     "text": [
      "[flaml.automl: 10-24 16:15:52] {3174} INFO - iteration 25, current learner extra_tree\n"
     ]
    },
    {
     "name": "stdout",
     "output_type": "stream",
     "text": [
      "[flaml.tune.tune: 10-24 16:15:52] {513} INFO - trial 1 config: {'n_estimators': 4, 'max_features': 0.06375767130633382, 'max_leaves': 4, 'criterion': 'gini'}\n"
     ]
    },
    {
     "name": "stderr",
     "output_type": "stream",
     "text": [
      "[flaml.tune.tune: 10-24 16:15:52] {513} INFO - trial 1 config: {'n_estimators': 4, 'max_features': 0.06375767130633382, 'max_leaves': 4, 'criterion': 'gini'}\n",
      "[flaml.automl: 10-24 16:15:52] {3354} INFO -  at 3.0s,\testimator extra_tree's best error=0.3827,\tbest estimator lgbm's best error=0.2410\n"
     ]
    },
    {
     "name": "stdout",
     "output_type": "stream",
     "text": [
      "[flaml.automl: 10-24 16:15:52] {3354} INFO -  at 3.0s,\testimator extra_tree's best error=0.3827,\tbest estimator lgbm's best error=0.2410\n"
     ]
    },
    {
     "name": "stderr",
     "output_type": "stream",
     "text": [
      "[flaml.automl: 10-24 16:15:52] {3354} INFO -  at 3.0s,\testimator extra_tree's best error=0.3827,\tbest estimator lgbm's best error=0.2410\n",
      "[flaml.automl: 10-24 16:15:52] {3174} INFO - iteration 26, current learner rf\n"
     ]
    },
    {
     "name": "stdout",
     "output_type": "stream",
     "text": [
      "[flaml.automl: 10-24 16:15:52] {3174} INFO - iteration 26, current learner rf\n"
     ]
    },
    {
     "name": "stderr",
     "output_type": "stream",
     "text": [
      "[flaml.automl: 10-24 16:15:52] {3174} INFO - iteration 26, current learner rf\n"
     ]
    },
    {
     "name": "stdout",
     "output_type": "stream",
     "text": [
      "[flaml.tune.tune: 10-24 16:15:52] {513} INFO - trial 1 config: {'n_estimators': 8, 'max_features': 0.06375767130633382, 'max_leaves': 4, 'criterion': 'gini'}\n"
     ]
    },
    {
     "name": "stderr",
     "output_type": "stream",
     "text": [
      "[flaml.tune.tune: 10-24 16:15:52] {513} INFO - trial 1 config: {'n_estimators': 8, 'max_features': 0.06375767130633382, 'max_leaves': 4, 'criterion': 'gini'}\n",
      "[flaml.automl: 10-24 16:15:52] {3354} INFO -  at 3.1s,\testimator rf's best error=0.3997,\tbest estimator lgbm's best error=0.2410\n"
     ]
    },
    {
     "name": "stdout",
     "output_type": "stream",
     "text": [
      "[flaml.automl: 10-24 16:15:52] {3354} INFO -  at 3.1s,\testimator rf's best error=0.3997,\tbest estimator lgbm's best error=0.2410\n"
     ]
    },
    {
     "name": "stderr",
     "output_type": "stream",
     "text": [
      "[flaml.automl: 10-24 16:15:52] {3354} INFO -  at 3.1s,\testimator rf's best error=0.3997,\tbest estimator lgbm's best error=0.2410\n",
      "[flaml.automl: 10-24 16:15:52] {3174} INFO - iteration 27, current learner extra_tree\n"
     ]
    },
    {
     "name": "stdout",
     "output_type": "stream",
     "text": [
      "[flaml.automl: 10-24 16:15:52] {3174} INFO - iteration 27, current learner extra_tree\n"
     ]
    },
    {
     "name": "stderr",
     "output_type": "stream",
     "text": [
      "[flaml.automl: 10-24 16:15:52] {3174} INFO - iteration 27, current learner extra_tree\n"
     ]
    },
    {
     "name": "stdout",
     "output_type": "stream",
     "text": [
      "[flaml.tune.tune: 10-24 16:15:52] {513} INFO - trial 1 config: {'n_estimators': 6, 'max_features': 0.10249444133508682, 'max_leaves': 5, 'criterion': 'entropy'}\n"
     ]
    },
    {
     "name": "stderr",
     "output_type": "stream",
     "text": [
      "[flaml.tune.tune: 10-24 16:15:52] {513} INFO - trial 1 config: {'n_estimators': 6, 'max_features': 0.10249444133508682, 'max_leaves': 5, 'criterion': 'entropy'}\n",
      "[flaml.automl: 10-24 16:15:52] {3354} INFO -  at 3.2s,\testimator extra_tree's best error=0.3612,\tbest estimator lgbm's best error=0.2410\n"
     ]
    },
    {
     "name": "stdout",
     "output_type": "stream",
     "text": [
      "[flaml.automl: 10-24 16:15:52] {3354} INFO -  at 3.2s,\testimator extra_tree's best error=0.3612,\tbest estimator lgbm's best error=0.2410\n"
     ]
    },
    {
     "name": "stderr",
     "output_type": "stream",
     "text": [
      "[flaml.automl: 10-24 16:15:52] {3354} INFO -  at 3.2s,\testimator extra_tree's best error=0.3612,\tbest estimator lgbm's best error=0.2410\n",
      "[flaml.automl: 10-24 16:15:52] {3174} INFO - iteration 28, current learner xgboost\n"
     ]
    },
    {
     "name": "stdout",
     "output_type": "stream",
     "text": [
      "[flaml.automl: 10-24 16:15:52] {3174} INFO - iteration 28, current learner xgboost\n"
     ]
    },
    {
     "name": "stderr",
     "output_type": "stream",
     "text": [
      "[flaml.automl: 10-24 16:15:52] {3174} INFO - iteration 28, current learner xgboost\n"
     ]
    },
    {
     "name": "stdout",
     "output_type": "stream",
     "text": [
      "[flaml.tune.tune: 10-24 16:15:52] {513} INFO - trial 1 config: {'n_estimators': 4, 'max_leaves': 4, 'min_child_weight': 0.41606457589420376, 'learning_rate': 0.23487720074724674, 'subsample': 0.8599347511202097, 'colsample_bylevel': 0.9633507329454843, 'colsample_bytree': 0.9338536785980791, 'reg_alpha': 0.0009765625, 'reg_lambda': 13.51977329962597}\n"
     ]
    },
    {
     "name": "stderr",
     "output_type": "stream",
     "text": [
      "[flaml.tune.tune: 10-24 16:15:52] {513} INFO - trial 1 config: {'n_estimators': 4, 'max_leaves': 4, 'min_child_weight': 0.41606457589420376, 'learning_rate': 0.23487720074724674, 'subsample': 0.8599347511202097, 'colsample_bylevel': 0.9633507329454843, 'colsample_bytree': 0.9338536785980791, 'reg_alpha': 0.0009765625, 'reg_lambda': 13.51977329962597}\n",
      "[flaml.automl: 10-24 16:15:53] {3354} INFO -  at 3.4s,\testimator xgboost's best error=0.4009,\tbest estimator lgbm's best error=0.2410\n"
     ]
    },
    {
     "name": "stdout",
     "output_type": "stream",
     "text": [
      "[flaml.automl: 10-24 16:15:53] {3354} INFO -  at 3.4s,\testimator xgboost's best error=0.4009,\tbest estimator lgbm's best error=0.2410\n"
     ]
    },
    {
     "name": "stderr",
     "output_type": "stream",
     "text": [
      "[flaml.automl: 10-24 16:15:53] {3354} INFO -  at 3.4s,\testimator xgboost's best error=0.4009,\tbest estimator lgbm's best error=0.2410\n",
      "[flaml.automl: 10-24 16:15:53] {3174} INFO - iteration 29, current learner xgboost\n"
     ]
    },
    {
     "name": "stdout",
     "output_type": "stream",
     "text": [
      "[flaml.automl: 10-24 16:15:53] {3174} INFO - iteration 29, current learner xgboost\n"
     ]
    },
    {
     "name": "stderr",
     "output_type": "stream",
     "text": [
      "[flaml.automl: 10-24 16:15:53] {3174} INFO - iteration 29, current learner xgboost\n"
     ]
    },
    {
     "name": "stdout",
     "output_type": "stream",
     "text": [
      "[flaml.tune.tune: 10-24 16:15:53] {513} INFO - trial 1 config: {'n_estimators': 25, 'max_leaves': 5, 'min_child_weight': 1.0750341606036184, 'learning_rate': 0.25923627252604775, 'subsample': 1.0, 'colsample_bylevel': 1.0, 'colsample_bytree': 1.0, 'reg_alpha': 0.0020378065580387668, 'reg_lambda': 0.9305178134213601}\n"
     ]
    },
    {
     "name": "stderr",
     "output_type": "stream",
     "text": [
      "[flaml.tune.tune: 10-24 16:15:53] {513} INFO - trial 1 config: {'n_estimators': 25, 'max_leaves': 5, 'min_child_weight': 1.0750341606036184, 'learning_rate': 0.25923627252604775, 'subsample': 1.0, 'colsample_bylevel': 1.0, 'colsample_bytree': 1.0, 'reg_alpha': 0.0020378065580387668, 'reg_lambda': 0.9305178134213601}\n",
      "[flaml.automl: 10-24 16:15:53] {3354} INFO -  at 3.5s,\testimator xgboost's best error=0.3296,\tbest estimator lgbm's best error=0.2410\n"
     ]
    },
    {
     "name": "stdout",
     "output_type": "stream",
     "text": [
      "[flaml.automl: 10-24 16:15:53] {3354} INFO -  at 3.5s,\testimator xgboost's best error=0.3296,\tbest estimator lgbm's best error=0.2410\n"
     ]
    },
    {
     "name": "stderr",
     "output_type": "stream",
     "text": [
      "[flaml.automl: 10-24 16:15:53] {3354} INFO -  at 3.5s,\testimator xgboost's best error=0.3296,\tbest estimator lgbm's best error=0.2410\n",
      "[flaml.automl: 10-24 16:15:53] {3174} INFO - iteration 30, current learner lgbm\n"
     ]
    },
    {
     "name": "stdout",
     "output_type": "stream",
     "text": [
      "[flaml.automl: 10-24 16:15:53] {3174} INFO - iteration 30, current learner lgbm\n"
     ]
    },
    {
     "name": "stderr",
     "output_type": "stream",
     "text": [
      "[flaml.automl: 10-24 16:15:53] {3174} INFO - iteration 30, current learner lgbm\n"
     ]
    },
    {
     "name": "stdout",
     "output_type": "stream",
     "text": [
      "[flaml.tune.tune: 10-24 16:15:53] {513} INFO - trial 1 config: {'n_estimators': 23, 'num_leaves': 12, 'min_child_samples': 25, 'learning_rate': 0.2229723023979521, 'log_max_bin': 9, 'colsample_bytree': 0.7336694845246321, 'reg_alpha': 0.2640189567209848, 'reg_lambda': 0.39017365861401615}\n"
     ]
    },
    {
     "name": "stderr",
     "output_type": "stream",
     "text": [
      "[flaml.tune.tune: 10-24 16:15:53] {513} INFO - trial 1 config: {'n_estimators': 23, 'num_leaves': 12, 'min_child_samples': 25, 'learning_rate': 0.2229723023979521, 'log_max_bin': 9, 'colsample_bytree': 0.7336694845246321, 'reg_alpha': 0.2640189567209848, 'reg_lambda': 0.39017365861401615}\n",
      "[flaml.automl: 10-24 16:15:53] {3354} INFO -  at 3.7s,\testimator lgbm's best error=0.2181,\tbest estimator lgbm's best error=0.2181\n"
     ]
    },
    {
     "name": "stdout",
     "output_type": "stream",
     "text": [
      "[flaml.automl: 10-24 16:15:53] {3354} INFO -  at 3.7s,\testimator lgbm's best error=0.2181,\tbest estimator lgbm's best error=0.2181\n"
     ]
    },
    {
     "name": "stderr",
     "output_type": "stream",
     "text": [
      "[flaml.automl: 10-24 16:15:53] {3354} INFO -  at 3.7s,\testimator lgbm's best error=0.2181,\tbest estimator lgbm's best error=0.2181\n",
      "[flaml.automl: 10-24 16:15:53] {3174} INFO - iteration 31, current learner lgbm\n"
     ]
    },
    {
     "name": "stdout",
     "output_type": "stream",
     "text": [
      "[flaml.automl: 10-24 16:15:53] {3174} INFO - iteration 31, current learner lgbm\n"
     ]
    },
    {
     "name": "stderr",
     "output_type": "stream",
     "text": [
      "[flaml.automl: 10-24 16:15:53] {3174} INFO - iteration 31, current learner lgbm\n"
     ]
    },
    {
     "name": "stdout",
     "output_type": "stream",
     "text": [
      "[flaml.tune.tune: 10-24 16:15:53] {513} INFO - trial 1 config: {'n_estimators': 14, 'num_leaves': 11, 'min_child_samples': 21, 'learning_rate': 0.31708646079820985, 'log_max_bin': 8, 'colsample_bytree': 0.8656679135922174, 'reg_alpha': 0.015006777607478988, 'reg_lambda': 0.326910172238284}\n"
     ]
    },
    {
     "name": "stderr",
     "output_type": "stream",
     "text": [
      "[flaml.tune.tune: 10-24 16:15:53] {513} INFO - trial 1 config: {'n_estimators': 14, 'num_leaves': 11, 'min_child_samples': 21, 'learning_rate': 0.31708646079820985, 'log_max_bin': 8, 'colsample_bytree': 0.8656679135922174, 'reg_alpha': 0.015006777607478988, 'reg_lambda': 0.326910172238284}\n",
      "[flaml.automl: 10-24 16:15:53] {3354} INFO -  at 4.0s,\testimator lgbm's best error=0.2181,\tbest estimator lgbm's best error=0.2181\n"
     ]
    },
    {
     "name": "stdout",
     "output_type": "stream",
     "text": [
      "[flaml.automl: 10-24 16:15:53] {3354} INFO -  at 4.0s,\testimator lgbm's best error=0.2181,\tbest estimator lgbm's best error=0.2181\n"
     ]
    },
    {
     "name": "stderr",
     "output_type": "stream",
     "text": [
      "[flaml.automl: 10-24 16:15:53] {3354} INFO -  at 4.0s,\testimator lgbm's best error=0.2181,\tbest estimator lgbm's best error=0.2181\n",
      "[flaml.automl: 10-24 16:15:53] {3174} INFO - iteration 32, current learner lgbm\n"
     ]
    },
    {
     "name": "stdout",
     "output_type": "stream",
     "text": [
      "[flaml.automl: 10-24 16:15:53] {3174} INFO - iteration 32, current learner lgbm\n"
     ]
    },
    {
     "name": "stderr",
     "output_type": "stream",
     "text": [
      "[flaml.automl: 10-24 16:15:53] {3174} INFO - iteration 32, current learner lgbm\n"
     ]
    },
    {
     "name": "stdout",
     "output_type": "stream",
     "text": [
      "[flaml.tune.tune: 10-24 16:15:53] {513} INFO - trial 1 config: {'n_estimators': 33, 'num_leaves': 7, 'min_child_samples': 14, 'learning_rate': 0.12454188778324048, 'log_max_bin': 10, 'colsample_bytree': 0.671496636952417, 'reg_alpha': 0.7988700994729261, 'reg_lambda': 0.289958710828477}\n"
     ]
    },
    {
     "name": "stderr",
     "output_type": "stream",
     "text": [
      "[flaml.tune.tune: 10-24 16:15:53] {513} INFO - trial 1 config: {'n_estimators': 33, 'num_leaves': 7, 'min_child_samples': 14, 'learning_rate': 0.12454188778324048, 'log_max_bin': 10, 'colsample_bytree': 0.671496636952417, 'reg_alpha': 0.7988700994729261, 'reg_lambda': 0.289958710828477}\n",
      "[flaml.automl: 10-24 16:15:53] {3354} INFO -  at 4.2s,\testimator lgbm's best error=0.2181,\tbest estimator lgbm's best error=0.2181\n"
     ]
    },
    {
     "name": "stdout",
     "output_type": "stream",
     "text": [
      "[flaml.automl: 10-24 16:15:53] {3354} INFO -  at 4.2s,\testimator lgbm's best error=0.2181,\tbest estimator lgbm's best error=0.2181\n"
     ]
    },
    {
     "name": "stderr",
     "output_type": "stream",
     "text": [
      "[flaml.automl: 10-24 16:15:53] {3354} INFO -  at 4.2s,\testimator lgbm's best error=0.2181,\tbest estimator lgbm's best error=0.2181\n",
      "[flaml.automl: 10-24 16:15:53] {3174} INFO - iteration 33, current learner xgboost\n"
     ]
    },
    {
     "name": "stdout",
     "output_type": "stream",
     "text": [
      "[flaml.automl: 10-24 16:15:53] {3174} INFO - iteration 33, current learner xgboost\n"
     ]
    },
    {
     "name": "stderr",
     "output_type": "stream",
     "text": [
      "[flaml.automl: 10-24 16:15:53] {3174} INFO - iteration 33, current learner xgboost\n"
     ]
    },
    {
     "name": "stdout",
     "output_type": "stream",
     "text": [
      "[flaml.tune.tune: 10-24 16:15:53] {513} INFO - trial 1 config: {'n_estimators': 27, 'max_leaves': 5, 'min_child_weight': 0.54082553556538, 'learning_rate': 0.5529329928049416, 'subsample': 0.8571391187402296, 'colsample_bylevel': 0.9950959910192901, 'colsample_bytree': 1.0, 'reg_alpha': 0.0009765625, 'reg_lambda': 0.8425360467603051}\n"
     ]
    },
    {
     "name": "stderr",
     "output_type": "stream",
     "text": [
      "[flaml.tune.tune: 10-24 16:15:53] {513} INFO - trial 1 config: {'n_estimators': 27, 'max_leaves': 5, 'min_child_weight': 0.54082553556538, 'learning_rate': 0.5529329928049416, 'subsample': 0.8571391187402296, 'colsample_bylevel': 0.9950959910192901, 'colsample_bytree': 1.0, 'reg_alpha': 0.0009765625, 'reg_lambda': 0.8425360467603051}\n",
      "[flaml.automl: 10-24 16:15:54] {3354} INFO -  at 4.4s,\testimator xgboost's best error=0.1796,\tbest estimator xgboost's best error=0.1796\n"
     ]
    },
    {
     "name": "stdout",
     "output_type": "stream",
     "text": [
      "[flaml.automl: 10-24 16:15:54] {3354} INFO -  at 4.4s,\testimator xgboost's best error=0.1796,\tbest estimator xgboost's best error=0.1796\n"
     ]
    },
    {
     "name": "stderr",
     "output_type": "stream",
     "text": [
      "[flaml.automl: 10-24 16:15:54] {3354} INFO -  at 4.4s,\testimator xgboost's best error=0.1796,\tbest estimator xgboost's best error=0.1796\n",
      "[flaml.automl: 10-24 16:15:54] {3174} INFO - iteration 34, current learner xgboost\n"
     ]
    },
    {
     "name": "stdout",
     "output_type": "stream",
     "text": [
      "[flaml.automl: 10-24 16:15:54] {3174} INFO - iteration 34, current learner xgboost\n"
     ]
    },
    {
     "name": "stderr",
     "output_type": "stream",
     "text": [
      "[flaml.automl: 10-24 16:15:54] {3174} INFO - iteration 34, current learner xgboost\n"
     ]
    },
    {
     "name": "stdout",
     "output_type": "stream",
     "text": [
      "[flaml.tune.tune: 10-24 16:15:54] {513} INFO - trial 1 config: {'n_estimators': 25, 'max_leaves': 5, 'min_child_weight': 1.0750341606036184, 'learning_rate': 0.2592362725260479, 'subsample': 1.0, 'colsample_bylevel': 1.0, 'colsample_bytree': 0.8002758658273889, 'reg_alpha': 0.003489698068269874, 'reg_lambda': 0.9305178134213601}\n"
     ]
    },
    {
     "name": "stderr",
     "output_type": "stream",
     "text": [
      "[flaml.tune.tune: 10-24 16:15:54] {513} INFO - trial 1 config: {'n_estimators': 25, 'max_leaves': 5, 'min_child_weight': 1.0750341606036184, 'learning_rate': 0.2592362725260479, 'subsample': 1.0, 'colsample_bylevel': 1.0, 'colsample_bytree': 0.8002758658273889, 'reg_alpha': 0.003489698068269874, 'reg_lambda': 0.9305178134213601}\n",
      "[flaml.automl: 10-24 16:15:54] {3354} INFO -  at 4.8s,\testimator xgboost's best error=0.1796,\tbest estimator xgboost's best error=0.1796\n"
     ]
    },
    {
     "name": "stdout",
     "output_type": "stream",
     "text": [
      "[flaml.automl: 10-24 16:15:54] {3354} INFO -  at 4.8s,\testimator xgboost's best error=0.1796,\tbest estimator xgboost's best error=0.1796\n"
     ]
    },
    {
     "name": "stderr",
     "output_type": "stream",
     "text": [
      "[flaml.automl: 10-24 16:15:54] {3354} INFO -  at 4.8s,\testimator xgboost's best error=0.1796,\tbest estimator xgboost's best error=0.1796\n",
      "[flaml.automl: 10-24 16:15:54] {3174} INFO - iteration 35, current learner xgboost\n"
     ]
    },
    {
     "name": "stdout",
     "output_type": "stream",
     "text": [
      "[flaml.automl: 10-24 16:15:54] {3174} INFO - iteration 35, current learner xgboost\n"
     ]
    },
    {
     "name": "stderr",
     "output_type": "stream",
     "text": [
      "[flaml.automl: 10-24 16:15:54] {3174} INFO - iteration 35, current learner xgboost\n"
     ]
    },
    {
     "name": "stdout",
     "output_type": "stream",
     "text": [
      "[flaml.tune.tune: 10-24 16:15:54] {513} INFO - trial 1 config: {'n_estimators': 33, 'max_leaves': 11, 'min_child_weight': 0.23904607240199677, 'learning_rate': 0.5892722506669729, 'subsample': 0.9180402707612114, 'colsample_bylevel': 0.804388646793182, 'colsample_bytree': 1.0, 'reg_alpha': 0.0016469991740555498, 'reg_lambda': 0.988826446648512}\n"
     ]
    },
    {
     "name": "stderr",
     "output_type": "stream",
     "text": [
      "[flaml.tune.tune: 10-24 16:15:54] {513} INFO - trial 1 config: {'n_estimators': 33, 'max_leaves': 11, 'min_child_weight': 0.23904607240199677, 'learning_rate': 0.5892722506669729, 'subsample': 0.9180402707612114, 'colsample_bylevel': 0.804388646793182, 'colsample_bytree': 1.0, 'reg_alpha': 0.0016469991740555498, 'reg_lambda': 0.988826446648512}\n",
      "[flaml.automl: 10-24 16:15:54] {3354} INFO -  at 4.9s,\testimator xgboost's best error=0.1767,\tbest estimator xgboost's best error=0.1767\n"
     ]
    },
    {
     "name": "stdout",
     "output_type": "stream",
     "text": [
      "[flaml.automl: 10-24 16:15:54] {3354} INFO -  at 4.9s,\testimator xgboost's best error=0.1767,\tbest estimator xgboost's best error=0.1767\n"
     ]
    },
    {
     "name": "stderr",
     "output_type": "stream",
     "text": [
      "[flaml.automl: 10-24 16:15:54] {3354} INFO -  at 4.9s,\testimator xgboost's best error=0.1767,\tbest estimator xgboost's best error=0.1767\n",
      "[flaml.automl: 10-24 16:15:54] {3174} INFO - iteration 36, current learner xgboost\n"
     ]
    },
    {
     "name": "stdout",
     "output_type": "stream",
     "text": [
      "[flaml.automl: 10-24 16:15:54] {3174} INFO - iteration 36, current learner xgboost\n"
     ]
    },
    {
     "name": "stderr",
     "output_type": "stream",
     "text": [
      "[flaml.automl: 10-24 16:15:54] {3174} INFO - iteration 36, current learner xgboost\n"
     ]
    },
    {
     "name": "stdout",
     "output_type": "stream",
     "text": [
      "[flaml.tune.tune: 10-24 16:15:54] {513} INFO - trial 1 config: {'n_estimators': 27, 'max_leaves': 5, 'min_child_weight': 0.54082553556538, 'learning_rate': 0.552932992804942, 'subsample': 0.8571391187402296, 'colsample_bylevel': 0.9950959910192901, 'colsample_bytree': 0.8808474099172214, 'reg_alpha': 0.0009765625, 'reg_lambda': 0.8425360467603051}\n"
     ]
    },
    {
     "name": "stderr",
     "output_type": "stream",
     "text": [
      "[flaml.tune.tune: 10-24 16:15:54] {513} INFO - trial 1 config: {'n_estimators': 27, 'max_leaves': 5, 'min_child_weight': 0.54082553556538, 'learning_rate': 0.552932992804942, 'subsample': 0.8571391187402296, 'colsample_bylevel': 0.9950959910192901, 'colsample_bytree': 0.8808474099172214, 'reg_alpha': 0.0009765625, 'reg_lambda': 0.8425360467603051}\n",
      "[flaml.automl: 10-24 16:15:54] {3354} INFO -  at 5.3s,\testimator xgboost's best error=0.1767,\tbest estimator xgboost's best error=0.1767\n"
     ]
    },
    {
     "name": "stdout",
     "output_type": "stream",
     "text": [
      "[flaml.automl: 10-24 16:15:54] {3354} INFO -  at 5.3s,\testimator xgboost's best error=0.1767,\tbest estimator xgboost's best error=0.1767\n"
     ]
    },
    {
     "name": "stderr",
     "output_type": "stream",
     "text": [
      "[flaml.automl: 10-24 16:15:54] {3354} INFO -  at 5.3s,\testimator xgboost's best error=0.1767,\tbest estimator xgboost's best error=0.1767\n",
      "[flaml.automl: 10-24 16:15:54] {3174} INFO - iteration 37, current learner xgboost\n"
     ]
    },
    {
     "name": "stdout",
     "output_type": "stream",
     "text": [
      "[flaml.automl: 10-24 16:15:54] {3174} INFO - iteration 37, current learner xgboost\n"
     ]
    },
    {
     "name": "stderr",
     "output_type": "stream",
     "text": [
      "[flaml.automl: 10-24 16:15:54] {3174} INFO - iteration 37, current learner xgboost\n"
     ]
    },
    {
     "name": "stdout",
     "output_type": "stream",
     "text": [
      "[flaml.tune.tune: 10-24 16:15:54] {513} INFO - trial 1 config: {'n_estimators': 14, 'max_leaves': 8, 'min_child_weight': 1.0888841041541888, 'learning_rate': 1.0, 'subsample': 0.8610232092325529, 'colsample_bylevel': 0.8915302293369723, 'colsample_bytree': 0.9239813872725541, 'reg_alpha': 0.0009765625, 'reg_lambda': 3.0764803000138747}\n"
     ]
    },
    {
     "name": "stderr",
     "output_type": "stream",
     "text": [
      "[flaml.tune.tune: 10-24 16:15:54] {513} INFO - trial 1 config: {'n_estimators': 14, 'max_leaves': 8, 'min_child_weight': 1.0888841041541888, 'learning_rate': 1.0, 'subsample': 0.8610232092325529, 'colsample_bylevel': 0.8915302293369723, 'colsample_bytree': 0.9239813872725541, 'reg_alpha': 0.0009765625, 'reg_lambda': 3.0764803000138747}\n",
      "[flaml.automl: 10-24 16:15:55] {3354} INFO -  at 5.6s,\testimator xgboost's best error=0.1767,\tbest estimator xgboost's best error=0.1767\n"
     ]
    },
    {
     "name": "stdout",
     "output_type": "stream",
     "text": [
      "[flaml.automl: 10-24 16:15:55] {3354} INFO -  at 5.6s,\testimator xgboost's best error=0.1767,\tbest estimator xgboost's best error=0.1767\n"
     ]
    },
    {
     "name": "stderr",
     "output_type": "stream",
     "text": [
      "[flaml.automl: 10-24 16:15:55] {3354} INFO -  at 5.6s,\testimator xgboost's best error=0.1767,\tbest estimator xgboost's best error=0.1767\n",
      "[flaml.automl: 10-24 16:15:55] {3174} INFO - iteration 38, current learner xgboost\n"
     ]
    },
    {
     "name": "stdout",
     "output_type": "stream",
     "text": [
      "[flaml.automl: 10-24 16:15:55] {3174} INFO - iteration 38, current learner xgboost\n"
     ]
    },
    {
     "name": "stderr",
     "output_type": "stream",
     "text": [
      "[flaml.automl: 10-24 16:15:55] {3174} INFO - iteration 38, current learner xgboost\n"
     ]
    },
    {
     "name": "stdout",
     "output_type": "stream",
     "text": [
      "[flaml.tune.tune: 10-24 16:15:55] {513} INFO - trial 1 config: {'n_estimators': 79, 'max_leaves': 16, 'min_child_weight': 0.052478518616274165, 'learning_rate': 0.32427589983504795, 'subsample': 0.9750573322898699, 'colsample_bylevel': 0.7172470642493916, 'colsample_bytree': 1.0, 'reg_alpha': 0.003422787968263652, 'reg_lambda': 0.3178235016122527}\n"
     ]
    },
    {
     "name": "stderr",
     "output_type": "stream",
     "text": [
      "[flaml.tune.tune: 10-24 16:15:55] {513} INFO - trial 1 config: {'n_estimators': 79, 'max_leaves': 16, 'min_child_weight': 0.052478518616274165, 'learning_rate': 0.32427589983504795, 'subsample': 0.9750573322898699, 'colsample_bylevel': 0.7172470642493916, 'colsample_bytree': 1.0, 'reg_alpha': 0.003422787968263652, 'reg_lambda': 0.3178235016122527}\n",
      "[flaml.automl: 10-24 16:15:55] {3354} INFO -  at 5.9s,\testimator xgboost's best error=0.1767,\tbest estimator xgboost's best error=0.1767\n"
     ]
    },
    {
     "name": "stdout",
     "output_type": "stream",
     "text": [
      "[flaml.automl: 10-24 16:15:55] {3354} INFO -  at 5.9s,\testimator xgboost's best error=0.1767,\tbest estimator xgboost's best error=0.1767\n"
     ]
    },
    {
     "name": "stderr",
     "output_type": "stream",
     "text": [
      "[flaml.automl: 10-24 16:15:55] {3354} INFO -  at 5.9s,\testimator xgboost's best error=0.1767,\tbest estimator xgboost's best error=0.1767\n",
      "[flaml.automl: 10-24 16:15:55] {3174} INFO - iteration 39, current learner xgboost\n"
     ]
    },
    {
     "name": "stdout",
     "output_type": "stream",
     "text": [
      "[flaml.automl: 10-24 16:15:55] {3174} INFO - iteration 39, current learner xgboost\n"
     ]
    },
    {
     "name": "stderr",
     "output_type": "stream",
     "text": [
      "[flaml.automl: 10-24 16:15:55] {3174} INFO - iteration 39, current learner xgboost\n"
     ]
    },
    {
     "name": "stdout",
     "output_type": "stream",
     "text": [
      "[flaml.tune.tune: 10-24 16:15:55] {513} INFO - trial 1 config: {'n_estimators': 19, 'max_leaves': 10, 'min_child_weight': 0.49873625150358675, 'learning_rate': 1.0, 'subsample': 1.0, 'colsample_bylevel': 0.7530493417689094, 'colsample_bytree': 0.822023835807275, 'reg_alpha': 0.0018338464071465694, 'reg_lambda': 2.9894940206736558}\n"
     ]
    },
    {
     "name": "stderr",
     "output_type": "stream",
     "text": [
      "[flaml.tune.tune: 10-24 16:15:55] {513} INFO - trial 1 config: {'n_estimators': 19, 'max_leaves': 10, 'min_child_weight': 0.49873625150358675, 'learning_rate': 1.0, 'subsample': 1.0, 'colsample_bylevel': 0.7530493417689094, 'colsample_bytree': 0.822023835807275, 'reg_alpha': 0.0018338464071465694, 'reg_lambda': 2.9894940206736558}\n",
      "[flaml.automl: 10-24 16:15:55] {3354} INFO -  at 6.2s,\testimator xgboost's best error=0.1767,\tbest estimator xgboost's best error=0.1767\n"
     ]
    },
    {
     "name": "stdout",
     "output_type": "stream",
     "text": [
      "[flaml.automl: 10-24 16:15:55] {3354} INFO -  at 6.2s,\testimator xgboost's best error=0.1767,\tbest estimator xgboost's best error=0.1767\n"
     ]
    },
    {
     "name": "stderr",
     "output_type": "stream",
     "text": [
      "[flaml.automl: 10-24 16:15:55] {3354} INFO -  at 6.2s,\testimator xgboost's best error=0.1767,\tbest estimator xgboost's best error=0.1767\n",
      "[flaml.automl: 10-24 16:15:55] {3174} INFO - iteration 40, current learner xgboost\n"
     ]
    },
    {
     "name": "stdout",
     "output_type": "stream",
     "text": [
      "[flaml.automl: 10-24 16:15:55] {3174} INFO - iteration 40, current learner xgboost\n"
     ]
    },
    {
     "name": "stderr",
     "output_type": "stream",
     "text": [
      "[flaml.automl: 10-24 16:15:55] {3174} INFO - iteration 40, current learner xgboost\n"
     ]
    },
    {
     "name": "stdout",
     "output_type": "stream",
     "text": [
      "[flaml.tune.tune: 10-24 16:15:55] {513} INFO - trial 1 config: {'n_estimators': 56, 'max_leaves': 12, 'min_child_weight': 0.11457563904477806, 'learning_rate': 0.29094645930272106, 'subsample': 0.7872691134833126, 'colsample_bylevel': 0.8557279518174545, 'colsample_bytree': 1.0, 'reg_alpha': 0.0014791894614339198, 'reg_lambda': 0.3270713153562987}\n"
     ]
    },
    {
     "name": "stderr",
     "output_type": "stream",
     "text": [
      "[flaml.tune.tune: 10-24 16:15:55] {513} INFO - trial 1 config: {'n_estimators': 56, 'max_leaves': 12, 'min_child_weight': 0.11457563904477806, 'learning_rate': 0.29094645930272106, 'subsample': 0.7872691134833126, 'colsample_bylevel': 0.8557279518174545, 'colsample_bytree': 1.0, 'reg_alpha': 0.0014791894614339198, 'reg_lambda': 0.3270713153562987}\n",
      "[flaml.automl: 10-24 16:15:56] {3354} INFO -  at 6.5s,\testimator xgboost's best error=0.1767,\tbest estimator xgboost's best error=0.1767\n"
     ]
    },
    {
     "name": "stdout",
     "output_type": "stream",
     "text": [
      "[flaml.automl: 10-24 16:15:56] {3354} INFO -  at 6.5s,\testimator xgboost's best error=0.1767,\tbest estimator xgboost's best error=0.1767\n"
     ]
    },
    {
     "name": "stderr",
     "output_type": "stream",
     "text": [
      "[flaml.automl: 10-24 16:15:56] {3354} INFO -  at 6.5s,\testimator xgboost's best error=0.1767,\tbest estimator xgboost's best error=0.1767\n",
      "[flaml.automl: 10-24 16:15:56] {3174} INFO - iteration 41, current learner catboost\n"
     ]
    },
    {
     "name": "stdout",
     "output_type": "stream",
     "text": [
      "[flaml.automl: 10-24 16:15:56] {3174} INFO - iteration 41, current learner catboost\n"
     ]
    },
    {
     "name": "stderr",
     "output_type": "stream",
     "text": [
      "[flaml.automl: 10-24 16:15:56] {3174} INFO - iteration 41, current learner catboost\n"
     ]
    },
    {
     "name": "stdout",
     "output_type": "stream",
     "text": [
      "[flaml.tune.tune: 10-24 16:15:56] {513} INFO - trial 1 config: {'early_stopping_rounds': 10, 'learning_rate': 0.09999999999999996, 'n_estimators': 8192}\n"
     ]
    },
    {
     "name": "stderr",
     "output_type": "stream",
     "text": [
      "[flaml.tune.tune: 10-24 16:15:56] {513} INFO - trial 1 config: {'early_stopping_rounds': 10, 'learning_rate': 0.09999999999999996, 'n_estimators': 8192}\n",
      "[flaml.automl: 10-24 16:15:56] {3354} INFO -  at 6.9s,\testimator catboost's best error=0.2097,\tbest estimator xgboost's best error=0.1767\n"
     ]
    },
    {
     "name": "stdout",
     "output_type": "stream",
     "text": [
      "[flaml.automl: 10-24 16:15:56] {3354} INFO -  at 6.9s,\testimator catboost's best error=0.2097,\tbest estimator xgboost's best error=0.1767\n"
     ]
    },
    {
     "name": "stderr",
     "output_type": "stream",
     "text": [
      "[flaml.automl: 10-24 16:15:56] {3354} INFO -  at 6.9s,\testimator catboost's best error=0.2097,\tbest estimator xgboost's best error=0.1767\n",
      "[flaml.automl: 10-24 16:15:56] {3174} INFO - iteration 42, current learner xgboost\n"
     ]
    },
    {
     "name": "stdout",
     "output_type": "stream",
     "text": [
      "[flaml.automl: 10-24 16:15:56] {3174} INFO - iteration 42, current learner xgboost\n"
     ]
    },
    {
     "name": "stderr",
     "output_type": "stream",
     "text": [
      "[flaml.automl: 10-24 16:15:56] {3174} INFO - iteration 42, current learner xgboost\n"
     ]
    },
    {
     "name": "stdout",
     "output_type": "stream",
     "text": [
      "[flaml.tune.tune: 10-24 16:15:56] {513} INFO - trial 1 config: {'n_estimators': 29, 'max_leaves': 17, 'min_child_weight': 0.8079512526468908, 'learning_rate': 0.6985432688063337, 'subsample': 0.9599282099550369, 'colsample_bylevel': 0.7540368847658824, 'colsample_bytree': 1.0, 'reg_alpha': 0.0009765625, 'reg_lambda': 17.45495378963579}\n"
     ]
    },
    {
     "name": "stderr",
     "output_type": "stream",
     "text": [
      "[flaml.tune.tune: 10-24 16:15:56] {513} INFO - trial 1 config: {'n_estimators': 29, 'max_leaves': 17, 'min_child_weight': 0.8079512526468908, 'learning_rate': 0.6985432688063337, 'subsample': 0.9599282099550369, 'colsample_bylevel': 0.7540368847658824, 'colsample_bytree': 1.0, 'reg_alpha': 0.0009765625, 'reg_lambda': 17.45495378963579}\n",
      "[flaml.automl: 10-24 16:16:07] {3354} INFO -  at 17.6s,\testimator xgboost's best error=0.1767,\tbest estimator xgboost's best error=0.1767\n"
     ]
    },
    {
     "name": "stdout",
     "output_type": "stream",
     "text": [
      "[flaml.automl: 10-24 16:16:07] {3354} INFO -  at 17.6s,\testimator xgboost's best error=0.1767,\tbest estimator xgboost's best error=0.1767\n"
     ]
    },
    {
     "name": "stderr",
     "output_type": "stream",
     "text": [
      "[flaml.automl: 10-24 16:16:07] {3354} INFO -  at 17.6s,\testimator xgboost's best error=0.1767,\tbest estimator xgboost's best error=0.1767\n",
      "[flaml.automl: 10-24 16:16:07] {3174} INFO - iteration 43, current learner lgbm\n"
     ]
    },
    {
     "name": "stdout",
     "output_type": "stream",
     "text": [
      "[flaml.automl: 10-24 16:16:07] {3174} INFO - iteration 43, current learner lgbm\n"
     ]
    },
    {
     "name": "stderr",
     "output_type": "stream",
     "text": [
      "[flaml.automl: 10-24 16:16:07] {3174} INFO - iteration 43, current learner lgbm\n"
     ]
    },
    {
     "name": "stdout",
     "output_type": "stream",
     "text": [
      "[flaml.tune.tune: 10-24 16:16:07] {513} INFO - trial 1 config: {'n_estimators': 16, 'num_leaves': 21, 'min_child_samples': 45, 'learning_rate': 0.3991961943211699, 'log_max_bin': 8, 'colsample_bytree': 0.7958423320968472, 'reg_alpha': 0.08725574978213288, 'reg_lambda': 0.5250246955550186}\n"
     ]
    },
    {
     "name": "stderr",
     "output_type": "stream",
     "text": [
      "[flaml.tune.tune: 10-24 16:16:07] {513} INFO - trial 1 config: {'n_estimators': 16, 'num_leaves': 21, 'min_child_samples': 45, 'learning_rate': 0.3991961943211699, 'log_max_bin': 8, 'colsample_bytree': 0.7958423320968472, 'reg_alpha': 0.08725574978213288, 'reg_lambda': 0.5250246955550186}\n",
      "[flaml.automl: 10-24 16:16:08] {3354} INFO -  at 18.3s,\testimator lgbm's best error=0.2181,\tbest estimator xgboost's best error=0.1767\n"
     ]
    },
    {
     "name": "stdout",
     "output_type": "stream",
     "text": [
      "[flaml.automl: 10-24 16:16:08] {3354} INFO -  at 18.3s,\testimator lgbm's best error=0.2181,\tbest estimator xgboost's best error=0.1767\n"
     ]
    },
    {
     "name": "stderr",
     "output_type": "stream",
     "text": [
      "[flaml.automl: 10-24 16:16:08] {3354} INFO -  at 18.3s,\testimator lgbm's best error=0.2181,\tbest estimator xgboost's best error=0.1767\n",
      "[flaml.automl: 10-24 16:16:08] {3174} INFO - iteration 44, current learner catboost\n"
     ]
    },
    {
     "name": "stdout",
     "output_type": "stream",
     "text": [
      "[flaml.automl: 10-24 16:16:08] {3174} INFO - iteration 44, current learner catboost\n"
     ]
    },
    {
     "name": "stderr",
     "output_type": "stream",
     "text": [
      "[flaml.automl: 10-24 16:16:08] {3174} INFO - iteration 44, current learner catboost\n"
     ]
    },
    {
     "name": "stdout",
     "output_type": "stream",
     "text": [
      "[flaml.tune.tune: 10-24 16:16:08] {513} INFO - trial 1 config: {'early_stopping_rounds': 10, 'learning_rate': 0.1181494426598381, 'n_estimators': 8192}\n"
     ]
    },
    {
     "name": "stderr",
     "output_type": "stream",
     "text": [
      "[flaml.tune.tune: 10-24 16:16:08] {513} INFO - trial 1 config: {'early_stopping_rounds': 10, 'learning_rate': 0.1181494426598381, 'n_estimators': 8192}\n",
      "[flaml.automl: 10-24 16:16:08] {3354} INFO -  at 18.7s,\testimator catboost's best error=0.1856,\tbest estimator xgboost's best error=0.1767\n"
     ]
    },
    {
     "name": "stdout",
     "output_type": "stream",
     "text": [
      "[flaml.automl: 10-24 16:16:08] {3354} INFO -  at 18.7s,\testimator catboost's best error=0.1856,\tbest estimator xgboost's best error=0.1767\n"
     ]
    },
    {
     "name": "stderr",
     "output_type": "stream",
     "text": [
      "[flaml.automl: 10-24 16:16:08] {3354} INFO -  at 18.7s,\testimator catboost's best error=0.1856,\tbest estimator xgboost's best error=0.1767\n",
      "[flaml.automl: 10-24 16:16:08] {3174} INFO - iteration 45, current learner extra_tree\n"
     ]
    },
    {
     "name": "stdout",
     "output_type": "stream",
     "text": [
      "[flaml.automl: 10-24 16:16:08] {3174} INFO - iteration 45, current learner extra_tree\n"
     ]
    },
    {
     "name": "stderr",
     "output_type": "stream",
     "text": [
      "[flaml.automl: 10-24 16:16:08] {3174} INFO - iteration 45, current learner extra_tree\n"
     ]
    },
    {
     "name": "stdout",
     "output_type": "stream",
     "text": [
      "[flaml.tune.tune: 10-24 16:16:08] {513} INFO - trial 1 config: {'n_estimators': 6, 'max_features': 0.0657928522839048, 'max_leaves': 4, 'criterion': 'gini'}\n"
     ]
    },
    {
     "name": "stderr",
     "output_type": "stream",
     "text": [
      "[flaml.tune.tune: 10-24 16:16:08] {513} INFO - trial 1 config: {'n_estimators': 6, 'max_features': 0.0657928522839048, 'max_leaves': 4, 'criterion': 'gini'}\n",
      "[flaml.automl: 10-24 16:16:08] {3354} INFO -  at 18.9s,\testimator extra_tree's best error=0.3612,\tbest estimator xgboost's best error=0.1767\n"
     ]
    },
    {
     "name": "stdout",
     "output_type": "stream",
     "text": [
      "[flaml.automl: 10-24 16:16:08] {3354} INFO -  at 18.9s,\testimator extra_tree's best error=0.3612,\tbest estimator xgboost's best error=0.1767\n"
     ]
    },
    {
     "name": "stderr",
     "output_type": "stream",
     "text": [
      "[flaml.automl: 10-24 16:16:08] {3354} INFO -  at 18.9s,\testimator extra_tree's best error=0.3612,\tbest estimator xgboost's best error=0.1767\n",
      "[flaml.automl: 10-24 16:16:08] {3174} INFO - iteration 46, current learner catboost\n"
     ]
    },
    {
     "name": "stdout",
     "output_type": "stream",
     "text": [
      "[flaml.automl: 10-24 16:16:08] {3174} INFO - iteration 46, current learner catboost\n"
     ]
    },
    {
     "name": "stderr",
     "output_type": "stream",
     "text": [
      "[flaml.automl: 10-24 16:16:08] {3174} INFO - iteration 46, current learner catboost\n"
     ]
    },
    {
     "name": "stdout",
     "output_type": "stream",
     "text": [
      "[flaml.tune.tune: 10-24 16:16:08] {513} INFO - trial 1 config: {'early_stopping_rounds': 14, 'learning_rate': 0.09999999999999996, 'n_estimators': 8192}\n"
     ]
    },
    {
     "name": "stderr",
     "output_type": "stream",
     "text": [
      "[flaml.tune.tune: 10-24 16:16:08] {513} INFO - trial 1 config: {'early_stopping_rounds': 14, 'learning_rate': 0.09999999999999996, 'n_estimators': 8192}\n",
      "[flaml.automl: 10-24 16:16:09] {3354} INFO -  at 19.4s,\testimator catboost's best error=0.1856,\tbest estimator xgboost's best error=0.1767\n"
     ]
    },
    {
     "name": "stdout",
     "output_type": "stream",
     "text": [
      "[flaml.automl: 10-24 16:16:09] {3354} INFO -  at 19.4s,\testimator catboost's best error=0.1856,\tbest estimator xgboost's best error=0.1767\n"
     ]
    },
    {
     "name": "stderr",
     "output_type": "stream",
     "text": [
      "[flaml.automl: 10-24 16:16:09] {3354} INFO -  at 19.4s,\testimator catboost's best error=0.1856,\tbest estimator xgboost's best error=0.1767\n",
      "[flaml.automl: 10-24 16:16:09] {3174} INFO - iteration 47, current learner catboost\n"
     ]
    },
    {
     "name": "stdout",
     "output_type": "stream",
     "text": [
      "[flaml.automl: 10-24 16:16:09] {3174} INFO - iteration 47, current learner catboost\n"
     ]
    },
    {
     "name": "stderr",
     "output_type": "stream",
     "text": [
      "[flaml.automl: 10-24 16:16:09] {3174} INFO - iteration 47, current learner catboost\n"
     ]
    },
    {
     "name": "stdout",
     "output_type": "stream",
     "text": [
      "[flaml.tune.tune: 10-24 16:16:09] {513} INFO - trial 1 config: {'early_stopping_rounds': 11, 'learning_rate': 0.07133315112872012, 'n_estimators': 8192}\n"
     ]
    },
    {
     "name": "stderr",
     "output_type": "stream",
     "text": [
      "[flaml.tune.tune: 10-24 16:16:09] {513} INFO - trial 1 config: {'early_stopping_rounds': 11, 'learning_rate': 0.07133315112872012, 'n_estimators': 8192}\n",
      "[flaml.automl: 10-24 16:16:09] {3354} INFO -  at 20.0s,\testimator catboost's best error=0.1856,\tbest estimator xgboost's best error=0.1767\n"
     ]
    },
    {
     "name": "stdout",
     "output_type": "stream",
     "text": [
      "[flaml.automl: 10-24 16:16:09] {3354} INFO -  at 20.0s,\testimator catboost's best error=0.1856,\tbest estimator xgboost's best error=0.1767\n"
     ]
    },
    {
     "name": "stderr",
     "output_type": "stream",
     "text": [
      "[flaml.automl: 10-24 16:16:09] {3354} INFO -  at 20.0s,\testimator catboost's best error=0.1856,\tbest estimator xgboost's best error=0.1767\n",
      "[flaml.automl: 10-24 16:16:09] {3174} INFO - iteration 48, current learner catboost\n"
     ]
    },
    {
     "name": "stdout",
     "output_type": "stream",
     "text": [
      "[flaml.automl: 10-24 16:16:09] {3174} INFO - iteration 48, current learner catboost\n"
     ]
    },
    {
     "name": "stderr",
     "output_type": "stream",
     "text": [
      "[flaml.automl: 10-24 16:16:09] {3174} INFO - iteration 48, current learner catboost\n"
     ]
    },
    {
     "name": "stdout",
     "output_type": "stream",
     "text": [
      "[flaml.tune.tune: 10-24 16:16:09] {513} INFO - trial 1 config: {'early_stopping_rounds': 10, 'learning_rate': 0.19569149238396802, 'n_estimators': 8192}\n"
     ]
    },
    {
     "name": "stderr",
     "output_type": "stream",
     "text": [
      "[flaml.tune.tune: 10-24 16:16:09] {513} INFO - trial 1 config: {'early_stopping_rounds': 10, 'learning_rate': 0.19569149238396802, 'n_estimators': 8192}\n",
      "[flaml.automl: 10-24 16:16:09] {3354} INFO -  at 20.3s,\testimator catboost's best error=0.1856,\tbest estimator xgboost's best error=0.1767\n"
     ]
    },
    {
     "name": "stdout",
     "output_type": "stream",
     "text": [
      "[flaml.automl: 10-24 16:16:09] {3354} INFO -  at 20.3s,\testimator catboost's best error=0.1856,\tbest estimator xgboost's best error=0.1767\n"
     ]
    },
    {
     "name": "stderr",
     "output_type": "stream",
     "text": [
      "[flaml.automl: 10-24 16:16:09] {3354} INFO -  at 20.3s,\testimator catboost's best error=0.1856,\tbest estimator xgboost's best error=0.1767\n",
      "[flaml.automl: 10-24 16:16:09] {3174} INFO - iteration 49, current learner lgbm\n"
     ]
    },
    {
     "name": "stdout",
     "output_type": "stream",
     "text": [
      "[flaml.automl: 10-24 16:16:09] {3174} INFO - iteration 49, current learner lgbm\n"
     ]
    },
    {
     "name": "stderr",
     "output_type": "stream",
     "text": [
      "[flaml.automl: 10-24 16:16:09] {3174} INFO - iteration 49, current learner lgbm\n"
     ]
    },
    {
     "name": "stdout",
     "output_type": "stream",
     "text": [
      "[flaml.tune.tune: 10-24 16:16:10] {513} INFO - trial 1 config: {'n_estimators': 22, 'num_leaves': 25, 'min_child_samples': 32, 'learning_rate': 0.11218994770127992, 'log_max_bin': 10, 'colsample_bytree': 0.8683207769566085, 'reg_alpha': 0.42818290440341794, 'reg_lambda': 0.225582972136702}\n"
     ]
    },
    {
     "name": "stderr",
     "output_type": "stream",
     "text": [
      "[flaml.tune.tune: 10-24 16:16:10] {513} INFO - trial 1 config: {'n_estimators': 22, 'num_leaves': 25, 'min_child_samples': 32, 'learning_rate': 0.11218994770127992, 'log_max_bin': 10, 'colsample_bytree': 0.8683207769566085, 'reg_alpha': 0.42818290440341794, 'reg_lambda': 0.225582972136702}\n",
      "[flaml.automl: 10-24 16:16:14] {3354} INFO -  at 25.3s,\testimator lgbm's best error=0.2181,\tbest estimator xgboost's best error=0.1767\n"
     ]
    },
    {
     "name": "stdout",
     "output_type": "stream",
     "text": [
      "[flaml.automl: 10-24 16:16:14] {3354} INFO -  at 25.3s,\testimator lgbm's best error=0.2181,\tbest estimator xgboost's best error=0.1767\n"
     ]
    },
    {
     "name": "stderr",
     "output_type": "stream",
     "text": [
      "[flaml.automl: 10-24 16:16:14] {3354} INFO -  at 25.3s,\testimator lgbm's best error=0.2181,\tbest estimator xgboost's best error=0.1767\n",
      "[flaml.automl: 10-24 16:16:14] {3174} INFO - iteration 50, current learner catboost\n"
     ]
    },
    {
     "name": "stdout",
     "output_type": "stream",
     "text": [
      "[flaml.automl: 10-24 16:16:14] {3174} INFO - iteration 50, current learner catboost\n"
     ]
    },
    {
     "name": "stderr",
     "output_type": "stream",
     "text": [
      "[flaml.automl: 10-24 16:16:14] {3174} INFO - iteration 50, current learner catboost\n"
     ]
    },
    {
     "name": "stdout",
     "output_type": "stream",
     "text": [
      "[flaml.tune.tune: 10-24 16:16:15] {513} INFO - trial 1 config: {'early_stopping_rounds': 12, 'learning_rate': 0.07452159614393415, 'n_estimators': 8192}\n"
     ]
    },
    {
     "name": "stderr",
     "output_type": "stream",
     "text": [
      "[flaml.tune.tune: 10-24 16:16:15] {513} INFO - trial 1 config: {'early_stopping_rounds': 12, 'learning_rate': 0.07452159614393415, 'n_estimators': 8192}\n",
      "[flaml.automl: 10-24 16:16:15] {3354} INFO -  at 25.9s,\testimator catboost's best error=0.1856,\tbest estimator xgboost's best error=0.1767\n"
     ]
    },
    {
     "name": "stdout",
     "output_type": "stream",
     "text": [
      "[flaml.automl: 10-24 16:16:15] {3354} INFO -  at 25.9s,\testimator catboost's best error=0.1856,\tbest estimator xgboost's best error=0.1767\n"
     ]
    },
    {
     "name": "stderr",
     "output_type": "stream",
     "text": [
      "[flaml.automl: 10-24 16:16:15] {3354} INFO -  at 25.9s,\testimator catboost's best error=0.1856,\tbest estimator xgboost's best error=0.1767\n",
      "[flaml.automl: 10-24 16:16:15] {3174} INFO - iteration 51, current learner extra_tree\n"
     ]
    },
    {
     "name": "stdout",
     "output_type": "stream",
     "text": [
      "[flaml.automl: 10-24 16:16:15] {3174} INFO - iteration 51, current learner extra_tree\n"
     ]
    },
    {
     "name": "stderr",
     "output_type": "stream",
     "text": [
      "[flaml.automl: 10-24 16:16:15] {3174} INFO - iteration 51, current learner extra_tree\n"
     ]
    },
    {
     "name": "stdout",
     "output_type": "stream",
     "text": [
      "[flaml.tune.tune: 10-24 16:16:15] {513} INFO - trial 1 config: {'n_estimators': 6, 'max_features': 0.1596694798891014, 'max_leaves': 6, 'criterion': 'entropy'}\n"
     ]
    },
    {
     "name": "stderr",
     "output_type": "stream",
     "text": [
      "[flaml.tune.tune: 10-24 16:16:15] {513} INFO - trial 1 config: {'n_estimators': 6, 'max_features': 0.1596694798891014, 'max_leaves': 6, 'criterion': 'entropy'}\n",
      "[flaml.automl: 10-24 16:16:15] {3354} INFO -  at 26.1s,\testimator extra_tree's best error=0.3517,\tbest estimator xgboost's best error=0.1767\n"
     ]
    },
    {
     "name": "stdout",
     "output_type": "stream",
     "text": [
      "[flaml.automl: 10-24 16:16:15] {3354} INFO -  at 26.1s,\testimator extra_tree's best error=0.3517,\tbest estimator xgboost's best error=0.1767\n"
     ]
    },
    {
     "name": "stderr",
     "output_type": "stream",
     "text": [
      "[flaml.automl: 10-24 16:16:15] {3354} INFO -  at 26.1s,\testimator extra_tree's best error=0.3517,\tbest estimator xgboost's best error=0.1767\n",
      "[flaml.automl: 10-24 16:16:15] {3174} INFO - iteration 52, current learner catboost\n"
     ]
    },
    {
     "name": "stdout",
     "output_type": "stream",
     "text": [
      "[flaml.automl: 10-24 16:16:15] {3174} INFO - iteration 52, current learner catboost\n"
     ]
    },
    {
     "name": "stderr",
     "output_type": "stream",
     "text": [
      "[flaml.automl: 10-24 16:16:15] {3174} INFO - iteration 52, current learner catboost\n"
     ]
    },
    {
     "name": "stdout",
     "output_type": "stream",
     "text": [
      "[flaml.tune.tune: 10-24 16:16:15] {513} INFO - trial 1 config: {'early_stopping_rounds': 10, 'learning_rate': 0.18731873071892888, 'n_estimators': 8192}\n"
     ]
    },
    {
     "name": "stderr",
     "output_type": "stream",
     "text": [
      "[flaml.tune.tune: 10-24 16:16:15] {513} INFO - trial 1 config: {'early_stopping_rounds': 10, 'learning_rate': 0.18731873071892888, 'n_estimators': 8192}\n",
      "[flaml.automl: 10-24 16:16:15] {3354} INFO -  at 26.3s,\testimator catboost's best error=0.1856,\tbest estimator xgboost's best error=0.1767\n"
     ]
    },
    {
     "name": "stdout",
     "output_type": "stream",
     "text": [
      "[flaml.automl: 10-24 16:16:15] {3354} INFO -  at 26.3s,\testimator catboost's best error=0.1856,\tbest estimator xgboost's best error=0.1767\n"
     ]
    },
    {
     "name": "stderr",
     "output_type": "stream",
     "text": [
      "[flaml.automl: 10-24 16:16:15] {3354} INFO -  at 26.3s,\testimator catboost's best error=0.1856,\tbest estimator xgboost's best error=0.1767\n",
      "[flaml.automl: 10-24 16:16:15] {3174} INFO - iteration 53, current learner catboost\n"
     ]
    },
    {
     "name": "stdout",
     "output_type": "stream",
     "text": [
      "[flaml.automl: 10-24 16:16:15] {3174} INFO - iteration 53, current learner catboost\n"
     ]
    },
    {
     "name": "stderr",
     "output_type": "stream",
     "text": [
      "[flaml.automl: 10-24 16:16:15] {3174} INFO - iteration 53, current learner catboost\n"
     ]
    },
    {
     "name": "stdout",
     "output_type": "stream",
     "text": [
      "[flaml.tune.tune: 10-24 16:16:15] {513} INFO - trial 1 config: {'early_stopping_rounds': 10, 'learning_rate': 0.13889575991739786, 'n_estimators': 8192}\n"
     ]
    },
    {
     "name": "stderr",
     "output_type": "stream",
     "text": [
      "[flaml.tune.tune: 10-24 16:16:15] {513} INFO - trial 1 config: {'early_stopping_rounds': 10, 'learning_rate': 0.13889575991739786, 'n_estimators': 8192}\n",
      "[flaml.automl: 10-24 16:16:16] {3354} INFO -  at 26.6s,\testimator catboost's best error=0.1856,\tbest estimator xgboost's best error=0.1767\n"
     ]
    },
    {
     "name": "stdout",
     "output_type": "stream",
     "text": [
      "[flaml.automl: 10-24 16:16:16] {3354} INFO -  at 26.6s,\testimator catboost's best error=0.1856,\tbest estimator xgboost's best error=0.1767\n"
     ]
    },
    {
     "name": "stderr",
     "output_type": "stream",
     "text": [
      "[flaml.automl: 10-24 16:16:16] {3354} INFO -  at 26.6s,\testimator catboost's best error=0.1856,\tbest estimator xgboost's best error=0.1767\n",
      "[flaml.automl: 10-24 16:16:16] {3174} INFO - iteration 54, current learner rf\n"
     ]
    },
    {
     "name": "stdout",
     "output_type": "stream",
     "text": [
      "[flaml.automl: 10-24 16:16:16] {3174} INFO - iteration 54, current learner rf\n"
     ]
    },
    {
     "name": "stderr",
     "output_type": "stream",
     "text": [
      "[flaml.automl: 10-24 16:16:16] {3174} INFO - iteration 54, current learner rf\n"
     ]
    },
    {
     "name": "stdout",
     "output_type": "stream",
     "text": [
      "[flaml.tune.tune: 10-24 16:16:16] {513} INFO - trial 1 config: {'n_estimators': 10, 'max_features': 0.06375767130633382, 'max_leaves': 4, 'criterion': 'gini'}\n"
     ]
    },
    {
     "name": "stderr",
     "output_type": "stream",
     "text": [
      "[flaml.tune.tune: 10-24 16:16:16] {513} INFO - trial 1 config: {'n_estimators': 10, 'max_features': 0.06375767130633382, 'max_leaves': 4, 'criterion': 'gini'}\n",
      "[flaml.automl: 10-24 16:16:16] {3354} INFO -  at 26.7s,\testimator rf's best error=0.3997,\tbest estimator xgboost's best error=0.1767\n"
     ]
    },
    {
     "name": "stdout",
     "output_type": "stream",
     "text": [
      "[flaml.automl: 10-24 16:16:16] {3354} INFO -  at 26.7s,\testimator rf's best error=0.3997,\tbest estimator xgboost's best error=0.1767\n"
     ]
    },
    {
     "name": "stderr",
     "output_type": "stream",
     "text": [
      "[flaml.automl: 10-24 16:16:16] {3354} INFO -  at 26.7s,\testimator rf's best error=0.3997,\tbest estimator xgboost's best error=0.1767\n",
      "[flaml.automl: 10-24 16:16:16] {3174} INFO - iteration 55, current learner lgbm\n"
     ]
    },
    {
     "name": "stdout",
     "output_type": "stream",
     "text": [
      "[flaml.automl: 10-24 16:16:16] {3174} INFO - iteration 55, current learner lgbm\n"
     ]
    },
    {
     "name": "stderr",
     "output_type": "stream",
     "text": [
      "[flaml.automl: 10-24 16:16:16] {3174} INFO - iteration 55, current learner lgbm\n"
     ]
    },
    {
     "name": "stdout",
     "output_type": "stream",
     "text": [
      "[flaml.tune.tune: 10-24 16:16:16] {513} INFO - trial 1 config: {'n_estimators': 25, 'num_leaves': 6, 'min_child_samples': 20, 'learning_rate': 0.4431470791752281, 'log_max_bin': 8, 'colsample_bytree': 0.5990181920926556, 'reg_alpha': 0.16279493831066838, 'reg_lambda': 0.6748536134367136}\n"
     ]
    },
    {
     "name": "stderr",
     "output_type": "stream",
     "text": [
      "[flaml.tune.tune: 10-24 16:16:16] {513} INFO - trial 1 config: {'n_estimators': 25, 'num_leaves': 6, 'min_child_samples': 20, 'learning_rate': 0.4431470791752281, 'log_max_bin': 8, 'colsample_bytree': 0.5990181920926556, 'reg_alpha': 0.16279493831066838, 'reg_lambda': 0.6748536134367136}\n",
      "[flaml.automl: 10-24 16:16:16] {3354} INFO -  at 26.9s,\testimator lgbm's best error=0.1850,\tbest estimator xgboost's best error=0.1767\n"
     ]
    },
    {
     "name": "stdout",
     "output_type": "stream",
     "text": [
      "[flaml.automl: 10-24 16:16:16] {3354} INFO -  at 26.9s,\testimator lgbm's best error=0.1850,\tbest estimator xgboost's best error=0.1767\n"
     ]
    },
    {
     "name": "stderr",
     "output_type": "stream",
     "text": [
      "[flaml.automl: 10-24 16:16:16] {3354} INFO -  at 26.9s,\testimator lgbm's best error=0.1850,\tbest estimator xgboost's best error=0.1767\n",
      "[flaml.automl: 10-24 16:16:16] {3174} INFO - iteration 56, current learner catboost\n"
     ]
    },
    {
     "name": "stdout",
     "output_type": "stream",
     "text": [
      "[flaml.automl: 10-24 16:16:16] {3174} INFO - iteration 56, current learner catboost\n"
     ]
    },
    {
     "name": "stderr",
     "output_type": "stream",
     "text": [
      "[flaml.automl: 10-24 16:16:16] {3174} INFO - iteration 56, current learner catboost\n"
     ]
    },
    {
     "name": "stdout",
     "output_type": "stream",
     "text": [
      "[flaml.tune.tune: 10-24 16:16:16] {513} INFO - trial 1 config: {'early_stopping_rounds': 10, 'learning_rate': 0.019411413116382704, 'n_estimators': 8192}\n"
     ]
    },
    {
     "name": "stderr",
     "output_type": "stream",
     "text": [
      "[flaml.tune.tune: 10-24 16:16:16] {513} INFO - trial 1 config: {'early_stopping_rounds': 10, 'learning_rate': 0.019411413116382704, 'n_estimators': 8192}\n",
      "[flaml.automl: 10-24 16:16:17] {3354} INFO -  at 28.3s,\testimator catboost's best error=0.1856,\tbest estimator xgboost's best error=0.1767\n"
     ]
    },
    {
     "name": "stdout",
     "output_type": "stream",
     "text": [
      "[flaml.automl: 10-24 16:16:17] {3354} INFO -  at 28.3s,\testimator catboost's best error=0.1856,\tbest estimator xgboost's best error=0.1767\n"
     ]
    },
    {
     "name": "stderr",
     "output_type": "stream",
     "text": [
      "[flaml.automl: 10-24 16:16:17] {3354} INFO -  at 28.3s,\testimator catboost's best error=0.1856,\tbest estimator xgboost's best error=0.1767\n",
      "[flaml.automl: 10-24 16:16:17] {3174} INFO - iteration 57, current learner lgbm\n"
     ]
    },
    {
     "name": "stdout",
     "output_type": "stream",
     "text": [
      "[flaml.automl: 10-24 16:16:17] {3174} INFO - iteration 57, current learner lgbm\n"
     ]
    },
    {
     "name": "stderr",
     "output_type": "stream",
     "text": [
      "[flaml.automl: 10-24 16:16:17] {3174} INFO - iteration 57, current learner lgbm\n"
     ]
    },
    {
     "name": "stdout",
     "output_type": "stream",
     "text": [
      "[flaml.tune.tune: 10-24 16:16:17] {513} INFO - trial 1 config: {'n_estimators': 39, 'num_leaves': 7, 'min_child_samples': 21, 'learning_rate': 0.20948350151761758, 'log_max_bin': 9, 'colsample_bytree': 0.3951595912271544, 'reg_alpha': 0.521986993892713, 'reg_lambda': 0.24982819933628808}\n"
     ]
    },
    {
     "name": "stderr",
     "output_type": "stream",
     "text": [
      "[flaml.tune.tune: 10-24 16:16:17] {513} INFO - trial 1 config: {'n_estimators': 39, 'num_leaves': 7, 'min_child_samples': 21, 'learning_rate': 0.20948350151761758, 'log_max_bin': 9, 'colsample_bytree': 0.3951595912271544, 'reg_alpha': 0.521986993892713, 'reg_lambda': 0.24982819933628808}\n",
      "[flaml.automl: 10-24 16:16:18] {3354} INFO -  at 28.4s,\testimator lgbm's best error=0.1850,\tbest estimator xgboost's best error=0.1767\n"
     ]
    },
    {
     "name": "stdout",
     "output_type": "stream",
     "text": [
      "[flaml.automl: 10-24 16:16:18] {3354} INFO -  at 28.4s,\testimator lgbm's best error=0.1850,\tbest estimator xgboost's best error=0.1767\n"
     ]
    },
    {
     "name": "stderr",
     "output_type": "stream",
     "text": [
      "[flaml.automl: 10-24 16:16:18] {3354} INFO -  at 28.4s,\testimator lgbm's best error=0.1850,\tbest estimator xgboost's best error=0.1767\n",
      "[flaml.automl: 10-24 16:16:18] {3174} INFO - iteration 58, current learner rf\n"
     ]
    },
    {
     "name": "stdout",
     "output_type": "stream",
     "text": [
      "[flaml.automl: 10-24 16:16:18] {3174} INFO - iteration 58, current learner rf\n"
     ]
    },
    {
     "name": "stderr",
     "output_type": "stream",
     "text": [
      "[flaml.automl: 10-24 16:16:18] {3174} INFO - iteration 58, current learner rf\n"
     ]
    },
    {
     "name": "stdout",
     "output_type": "stream",
     "text": [
      "[flaml.tune.tune: 10-24 16:16:18] {513} INFO - trial 1 config: {'n_estimators': 6, 'max_features': 0.08249626913374537, 'max_leaves': 6, 'criterion': 'entropy'}\n"
     ]
    },
    {
     "name": "stderr",
     "output_type": "stream",
     "text": [
      "[flaml.tune.tune: 10-24 16:16:18] {513} INFO - trial 1 config: {'n_estimators': 6, 'max_features': 0.08249626913374537, 'max_leaves': 6, 'criterion': 'entropy'}\n",
      "[flaml.automl: 10-24 16:16:18] {3354} INFO -  at 28.5s,\testimator rf's best error=0.3813,\tbest estimator xgboost's best error=0.1767\n"
     ]
    },
    {
     "name": "stdout",
     "output_type": "stream",
     "text": [
      "[flaml.automl: 10-24 16:16:18] {3354} INFO -  at 28.5s,\testimator rf's best error=0.3813,\tbest estimator xgboost's best error=0.1767\n"
     ]
    },
    {
     "name": "stderr",
     "output_type": "stream",
     "text": [
      "[flaml.automl: 10-24 16:16:18] {3354} INFO -  at 28.5s,\testimator rf's best error=0.3813,\tbest estimator xgboost's best error=0.1767\n",
      "[flaml.automl: 10-24 16:16:18] {3174} INFO - iteration 59, current learner catboost\n"
     ]
    },
    {
     "name": "stdout",
     "output_type": "stream",
     "text": [
      "[flaml.automl: 10-24 16:16:18] {3174} INFO - iteration 59, current learner catboost\n"
     ]
    },
    {
     "name": "stderr",
     "output_type": "stream",
     "text": [
      "[flaml.automl: 10-24 16:16:18] {3174} INFO - iteration 59, current learner catboost\n"
     ]
    },
    {
     "name": "stdout",
     "output_type": "stream",
     "text": [
      "[flaml.tune.tune: 10-24 16:16:18] {513} INFO - trial 1 config: {'early_stopping_rounds': 10, 'learning_rate': 0.014670963921409399, 'n_estimators': 8192}\n"
     ]
    },
    {
     "name": "stderr",
     "output_type": "stream",
     "text": [
      "[flaml.tune.tune: 10-24 16:16:18] {513} INFO - trial 1 config: {'early_stopping_rounds': 10, 'learning_rate': 0.014670963921409399, 'n_estimators': 8192}\n",
      "[flaml.automl: 10-24 16:16:20] {3354} INFO -  at 30.9s,\testimator catboost's best error=0.1856,\tbest estimator xgboost's best error=0.1767\n"
     ]
    },
    {
     "name": "stdout",
     "output_type": "stream",
     "text": [
      "[flaml.automl: 10-24 16:16:20] {3354} INFO -  at 30.9s,\testimator catboost's best error=0.1856,\tbest estimator xgboost's best error=0.1767\n"
     ]
    },
    {
     "name": "stderr",
     "output_type": "stream",
     "text": [
      "[flaml.automl: 10-24 16:16:20] {3354} INFO -  at 30.9s,\testimator catboost's best error=0.1856,\tbest estimator xgboost's best error=0.1767\n",
      "[flaml.automl: 10-24 16:16:20] {3174} INFO - iteration 60, current learner lgbm\n"
     ]
    },
    {
     "name": "stdout",
     "output_type": "stream",
     "text": [
      "[flaml.automl: 10-24 16:16:20] {3174} INFO - iteration 60, current learner lgbm\n"
     ]
    },
    {
     "name": "stderr",
     "output_type": "stream",
     "text": [
      "[flaml.automl: 10-24 16:16:20] {3174} INFO - iteration 60, current learner lgbm\n"
     ]
    },
    {
     "name": "stdout",
     "output_type": "stream",
     "text": [
      "[flaml.tune.tune: 10-24 16:16:20] {513} INFO - trial 1 config: {'n_estimators': 16, 'num_leaves': 5, 'min_child_samples': 19, 'learning_rate': 0.9374453470504951, 'log_max_bin': 7, 'colsample_bytree': 0.8028767929581568, 'reg_alpha': 0.05077174766737861, 'reg_lambda': 1.8229623428360424}\n"
     ]
    },
    {
     "name": "stderr",
     "output_type": "stream",
     "text": [
      "[flaml.tune.tune: 10-24 16:16:20] {513} INFO - trial 1 config: {'n_estimators': 16, 'num_leaves': 5, 'min_child_samples': 19, 'learning_rate': 0.9374453470504951, 'log_max_bin': 7, 'colsample_bytree': 0.8028767929581568, 'reg_alpha': 0.05077174766737861, 'reg_lambda': 1.8229623428360424}\n",
      "[flaml.automl: 10-24 16:16:20] {3354} INFO -  at 31.1s,\testimator lgbm's best error=0.1850,\tbest estimator xgboost's best error=0.1767\n"
     ]
    },
    {
     "name": "stdout",
     "output_type": "stream",
     "text": [
      "[flaml.automl: 10-24 16:16:20] {3354} INFO -  at 31.1s,\testimator lgbm's best error=0.1850,\tbest estimator xgboost's best error=0.1767\n"
     ]
    },
    {
     "name": "stderr",
     "output_type": "stream",
     "text": [
      "[flaml.automl: 10-24 16:16:20] {3354} INFO -  at 31.1s,\testimator lgbm's best error=0.1850,\tbest estimator xgboost's best error=0.1767\n",
      "[flaml.automl: 10-24 16:16:20] {3174} INFO - iteration 61, current learner catboost\n"
     ]
    },
    {
     "name": "stdout",
     "output_type": "stream",
     "text": [
      "[flaml.automl: 10-24 16:16:20] {3174} INFO - iteration 61, current learner catboost\n"
     ]
    },
    {
     "name": "stderr",
     "output_type": "stream",
     "text": [
      "[flaml.automl: 10-24 16:16:20] {3174} INFO - iteration 61, current learner catboost\n"
     ]
    },
    {
     "name": "stdout",
     "output_type": "stream",
     "text": [
      "[flaml.tune.tune: 10-24 16:16:20] {513} INFO - trial 1 config: {'early_stopping_rounds': 14, 'learning_rate': 0.0194114131163827, 'n_estimators': 8192}\n"
     ]
    },
    {
     "name": "stderr",
     "output_type": "stream",
     "text": [
      "[flaml.tune.tune: 10-24 16:16:20] {513} INFO - trial 1 config: {'early_stopping_rounds': 14, 'learning_rate': 0.0194114131163827, 'n_estimators': 8192}\n",
      "[flaml.automl: 10-24 16:16:22] {3354} INFO -  at 32.7s,\testimator catboost's best error=0.1856,\tbest estimator xgboost's best error=0.1767\n"
     ]
    },
    {
     "name": "stdout",
     "output_type": "stream",
     "text": [
      "[flaml.automl: 10-24 16:16:22] {3354} INFO -  at 32.7s,\testimator catboost's best error=0.1856,\tbest estimator xgboost's best error=0.1767\n"
     ]
    },
    {
     "name": "stderr",
     "output_type": "stream",
     "text": [
      "[flaml.automl: 10-24 16:16:22] {3354} INFO -  at 32.7s,\testimator catboost's best error=0.1856,\tbest estimator xgboost's best error=0.1767\n",
      "[flaml.automl: 10-24 16:16:22] {3174} INFO - iteration 62, current learner lgbm\n"
     ]
    },
    {
     "name": "stdout",
     "output_type": "stream",
     "text": [
      "[flaml.automl: 10-24 16:16:22] {3174} INFO - iteration 62, current learner lgbm\n"
     ]
    },
    {
     "name": "stderr",
     "output_type": "stream",
     "text": [
      "[flaml.automl: 10-24 16:16:22] {3174} INFO - iteration 62, current learner lgbm\n"
     ]
    },
    {
     "name": "stdout",
     "output_type": "stream",
     "text": [
      "[flaml.tune.tune: 10-24 16:16:22] {513} INFO - trial 1 config: {'n_estimators': 18, 'num_leaves': 4, 'min_child_samples': 10, 'learning_rate': 0.5558116310321423, 'log_max_bin': 7, 'colsample_bytree': 0.6244412209902331, 'reg_alpha': 0.7960807618699616, 'reg_lambda': 1.5610306147049466}\n"
     ]
    },
    {
     "name": "stderr",
     "output_type": "stream",
     "text": [
      "[flaml.tune.tune: 10-24 16:16:22] {513} INFO - trial 1 config: {'n_estimators': 18, 'num_leaves': 4, 'min_child_samples': 10, 'learning_rate': 0.5558116310321423, 'log_max_bin': 7, 'colsample_bytree': 0.6244412209902331, 'reg_alpha': 0.7960807618699616, 'reg_lambda': 1.5610306147049466}\n",
      "[flaml.automl: 10-24 16:16:22] {3354} INFO -  at 32.9s,\testimator lgbm's best error=0.1850,\tbest estimator xgboost's best error=0.1767\n"
     ]
    },
    {
     "name": "stdout",
     "output_type": "stream",
     "text": [
      "[flaml.automl: 10-24 16:16:22] {3354} INFO -  at 32.9s,\testimator lgbm's best error=0.1850,\tbest estimator xgboost's best error=0.1767\n"
     ]
    },
    {
     "name": "stderr",
     "output_type": "stream",
     "text": [
      "[flaml.automl: 10-24 16:16:22] {3354} INFO -  at 32.9s,\testimator lgbm's best error=0.1850,\tbest estimator xgboost's best error=0.1767\n",
      "[flaml.automl: 10-24 16:16:22] {3174} INFO - iteration 63, current learner catboost\n"
     ]
    },
    {
     "name": "stdout",
     "output_type": "stream",
     "text": [
      "[flaml.automl: 10-24 16:16:22] {3174} INFO - iteration 63, current learner catboost\n"
     ]
    },
    {
     "name": "stderr",
     "output_type": "stream",
     "text": [
      "[flaml.automl: 10-24 16:16:22] {3174} INFO - iteration 63, current learner catboost\n"
     ]
    },
    {
     "name": "stdout",
     "output_type": "stream",
     "text": [
      "[flaml.tune.tune: 10-24 16:16:22] {513} INFO - trial 1 config: {'early_stopping_rounds': 13, 'learning_rate': 0.010026812979334741, 'n_estimators': 8192}\n"
     ]
    },
    {
     "name": "stderr",
     "output_type": "stream",
     "text": [
      "[flaml.tune.tune: 10-24 16:16:22] {513} INFO - trial 1 config: {'early_stopping_rounds': 13, 'learning_rate': 0.010026812979334741, 'n_estimators': 8192}\n",
      "[flaml.automl: 10-24 16:16:25] {3354} INFO -  at 35.9s,\testimator catboost's best error=0.1856,\tbest estimator xgboost's best error=0.1767\n"
     ]
    },
    {
     "name": "stdout",
     "output_type": "stream",
     "text": [
      "[flaml.automl: 10-24 16:16:25] {3354} INFO -  at 35.9s,\testimator catboost's best error=0.1856,\tbest estimator xgboost's best error=0.1767\n"
     ]
    },
    {
     "name": "stderr",
     "output_type": "stream",
     "text": [
      "[flaml.automl: 10-24 16:16:25] {3354} INFO -  at 35.9s,\testimator catboost's best error=0.1856,\tbest estimator xgboost's best error=0.1767\n",
      "[flaml.automl: 10-24 16:16:25] {3174} INFO - iteration 64, current learner catboost\n"
     ]
    },
    {
     "name": "stdout",
     "output_type": "stream",
     "text": [
      "[flaml.automl: 10-24 16:16:25] {3174} INFO - iteration 64, current learner catboost\n"
     ]
    },
    {
     "name": "stderr",
     "output_type": "stream",
     "text": [
      "[flaml.automl: 10-24 16:16:25] {3174} INFO - iteration 64, current learner catboost\n"
     ]
    },
    {
     "name": "stdout",
     "output_type": "stream",
     "text": [
      "[flaml.tune.tune: 10-24 16:16:25] {513} INFO - trial 1 config: {'early_stopping_rounds': 10, 'learning_rate': 0.013357629317518811, 'n_estimators': 8192}\n"
     ]
    },
    {
     "name": "stderr",
     "output_type": "stream",
     "text": [
      "[flaml.tune.tune: 10-24 16:16:25] {513} INFO - trial 1 config: {'early_stopping_rounds': 10, 'learning_rate': 0.013357629317518811, 'n_estimators': 8192}\n",
      "[flaml.automl: 10-24 16:16:27] {3354} INFO -  at 38.0s,\testimator catboost's best error=0.1856,\tbest estimator xgboost's best error=0.1767\n"
     ]
    },
    {
     "name": "stdout",
     "output_type": "stream",
     "text": [
      "[flaml.automl: 10-24 16:16:27] {3354} INFO -  at 38.0s,\testimator catboost's best error=0.1856,\tbest estimator xgboost's best error=0.1767\n"
     ]
    },
    {
     "name": "stderr",
     "output_type": "stream",
     "text": [
      "[flaml.automl: 10-24 16:16:27] {3354} INFO -  at 38.0s,\testimator catboost's best error=0.1856,\tbest estimator xgboost's best error=0.1767\n",
      "[flaml.automl: 10-24 16:16:27] {3174} INFO - iteration 65, current learner lgbm\n"
     ]
    },
    {
     "name": "stdout",
     "output_type": "stream",
     "text": [
      "[flaml.automl: 10-24 16:16:27] {3174} INFO - iteration 65, current learner lgbm\n"
     ]
    },
    {
     "name": "stderr",
     "output_type": "stream",
     "text": [
      "[flaml.automl: 10-24 16:16:27] {3174} INFO - iteration 65, current learner lgbm\n"
     ]
    },
    {
     "name": "stdout",
     "output_type": "stream",
     "text": [
      "[flaml.tune.tune: 10-24 16:16:27] {513} INFO - trial 1 config: {'n_estimators': 36, 'num_leaves': 9, 'min_child_samples': 39, 'learning_rate': 0.3533199429757515, 'log_max_bin': 10, 'colsample_bytree': 0.5735951631950782, 'reg_alpha': 0.03329083330354792, 'reg_lambda': 0.2917478973688613}\n"
     ]
    },
    {
     "name": "stderr",
     "output_type": "stream",
     "text": [
      "[flaml.tune.tune: 10-24 16:16:27] {513} INFO - trial 1 config: {'n_estimators': 36, 'num_leaves': 9, 'min_child_samples': 39, 'learning_rate': 0.3533199429757515, 'log_max_bin': 10, 'colsample_bytree': 0.5735951631950782, 'reg_alpha': 0.03329083330354792, 'reg_lambda': 0.2917478973688613}\n",
      "[flaml.automl: 10-24 16:16:27] {3354} INFO -  at 38.3s,\testimator lgbm's best error=0.1850,\tbest estimator xgboost's best error=0.1767\n"
     ]
    },
    {
     "name": "stdout",
     "output_type": "stream",
     "text": [
      "[flaml.automl: 10-24 16:16:27] {3354} INFO -  at 38.3s,\testimator lgbm's best error=0.1850,\tbest estimator xgboost's best error=0.1767\n"
     ]
    },
    {
     "name": "stderr",
     "output_type": "stream",
     "text": [
      "[flaml.automl: 10-24 16:16:27] {3354} INFO -  at 38.3s,\testimator lgbm's best error=0.1850,\tbest estimator xgboost's best error=0.1767\n",
      "[flaml.automl: 10-24 16:16:27] {3174} INFO - iteration 66, current learner rf\n"
     ]
    },
    {
     "name": "stdout",
     "output_type": "stream",
     "text": [
      "[flaml.automl: 10-24 16:16:27] {3174} INFO - iteration 66, current learner rf\n"
     ]
    },
    {
     "name": "stderr",
     "output_type": "stream",
     "text": [
      "[flaml.automl: 10-24 16:16:27] {3174} INFO - iteration 66, current learner rf\n"
     ]
    },
    {
     "name": "stdout",
     "output_type": "stream",
     "text": [
      "[flaml.tune.tune: 10-24 16:16:27] {513} INFO - trial 1 config: {'n_estimators': 4, 'max_features': 0.06375767130633382, 'max_leaves': 5, 'criterion': 'gini'}\n"
     ]
    },
    {
     "name": "stderr",
     "output_type": "stream",
     "text": [
      "[flaml.tune.tune: 10-24 16:16:27] {513} INFO - trial 1 config: {'n_estimators': 4, 'max_features': 0.06375767130633382, 'max_leaves': 5, 'criterion': 'gini'}\n",
      "[flaml.automl: 10-24 16:16:28] {3354} INFO -  at 38.3s,\testimator rf's best error=0.3151,\tbest estimator xgboost's best error=0.1767\n"
     ]
    },
    {
     "name": "stdout",
     "output_type": "stream",
     "text": [
      "[flaml.automl: 10-24 16:16:28] {3354} INFO -  at 38.3s,\testimator rf's best error=0.3151,\tbest estimator xgboost's best error=0.1767\n"
     ]
    },
    {
     "name": "stderr",
     "output_type": "stream",
     "text": [
      "[flaml.automl: 10-24 16:16:28] {3354} INFO -  at 38.3s,\testimator rf's best error=0.3151,\tbest estimator xgboost's best error=0.1767\n",
      "[flaml.automl: 10-24 16:16:28] {3174} INFO - iteration 67, current learner rf\n"
     ]
    },
    {
     "name": "stdout",
     "output_type": "stream",
     "text": [
      "[flaml.automl: 10-24 16:16:28] {3174} INFO - iteration 67, current learner rf\n"
     ]
    },
    {
     "name": "stderr",
     "output_type": "stream",
     "text": [
      "[flaml.automl: 10-24 16:16:28] {3174} INFO - iteration 67, current learner rf\n"
     ]
    },
    {
     "name": "stdout",
     "output_type": "stream",
     "text": [
      "[flaml.tune.tune: 10-24 16:16:28] {513} INFO - trial 1 config: {'n_estimators': 6, 'max_features': 0.10249444133508682, 'max_leaves': 6, 'criterion': 'gini'}\n"
     ]
    },
    {
     "name": "stderr",
     "output_type": "stream",
     "text": [
      "[flaml.tune.tune: 10-24 16:16:28] {513} INFO - trial 1 config: {'n_estimators': 6, 'max_features': 0.10249444133508682, 'max_leaves': 6, 'criterion': 'gini'}\n",
      "[flaml.automl: 10-24 16:16:28] {3354} INFO -  at 38.4s,\testimator rf's best error=0.3151,\tbest estimator xgboost's best error=0.1767\n"
     ]
    },
    {
     "name": "stdout",
     "output_type": "stream",
     "text": [
      "[flaml.automl: 10-24 16:16:28] {3354} INFO -  at 38.4s,\testimator rf's best error=0.3151,\tbest estimator xgboost's best error=0.1767\n"
     ]
    },
    {
     "name": "stderr",
     "output_type": "stream",
     "text": [
      "[flaml.automl: 10-24 16:16:28] {3354} INFO -  at 38.4s,\testimator rf's best error=0.3151,\tbest estimator xgboost's best error=0.1767\n",
      "[flaml.automl: 10-24 16:16:28] {3174} INFO - iteration 68, current learner rf\n"
     ]
    },
    {
     "name": "stdout",
     "output_type": "stream",
     "text": [
      "[flaml.automl: 10-24 16:16:28] {3174} INFO - iteration 68, current learner rf\n"
     ]
    },
    {
     "name": "stderr",
     "output_type": "stream",
     "text": [
      "[flaml.automl: 10-24 16:16:28] {3174} INFO - iteration 68, current learner rf\n"
     ]
    },
    {
     "name": "stdout",
     "output_type": "stream",
     "text": [
      "[flaml.tune.tune: 10-24 16:16:28] {513} INFO - trial 1 config: {'n_estimators': 4, 'max_features': 0.09932396414689898, 'max_leaves': 6, 'criterion': 'gini'}\n"
     ]
    },
    {
     "name": "stderr",
     "output_type": "stream",
     "text": [
      "[flaml.tune.tune: 10-24 16:16:28] {513} INFO - trial 1 config: {'n_estimators': 4, 'max_features': 0.09932396414689898, 'max_leaves': 6, 'criterion': 'gini'}\n",
      "[flaml.automl: 10-24 16:16:28] {3354} INFO -  at 38.5s,\testimator rf's best error=0.3151,\tbest estimator xgboost's best error=0.1767\n"
     ]
    },
    {
     "name": "stdout",
     "output_type": "stream",
     "text": [
      "[flaml.automl: 10-24 16:16:28] {3354} INFO -  at 38.5s,\testimator rf's best error=0.3151,\tbest estimator xgboost's best error=0.1767\n"
     ]
    },
    {
     "name": "stderr",
     "output_type": "stream",
     "text": [
      "[flaml.automl: 10-24 16:16:28] {3354} INFO -  at 38.5s,\testimator rf's best error=0.3151,\tbest estimator xgboost's best error=0.1767\n",
      "[flaml.automl: 10-24 16:16:28] {3174} INFO - iteration 69, current learner lgbm\n"
     ]
    },
    {
     "name": "stdout",
     "output_type": "stream",
     "text": [
      "[flaml.automl: 10-24 16:16:28] {3174} INFO - iteration 69, current learner lgbm\n"
     ]
    },
    {
     "name": "stderr",
     "output_type": "stream",
     "text": [
      "[flaml.automl: 10-24 16:16:28] {3174} INFO - iteration 69, current learner lgbm\n"
     ]
    },
    {
     "name": "stdout",
     "output_type": "stream",
     "text": [
      "[flaml.tune.tune: 10-24 16:16:28] {513} INFO - trial 1 config: {'n_estimators': 67, 'num_leaves': 7, 'min_child_samples': 28, 'learning_rate': 0.41648680459287757, 'log_max_bin': 7, 'colsample_bytree': 0.6317565684048887, 'reg_alpha': 0.22597852371073582, 'reg_lambda': 4.897059327095771}\n"
     ]
    },
    {
     "name": "stderr",
     "output_type": "stream",
     "text": [
      "[flaml.tune.tune: 10-24 16:16:28] {513} INFO - trial 1 config: {'n_estimators': 67, 'num_leaves': 7, 'min_child_samples': 28, 'learning_rate': 0.41648680459287757, 'log_max_bin': 7, 'colsample_bytree': 0.6317565684048887, 'reg_alpha': 0.22597852371073582, 'reg_lambda': 4.897059327095771}\n",
      "[flaml.automl: 10-24 16:16:28] {3354} INFO -  at 38.7s,\testimator lgbm's best error=0.1850,\tbest estimator xgboost's best error=0.1767\n"
     ]
    },
    {
     "name": "stdout",
     "output_type": "stream",
     "text": [
      "[flaml.automl: 10-24 16:16:28] {3354} INFO -  at 38.7s,\testimator lgbm's best error=0.1850,\tbest estimator xgboost's best error=0.1767\n"
     ]
    },
    {
     "name": "stderr",
     "output_type": "stream",
     "text": [
      "[flaml.automl: 10-24 16:16:28] {3354} INFO -  at 38.7s,\testimator lgbm's best error=0.1850,\tbest estimator xgboost's best error=0.1767\n",
      "[flaml.automl: 10-24 16:16:28] {3174} INFO - iteration 70, current learner rf\n"
     ]
    },
    {
     "name": "stdout",
     "output_type": "stream",
     "text": [
      "[flaml.automl: 10-24 16:16:28] {3174} INFO - iteration 70, current learner rf\n"
     ]
    },
    {
     "name": "stderr",
     "output_type": "stream",
     "text": [
      "[flaml.automl: 10-24 16:16:28] {3174} INFO - iteration 70, current learner rf\n"
     ]
    },
    {
     "name": "stdout",
     "output_type": "stream",
     "text": [
      "[flaml.tune.tune: 10-24 16:16:28] {513} INFO - trial 1 config: {'n_estimators': 4, 'max_features': 0.10277518019385623, 'max_leaves': 6, 'criterion': 'entropy'}\n"
     ]
    },
    {
     "name": "stderr",
     "output_type": "stream",
     "text": [
      "[flaml.tune.tune: 10-24 16:16:28] {513} INFO - trial 1 config: {'n_estimators': 4, 'max_features': 0.10277518019385623, 'max_leaves': 6, 'criterion': 'entropy'}\n",
      "[flaml.automl: 10-24 16:16:28] {3354} INFO -  at 38.8s,\testimator rf's best error=0.3151,\tbest estimator xgboost's best error=0.1767\n"
     ]
    },
    {
     "name": "stdout",
     "output_type": "stream",
     "text": [
      "[flaml.automl: 10-24 16:16:28] {3354} INFO -  at 38.8s,\testimator rf's best error=0.3151,\tbest estimator xgboost's best error=0.1767\n"
     ]
    },
    {
     "name": "stderr",
     "output_type": "stream",
     "text": [
      "[flaml.automl: 10-24 16:16:28] {3354} INFO -  at 38.8s,\testimator rf's best error=0.3151,\tbest estimator xgboost's best error=0.1767\n",
      "[flaml.automl: 10-24 16:16:28] {3174} INFO - iteration 71, current learner rf\n"
     ]
    },
    {
     "name": "stdout",
     "output_type": "stream",
     "text": [
      "[flaml.automl: 10-24 16:16:28] {3174} INFO - iteration 71, current learner rf\n"
     ]
    },
    {
     "name": "stderr",
     "output_type": "stream",
     "text": [
      "[flaml.automl: 10-24 16:16:28] {3174} INFO - iteration 71, current learner rf\n"
     ]
    },
    {
     "name": "stdout",
     "output_type": "stream",
     "text": [
      "[flaml.tune.tune: 10-24 16:16:28] {513} INFO - trial 1 config: {'n_estimators': 6, 'max_features': 0.06375767130633382, 'max_leaves': 5, 'criterion': 'gini'}\n"
     ]
    },
    {
     "name": "stderr",
     "output_type": "stream",
     "text": [
      "[flaml.tune.tune: 10-24 16:16:28] {513} INFO - trial 1 config: {'n_estimators': 6, 'max_features': 0.06375767130633382, 'max_leaves': 5, 'criterion': 'gini'}\n",
      "[flaml.automl: 10-24 16:16:28] {3354} INFO -  at 38.9s,\testimator rf's best error=0.3151,\tbest estimator xgboost's best error=0.1767\n"
     ]
    },
    {
     "name": "stdout",
     "output_type": "stream",
     "text": [
      "[flaml.automl: 10-24 16:16:28] {3354} INFO -  at 38.9s,\testimator rf's best error=0.3151,\tbest estimator xgboost's best error=0.1767\n"
     ]
    },
    {
     "name": "stderr",
     "output_type": "stream",
     "text": [
      "[flaml.automl: 10-24 16:16:28] {3354} INFO -  at 38.9s,\testimator rf's best error=0.3151,\tbest estimator xgboost's best error=0.1767\n",
      "[flaml.automl: 10-24 16:16:28] {3174} INFO - iteration 72, current learner rf\n"
     ]
    },
    {
     "name": "stdout",
     "output_type": "stream",
     "text": [
      "[flaml.automl: 10-24 16:16:28] {3174} INFO - iteration 72, current learner rf\n"
     ]
    },
    {
     "name": "stderr",
     "output_type": "stream",
     "text": [
      "[flaml.automl: 10-24 16:16:28] {3174} INFO - iteration 72, current learner rf\n"
     ]
    },
    {
     "name": "stdout",
     "output_type": "stream",
     "text": [
      "[flaml.tune.tune: 10-24 16:16:28] {513} INFO - trial 1 config: {'n_estimators': 4, 'max_features': 0.08594990226730997, 'max_leaves': 4, 'criterion': 'entropy'}\n"
     ]
    },
    {
     "name": "stderr",
     "output_type": "stream",
     "text": [
      "[flaml.tune.tune: 10-24 16:16:28] {513} INFO - trial 1 config: {'n_estimators': 4, 'max_features': 0.08594990226730997, 'max_leaves': 4, 'criterion': 'entropy'}\n",
      "[flaml.automl: 10-24 16:16:28] {3354} INFO -  at 38.9s,\testimator rf's best error=0.3151,\tbest estimator xgboost's best error=0.1767\n"
     ]
    },
    {
     "name": "stdout",
     "output_type": "stream",
     "text": [
      "[flaml.automl: 10-24 16:16:28] {3354} INFO -  at 38.9s,\testimator rf's best error=0.3151,\tbest estimator xgboost's best error=0.1767\n"
     ]
    },
    {
     "name": "stderr",
     "output_type": "stream",
     "text": [
      "[flaml.automl: 10-24 16:16:28] {3354} INFO -  at 38.9s,\testimator rf's best error=0.3151,\tbest estimator xgboost's best error=0.1767\n",
      "[flaml.automl: 10-24 16:16:28] {3174} INFO - iteration 73, current learner extra_tree\n"
     ]
    },
    {
     "name": "stdout",
     "output_type": "stream",
     "text": [
      "[flaml.automl: 10-24 16:16:28] {3174} INFO - iteration 73, current learner extra_tree\n"
     ]
    },
    {
     "name": "stderr",
     "output_type": "stream",
     "text": [
      "[flaml.automl: 10-24 16:16:28] {3174} INFO - iteration 73, current learner extra_tree\n"
     ]
    },
    {
     "name": "stdout",
     "output_type": "stream",
     "text": [
      "[flaml.tune.tune: 10-24 16:16:28] {513} INFO - trial 1 config: {'n_estimators': 4, 'max_features': 0.2573817272625434, 'max_leaves': 7, 'criterion': 'gini'}\n"
     ]
    },
    {
     "name": "stderr",
     "output_type": "stream",
     "text": [
      "[flaml.tune.tune: 10-24 16:16:28] {513} INFO - trial 1 config: {'n_estimators': 4, 'max_features': 0.2573817272625434, 'max_leaves': 7, 'criterion': 'gini'}\n",
      "[flaml.automl: 10-24 16:16:28] {3354} INFO -  at 39.0s,\testimator extra_tree's best error=0.3130,\tbest estimator xgboost's best error=0.1767\n"
     ]
    },
    {
     "name": "stdout",
     "output_type": "stream",
     "text": [
      "[flaml.automl: 10-24 16:16:28] {3354} INFO -  at 39.0s,\testimator extra_tree's best error=0.3130,\tbest estimator xgboost's best error=0.1767\n"
     ]
    },
    {
     "name": "stderr",
     "output_type": "stream",
     "text": [
      "[flaml.automl: 10-24 16:16:28] {3354} INFO -  at 39.0s,\testimator extra_tree's best error=0.3130,\tbest estimator xgboost's best error=0.1767\n",
      "[flaml.automl: 10-24 16:16:28] {3174} INFO - iteration 74, current learner extra_tree\n"
     ]
    },
    {
     "name": "stdout",
     "output_type": "stream",
     "text": [
      "[flaml.automl: 10-24 16:16:28] {3174} INFO - iteration 74, current learner extra_tree\n"
     ]
    },
    {
     "name": "stderr",
     "output_type": "stream",
     "text": [
      "[flaml.automl: 10-24 16:16:28] {3174} INFO - iteration 74, current learner extra_tree\n"
     ]
    },
    {
     "name": "stdout",
     "output_type": "stream",
     "text": [
      "[flaml.tune.tune: 10-24 16:16:28] {513} INFO - trial 1 config: {'n_estimators': 6, 'max_features': 0.1596694798891014, 'max_leaves': 6, 'criterion': 'gini'}\n"
     ]
    },
    {
     "name": "stderr",
     "output_type": "stream",
     "text": [
      "[flaml.tune.tune: 10-24 16:16:28] {513} INFO - trial 1 config: {'n_estimators': 6, 'max_features': 0.1596694798891014, 'max_leaves': 6, 'criterion': 'gini'}\n",
      "[flaml.automl: 10-24 16:16:28] {3354} INFO -  at 39.1s,\testimator extra_tree's best error=0.3130,\tbest estimator xgboost's best error=0.1767\n"
     ]
    },
    {
     "name": "stdout",
     "output_type": "stream",
     "text": [
      "[flaml.automl: 10-24 16:16:28] {3354} INFO -  at 39.1s,\testimator extra_tree's best error=0.3130,\tbest estimator xgboost's best error=0.1767\n"
     ]
    },
    {
     "name": "stderr",
     "output_type": "stream",
     "text": [
      "[flaml.automl: 10-24 16:16:28] {3354} INFO -  at 39.1s,\testimator extra_tree's best error=0.3130,\tbest estimator xgboost's best error=0.1767\n",
      "[flaml.automl: 10-24 16:16:28] {3174} INFO - iteration 75, current learner extra_tree\n"
     ]
    },
    {
     "name": "stdout",
     "output_type": "stream",
     "text": [
      "[flaml.automl: 10-24 16:16:28] {3174} INFO - iteration 75, current learner extra_tree\n"
     ]
    },
    {
     "name": "stderr",
     "output_type": "stream",
     "text": [
      "[flaml.automl: 10-24 16:16:28] {3174} INFO - iteration 75, current learner extra_tree\n"
     ]
    },
    {
     "name": "stdout",
     "output_type": "stream",
     "text": [
      "[flaml.tune.tune: 10-24 16:16:28] {513} INFO - trial 1 config: {'n_estimators': 4, 'max_features': 0.34696898193346337, 'max_leaves': 4, 'criterion': 'entropy'}\n"
     ]
    },
    {
     "name": "stderr",
     "output_type": "stream",
     "text": [
      "[flaml.tune.tune: 10-24 16:16:28] {513} INFO - trial 1 config: {'n_estimators': 4, 'max_features': 0.34696898193346337, 'max_leaves': 4, 'criterion': 'entropy'}\n",
      "[flaml.automl: 10-24 16:16:28] {3354} INFO -  at 39.2s,\testimator extra_tree's best error=0.3130,\tbest estimator xgboost's best error=0.1767\n"
     ]
    },
    {
     "name": "stdout",
     "output_type": "stream",
     "text": [
      "[flaml.automl: 10-24 16:16:28] {3354} INFO -  at 39.2s,\testimator extra_tree's best error=0.3130,\tbest estimator xgboost's best error=0.1767\n"
     ]
    },
    {
     "name": "stderr",
     "output_type": "stream",
     "text": [
      "[flaml.automl: 10-24 16:16:28] {3354} INFO -  at 39.2s,\testimator extra_tree's best error=0.3130,\tbest estimator xgboost's best error=0.1767\n",
      "[flaml.automl: 10-24 16:16:28] {3174} INFO - iteration 76, current learner rf\n"
     ]
    },
    {
     "name": "stdout",
     "output_type": "stream",
     "text": [
      "[flaml.automl: 10-24 16:16:28] {3174} INFO - iteration 76, current learner rf\n"
     ]
    },
    {
     "name": "stderr",
     "output_type": "stream",
     "text": [
      "[flaml.automl: 10-24 16:16:28] {3174} INFO - iteration 76, current learner rf\n"
     ]
    },
    {
     "name": "stdout",
     "output_type": "stream",
     "text": [
      "[flaml.tune.tune: 10-24 16:16:28] {513} INFO - trial 1 config: {'n_estimators': 5, 'max_features': 0.06375767130633382, 'max_leaves': 10, 'criterion': 'gini'}\n"
     ]
    },
    {
     "name": "stderr",
     "output_type": "stream",
     "text": [
      "[flaml.tune.tune: 10-24 16:16:28] {513} INFO - trial 1 config: {'n_estimators': 5, 'max_features': 0.06375767130633382, 'max_leaves': 10, 'criterion': 'gini'}\n",
      "[flaml.automl: 10-24 16:16:28] {3354} INFO -  at 39.3s,\testimator rf's best error=0.3151,\tbest estimator xgboost's best error=0.1767\n"
     ]
    },
    {
     "name": "stdout",
     "output_type": "stream",
     "text": [
      "[flaml.automl: 10-24 16:16:28] {3354} INFO -  at 39.3s,\testimator rf's best error=0.3151,\tbest estimator xgboost's best error=0.1767\n"
     ]
    },
    {
     "name": "stderr",
     "output_type": "stream",
     "text": [
      "[flaml.automl: 10-24 16:16:28] {3354} INFO -  at 39.3s,\testimator rf's best error=0.3151,\tbest estimator xgboost's best error=0.1767\n",
      "[flaml.automl: 10-24 16:16:28] {3174} INFO - iteration 77, current learner rf\n"
     ]
    },
    {
     "name": "stdout",
     "output_type": "stream",
     "text": [
      "[flaml.automl: 10-24 16:16:28] {3174} INFO - iteration 77, current learner rf\n"
     ]
    },
    {
     "name": "stderr",
     "output_type": "stream",
     "text": [
      "[flaml.automl: 10-24 16:16:28] {3174} INFO - iteration 77, current learner rf\n"
     ]
    },
    {
     "name": "stdout",
     "output_type": "stream",
     "text": [
      "[flaml.tune.tune: 10-24 16:16:28] {513} INFO - trial 1 config: {'n_estimators': 9, 'max_features': 0.06375767130633382, 'max_leaves': 5, 'criterion': 'gini'}\n"
     ]
    },
    {
     "name": "stderr",
     "output_type": "stream",
     "text": [
      "[flaml.tune.tune: 10-24 16:16:28] {513} INFO - trial 1 config: {'n_estimators': 9, 'max_features': 0.06375767130633382, 'max_leaves': 5, 'criterion': 'gini'}\n",
      "[flaml.automl: 10-24 16:16:29] {3354} INFO -  at 39.4s,\testimator rf's best error=0.3151,\tbest estimator xgboost's best error=0.1767\n"
     ]
    },
    {
     "name": "stdout",
     "output_type": "stream",
     "text": [
      "[flaml.automl: 10-24 16:16:29] {3354} INFO -  at 39.4s,\testimator rf's best error=0.3151,\tbest estimator xgboost's best error=0.1767\n"
     ]
    },
    {
     "name": "stderr",
     "output_type": "stream",
     "text": [
      "[flaml.automl: 10-24 16:16:29] {3354} INFO -  at 39.4s,\testimator rf's best error=0.3151,\tbest estimator xgboost's best error=0.1767\n",
      "[flaml.automl: 10-24 16:16:29] {3174} INFO - iteration 78, current learner extra_tree\n"
     ]
    },
    {
     "name": "stdout",
     "output_type": "stream",
     "text": [
      "[flaml.automl: 10-24 16:16:29] {3174} INFO - iteration 78, current learner extra_tree\n"
     ]
    },
    {
     "name": "stderr",
     "output_type": "stream",
     "text": [
      "[flaml.automl: 10-24 16:16:29] {3174} INFO - iteration 78, current learner extra_tree\n"
     ]
    },
    {
     "name": "stdout",
     "output_type": "stream",
     "text": [
      "[flaml.tune.tune: 10-24 16:16:29] {513} INFO - trial 1 config: {'n_estimators': 5, 'max_features': 0.19092586651262627, 'max_leaves': 13, 'criterion': 'gini'}\n"
     ]
    },
    {
     "name": "stderr",
     "output_type": "stream",
     "text": [
      "[flaml.tune.tune: 10-24 16:16:29] {513} INFO - trial 1 config: {'n_estimators': 5, 'max_features': 0.19092586651262627, 'max_leaves': 13, 'criterion': 'gini'}\n",
      "[flaml.automl: 10-24 16:16:29] {3354} INFO -  at 39.5s,\testimator extra_tree's best error=0.3130,\tbest estimator xgboost's best error=0.1767\n"
     ]
    },
    {
     "name": "stdout",
     "output_type": "stream",
     "text": [
      "[flaml.automl: 10-24 16:16:29] {3354} INFO -  at 39.5s,\testimator extra_tree's best error=0.3130,\tbest estimator xgboost's best error=0.1767\n"
     ]
    },
    {
     "name": "stderr",
     "output_type": "stream",
     "text": [
      "[flaml.automl: 10-24 16:16:29] {3354} INFO -  at 39.5s,\testimator extra_tree's best error=0.3130,\tbest estimator xgboost's best error=0.1767\n",
      "[flaml.automl: 10-24 16:16:29] {3174} INFO - iteration 79, current learner rf\n"
     ]
    },
    {
     "name": "stdout",
     "output_type": "stream",
     "text": [
      "[flaml.automl: 10-24 16:16:29] {3174} INFO - iteration 79, current learner rf\n"
     ]
    },
    {
     "name": "stderr",
     "output_type": "stream",
     "text": [
      "[flaml.automl: 10-24 16:16:29] {3174} INFO - iteration 79, current learner rf\n"
     ]
    },
    {
     "name": "stdout",
     "output_type": "stream",
     "text": [
      "[flaml.tune.tune: 10-24 16:16:29] {513} INFO - trial 1 config: {'n_estimators': 4, 'max_features': 0.07955858001348222, 'max_leaves': 5, 'criterion': 'entropy'}\n"
     ]
    },
    {
     "name": "stderr",
     "output_type": "stream",
     "text": [
      "[flaml.tune.tune: 10-24 16:16:29] {513} INFO - trial 1 config: {'n_estimators': 4, 'max_features': 0.07955858001348222, 'max_leaves': 5, 'criterion': 'entropy'}\n",
      "[flaml.automl: 10-24 16:16:29] {3354} INFO -  at 39.6s,\testimator rf's best error=0.3151,\tbest estimator xgboost's best error=0.1767\n"
     ]
    },
    {
     "name": "stdout",
     "output_type": "stream",
     "text": [
      "[flaml.automl: 10-24 16:16:29] {3354} INFO -  at 39.6s,\testimator rf's best error=0.3151,\tbest estimator xgboost's best error=0.1767\n"
     ]
    },
    {
     "name": "stderr",
     "output_type": "stream",
     "text": [
      "[flaml.automl: 10-24 16:16:29] {3354} INFO -  at 39.6s,\testimator rf's best error=0.3151,\tbest estimator xgboost's best error=0.1767\n",
      "[flaml.automl: 10-24 16:16:29] {3174} INFO - iteration 80, current learner rf\n"
     ]
    },
    {
     "name": "stdout",
     "output_type": "stream",
     "text": [
      "[flaml.automl: 10-24 16:16:29] {3174} INFO - iteration 80, current learner rf\n"
     ]
    },
    {
     "name": "stderr",
     "output_type": "stream",
     "text": [
      "[flaml.automl: 10-24 16:16:29] {3174} INFO - iteration 80, current learner rf\n"
     ]
    },
    {
     "name": "stdout",
     "output_type": "stream",
     "text": [
      "[flaml.tune.tune: 10-24 16:16:29] {513} INFO - trial 1 config: {'n_estimators': 4, 'max_features': 0.07819583846341917, 'max_leaves': 5, 'criterion': 'entropy'}\n"
     ]
    },
    {
     "name": "stderr",
     "output_type": "stream",
     "text": [
      "[flaml.tune.tune: 10-24 16:16:29] {513} INFO - trial 1 config: {'n_estimators': 4, 'max_features': 0.07819583846341917, 'max_leaves': 5, 'criterion': 'entropy'}\n",
      "[flaml.automl: 10-24 16:16:29] {3354} INFO -  at 39.7s,\testimator rf's best error=0.3151,\tbest estimator xgboost's best error=0.1767\n"
     ]
    },
    {
     "name": "stdout",
     "output_type": "stream",
     "text": [
      "[flaml.automl: 10-24 16:16:29] {3354} INFO -  at 39.7s,\testimator rf's best error=0.3151,\tbest estimator xgboost's best error=0.1767\n"
     ]
    },
    {
     "name": "stderr",
     "output_type": "stream",
     "text": [
      "[flaml.automl: 10-24 16:16:29] {3354} INFO -  at 39.7s,\testimator rf's best error=0.3151,\tbest estimator xgboost's best error=0.1767\n",
      "[flaml.automl: 10-24 16:16:29] {3174} INFO - iteration 81, current learner extra_tree\n"
     ]
    },
    {
     "name": "stdout",
     "output_type": "stream",
     "text": [
      "[flaml.automl: 10-24 16:16:29] {3174} INFO - iteration 81, current learner extra_tree\n"
     ]
    },
    {
     "name": "stderr",
     "output_type": "stream",
     "text": [
      "[flaml.automl: 10-24 16:16:29] {3174} INFO - iteration 81, current learner extra_tree\n"
     ]
    },
    {
     "name": "stdout",
     "output_type": "stream",
     "text": [
      "[flaml.tune.tune: 10-24 16:16:29] {513} INFO - trial 1 config: {'n_estimators': 9, 'max_features': 0.206263856950197, 'max_leaves': 7, 'criterion': 'gini'}\n"
     ]
    },
    {
     "name": "stderr",
     "output_type": "stream",
     "text": [
      "[flaml.tune.tune: 10-24 16:16:29] {513} INFO - trial 1 config: {'n_estimators': 9, 'max_features': 0.206263856950197, 'max_leaves': 7, 'criterion': 'gini'}\n",
      "[flaml.automl: 10-24 16:16:29] {3354} INFO -  at 39.8s,\testimator extra_tree's best error=0.3130,\tbest estimator xgboost's best error=0.1767\n"
     ]
    },
    {
     "name": "stdout",
     "output_type": "stream",
     "text": [
      "[flaml.automl: 10-24 16:16:29] {3354} INFO -  at 39.8s,\testimator extra_tree's best error=0.3130,\tbest estimator xgboost's best error=0.1767\n"
     ]
    },
    {
     "name": "stderr",
     "output_type": "stream",
     "text": [
      "[flaml.automl: 10-24 16:16:29] {3354} INFO -  at 39.8s,\testimator extra_tree's best error=0.3130,\tbest estimator xgboost's best error=0.1767\n",
      "[flaml.automl: 10-24 16:16:29] {3174} INFO - iteration 82, current learner rf\n"
     ]
    },
    {
     "name": "stdout",
     "output_type": "stream",
     "text": [
      "[flaml.automl: 10-24 16:16:29] {3174} INFO - iteration 82, current learner rf\n"
     ]
    },
    {
     "name": "stderr",
     "output_type": "stream",
     "text": [
      "[flaml.automl: 10-24 16:16:29] {3174} INFO - iteration 82, current learner rf\n"
     ]
    },
    {
     "name": "stdout",
     "output_type": "stream",
     "text": [
      "[flaml.tune.tune: 10-24 16:16:29] {513} INFO - trial 1 config: {'n_estimators': 4, 'max_features': 0.08498741479655562, 'max_leaves': 6, 'criterion': 'gini'}\n"
     ]
    },
    {
     "name": "stderr",
     "output_type": "stream",
     "text": [
      "[flaml.tune.tune: 10-24 16:16:29] {513} INFO - trial 1 config: {'n_estimators': 4, 'max_features': 0.08498741479655562, 'max_leaves': 6, 'criterion': 'gini'}\n",
      "[flaml.automl: 10-24 16:16:29] {3354} INFO -  at 39.9s,\testimator rf's best error=0.3151,\tbest estimator xgboost's best error=0.1767\n"
     ]
    },
    {
     "name": "stdout",
     "output_type": "stream",
     "text": [
      "[flaml.automl: 10-24 16:16:29] {3354} INFO -  at 39.9s,\testimator rf's best error=0.3151,\tbest estimator xgboost's best error=0.1767\n"
     ]
    },
    {
     "name": "stderr",
     "output_type": "stream",
     "text": [
      "[flaml.automl: 10-24 16:16:29] {3354} INFO -  at 39.9s,\testimator rf's best error=0.3151,\tbest estimator xgboost's best error=0.1767\n",
      "[flaml.automl: 10-24 16:16:29] {3174} INFO - iteration 83, current learner extra_tree\n"
     ]
    },
    {
     "name": "stdout",
     "output_type": "stream",
     "text": [
      "[flaml.automl: 10-24 16:16:29] {3174} INFO - iteration 83, current learner extra_tree\n"
     ]
    },
    {
     "name": "stderr",
     "output_type": "stream",
     "text": [
      "[flaml.automl: 10-24 16:16:29] {3174} INFO - iteration 83, current learner extra_tree\n"
     ]
    },
    {
     "name": "stdout",
     "output_type": "stream",
     "text": [
      "[flaml.tune.tune: 10-24 16:16:29] {513} INFO - trial 1 config: {'n_estimators': 4, 'max_features': 0.32116801512465365, 'max_leaves': 7, 'criterion': 'entropy'}\n"
     ]
    },
    {
     "name": "stderr",
     "output_type": "stream",
     "text": [
      "[flaml.tune.tune: 10-24 16:16:29] {513} INFO - trial 1 config: {'n_estimators': 4, 'max_features': 0.32116801512465365, 'max_leaves': 7, 'criterion': 'entropy'}\n",
      "[flaml.automl: 10-24 16:16:29] {3354} INFO -  at 39.9s,\testimator extra_tree's best error=0.3130,\tbest estimator xgboost's best error=0.1767\n"
     ]
    },
    {
     "name": "stdout",
     "output_type": "stream",
     "text": [
      "[flaml.automl: 10-24 16:16:29] {3354} INFO -  at 39.9s,\testimator extra_tree's best error=0.3130,\tbest estimator xgboost's best error=0.1767\n"
     ]
    },
    {
     "name": "stderr",
     "output_type": "stream",
     "text": [
      "[flaml.automl: 10-24 16:16:29] {3354} INFO -  at 39.9s,\testimator extra_tree's best error=0.3130,\tbest estimator xgboost's best error=0.1767\n",
      "[flaml.automl: 10-24 16:16:29] {3174} INFO - iteration 84, current learner extra_tree\n"
     ]
    },
    {
     "name": "stdout",
     "output_type": "stream",
     "text": [
      "[flaml.automl: 10-24 16:16:29] {3174} INFO - iteration 84, current learner extra_tree\n"
     ]
    },
    {
     "name": "stderr",
     "output_type": "stream",
     "text": [
      "[flaml.automl: 10-24 16:16:29] {3174} INFO - iteration 84, current learner extra_tree\n"
     ]
    },
    {
     "name": "stdout",
     "output_type": "stream",
     "text": [
      "[flaml.tune.tune: 10-24 16:16:29] {513} INFO - trial 1 config: {'n_estimators': 9, 'max_features': 0.2098584769922059, 'max_leaves': 7, 'criterion': 'gini'}\n"
     ]
    },
    {
     "name": "stderr",
     "output_type": "stream",
     "text": [
      "[flaml.tune.tune: 10-24 16:16:29] {513} INFO - trial 1 config: {'n_estimators': 9, 'max_features': 0.2098584769922059, 'max_leaves': 7, 'criterion': 'gini'}\n",
      "[flaml.automl: 10-24 16:16:29] {3354} INFO -  at 40.0s,\testimator extra_tree's best error=0.3130,\tbest estimator xgboost's best error=0.1767\n"
     ]
    },
    {
     "name": "stdout",
     "output_type": "stream",
     "text": [
      "[flaml.automl: 10-24 16:16:29] {3354} INFO -  at 40.0s,\testimator extra_tree's best error=0.3130,\tbest estimator xgboost's best error=0.1767\n"
     ]
    },
    {
     "name": "stderr",
     "output_type": "stream",
     "text": [
      "[flaml.automl: 10-24 16:16:29] {3354} INFO -  at 40.0s,\testimator extra_tree's best error=0.3130,\tbest estimator xgboost's best error=0.1767\n",
      "[flaml.automl: 10-24 16:16:29] {3174} INFO - iteration 85, current learner extra_tree\n"
     ]
    },
    {
     "name": "stdout",
     "output_type": "stream",
     "text": [
      "[flaml.automl: 10-24 16:16:29] {3174} INFO - iteration 85, current learner extra_tree\n"
     ]
    },
    {
     "name": "stderr",
     "output_type": "stream",
     "text": [
      "[flaml.automl: 10-24 16:16:29] {3174} INFO - iteration 85, current learner extra_tree\n"
     ]
    },
    {
     "name": "stdout",
     "output_type": "stream",
     "text": [
      "[flaml.tune.tune: 10-24 16:16:29] {513} INFO - trial 1 config: {'n_estimators': 4, 'max_features': 0.31566679830193656, 'max_leaves': 7, 'criterion': 'entropy'}\n"
     ]
    },
    {
     "name": "stderr",
     "output_type": "stream",
     "text": [
      "[flaml.tune.tune: 10-24 16:16:29] {513} INFO - trial 1 config: {'n_estimators': 4, 'max_features': 0.31566679830193656, 'max_leaves': 7, 'criterion': 'entropy'}\n",
      "[flaml.automl: 10-24 16:16:29] {3354} INFO -  at 40.1s,\testimator extra_tree's best error=0.3130,\tbest estimator xgboost's best error=0.1767\n"
     ]
    },
    {
     "name": "stdout",
     "output_type": "stream",
     "text": [
      "[flaml.automl: 10-24 16:16:29] {3354} INFO -  at 40.1s,\testimator extra_tree's best error=0.3130,\tbest estimator xgboost's best error=0.1767\n"
     ]
    },
    {
     "name": "stderr",
     "output_type": "stream",
     "text": [
      "[flaml.automl: 10-24 16:16:29] {3354} INFO -  at 40.1s,\testimator extra_tree's best error=0.3130,\tbest estimator xgboost's best error=0.1767\n",
      "[flaml.automl: 10-24 16:16:29] {3174} INFO - iteration 86, current learner catboost\n"
     ]
    },
    {
     "name": "stdout",
     "output_type": "stream",
     "text": [
      "[flaml.automl: 10-24 16:16:29] {3174} INFO - iteration 86, current learner catboost\n"
     ]
    },
    {
     "name": "stderr",
     "output_type": "stream",
     "text": [
      "[flaml.automl: 10-24 16:16:29] {3174} INFO - iteration 86, current learner catboost\n"
     ]
    },
    {
     "name": "stdout",
     "output_type": "stream",
     "text": [
      "[flaml.tune.tune: 10-24 16:16:29] {513} INFO - trial 1 config: {'early_stopping_rounds': 18, 'learning_rate': 0.0075265585032142845, 'n_estimators': 8192}\n"
     ]
    },
    {
     "name": "stderr",
     "output_type": "stream",
     "text": [
      "[flaml.tune.tune: 10-24 16:16:29] {513} INFO - trial 1 config: {'early_stopping_rounds': 18, 'learning_rate': 0.0075265585032142845, 'n_estimators': 8192}\n",
      "[flaml.automl: 10-24 16:16:34] {3354} INFO -  at 45.2s,\testimator catboost's best error=0.1856,\tbest estimator xgboost's best error=0.1767\n"
     ]
    },
    {
     "name": "stdout",
     "output_type": "stream",
     "text": [
      "[flaml.automl: 10-24 16:16:34] {3354} INFO -  at 45.2s,\testimator catboost's best error=0.1856,\tbest estimator xgboost's best error=0.1767\n"
     ]
    },
    {
     "name": "stderr",
     "output_type": "stream",
     "text": [
      "[flaml.automl: 10-24 16:16:34] {3354} INFO -  at 45.2s,\testimator catboost's best error=0.1856,\tbest estimator xgboost's best error=0.1767\n",
      "[flaml.automl: 10-24 16:16:34] {3174} INFO - iteration 87, current learner extra_tree\n"
     ]
    },
    {
     "name": "stdout",
     "output_type": "stream",
     "text": [
      "[flaml.automl: 10-24 16:16:34] {3174} INFO - iteration 87, current learner extra_tree\n"
     ]
    },
    {
     "name": "stderr",
     "output_type": "stream",
     "text": [
      "[flaml.automl: 10-24 16:16:34] {3174} INFO - iteration 87, current learner extra_tree\n"
     ]
    },
    {
     "name": "stdout",
     "output_type": "stream",
     "text": [
      "[flaml.tune.tune: 10-24 16:16:34] {513} INFO - trial 1 config: {'n_estimators': 4, 'max_features': 0.34308354065846647, 'max_leaves': 8, 'criterion': 'gini'}\n"
     ]
    },
    {
     "name": "stderr",
     "output_type": "stream",
     "text": [
      "[flaml.tune.tune: 10-24 16:16:34] {513} INFO - trial 1 config: {'n_estimators': 4, 'max_features': 0.34308354065846647, 'max_leaves': 8, 'criterion': 'gini'}\n",
      "[flaml.automl: 10-24 16:16:34] {3354} INFO -  at 45.3s,\testimator extra_tree's best error=0.3130,\tbest estimator xgboost's best error=0.1767\n"
     ]
    },
    {
     "name": "stdout",
     "output_type": "stream",
     "text": [
      "[flaml.automl: 10-24 16:16:34] {3354} INFO -  at 45.3s,\testimator extra_tree's best error=0.3130,\tbest estimator xgboost's best error=0.1767\n"
     ]
    },
    {
     "name": "stderr",
     "output_type": "stream",
     "text": [
      "[flaml.automl: 10-24 16:16:34] {3354} INFO -  at 45.3s,\testimator extra_tree's best error=0.3130,\tbest estimator xgboost's best error=0.1767\n",
      "[flaml.automl: 10-24 16:16:34] {3174} INFO - iteration 88, current learner rf\n"
     ]
    },
    {
     "name": "stdout",
     "output_type": "stream",
     "text": [
      "[flaml.automl: 10-24 16:16:34] {3174} INFO - iteration 88, current learner rf\n"
     ]
    },
    {
     "name": "stderr",
     "output_type": "stream",
     "text": [
      "[flaml.automl: 10-24 16:16:34] {3174} INFO - iteration 88, current learner rf\n"
     ]
    },
    {
     "name": "stdout",
     "output_type": "stream",
     "text": [
      "[flaml.tune.tune: 10-24 16:16:34] {513} INFO - trial 1 config: {'n_estimators': 9, 'max_features': 0.06375767130633382, 'max_leaves': 4, 'criterion': 'entropy'}\n"
     ]
    },
    {
     "name": "stderr",
     "output_type": "stream",
     "text": [
      "[flaml.tune.tune: 10-24 16:16:34] {513} INFO - trial 1 config: {'n_estimators': 9, 'max_features': 0.06375767130633382, 'max_leaves': 4, 'criterion': 'entropy'}\n",
      "[flaml.automl: 10-24 16:16:35] {3354} INFO -  at 45.4s,\testimator rf's best error=0.3151,\tbest estimator xgboost's best error=0.1767\n"
     ]
    },
    {
     "name": "stdout",
     "output_type": "stream",
     "text": [
      "[flaml.automl: 10-24 16:16:35] {3354} INFO -  at 45.4s,\testimator rf's best error=0.3151,\tbest estimator xgboost's best error=0.1767\n"
     ]
    },
    {
     "name": "stderr",
     "output_type": "stream",
     "text": [
      "[flaml.automl: 10-24 16:16:35] {3354} INFO -  at 45.4s,\testimator rf's best error=0.3151,\tbest estimator xgboost's best error=0.1767\n",
      "[flaml.automl: 10-24 16:16:35] {3174} INFO - iteration 89, current learner rf\n"
     ]
    },
    {
     "name": "stdout",
     "output_type": "stream",
     "text": [
      "[flaml.automl: 10-24 16:16:35] {3174} INFO - iteration 89, current learner rf\n"
     ]
    },
    {
     "name": "stderr",
     "output_type": "stream",
     "text": [
      "[flaml.automl: 10-24 16:16:35] {3174} INFO - iteration 89, current learner rf\n"
     ]
    },
    {
     "name": "stdout",
     "output_type": "stream",
     "text": [
      "[flaml.tune.tune: 10-24 16:16:35] {513} INFO - trial 1 config: {'n_estimators': 4, 'max_features': 0.06375767130633382, 'max_leaves': 8, 'criterion': 'gini'}\n"
     ]
    },
    {
     "name": "stderr",
     "output_type": "stream",
     "text": [
      "[flaml.tune.tune: 10-24 16:16:35] {513} INFO - trial 1 config: {'n_estimators': 4, 'max_features': 0.06375767130633382, 'max_leaves': 8, 'criterion': 'gini'}\n",
      "[flaml.automl: 10-24 16:16:35] {3354} INFO -  at 45.5s,\testimator rf's best error=0.3151,\tbest estimator xgboost's best error=0.1767\n"
     ]
    },
    {
     "name": "stdout",
     "output_type": "stream",
     "text": [
      "[flaml.automl: 10-24 16:16:35] {3354} INFO -  at 45.5s,\testimator rf's best error=0.3151,\tbest estimator xgboost's best error=0.1767\n"
     ]
    },
    {
     "name": "stderr",
     "output_type": "stream",
     "text": [
      "[flaml.automl: 10-24 16:16:35] {3354} INFO -  at 45.5s,\testimator rf's best error=0.3151,\tbest estimator xgboost's best error=0.1767\n",
      "[flaml.automl: 10-24 16:16:35] {3174} INFO - iteration 90, current learner extra_tree\n"
     ]
    },
    {
     "name": "stdout",
     "output_type": "stream",
     "text": [
      "[flaml.automl: 10-24 16:16:35] {3174} INFO - iteration 90, current learner extra_tree\n"
     ]
    },
    {
     "name": "stderr",
     "output_type": "stream",
     "text": [
      "[flaml.automl: 10-24 16:16:35] {3174} INFO - iteration 90, current learner extra_tree\n"
     ]
    },
    {
     "name": "stdout",
     "output_type": "stream",
     "text": [
      "[flaml.tune.tune: 10-24 16:16:35] {513} INFO - trial 1 config: {'n_estimators': 9, 'max_features': 0.1930881131793971, 'max_leaves': 6, 'criterion': 'entropy'}\n"
     ]
    },
    {
     "name": "stderr",
     "output_type": "stream",
     "text": [
      "[flaml.tune.tune: 10-24 16:16:35] {513} INFO - trial 1 config: {'n_estimators': 9, 'max_features': 0.1930881131793971, 'max_leaves': 6, 'criterion': 'entropy'}\n",
      "[flaml.automl: 10-24 16:16:35] {3354} INFO -  at 45.6s,\testimator extra_tree's best error=0.3130,\tbest estimator xgboost's best error=0.1767\n"
     ]
    },
    {
     "name": "stdout",
     "output_type": "stream",
     "text": [
      "[flaml.automl: 10-24 16:16:35] {3354} INFO -  at 45.6s,\testimator extra_tree's best error=0.3130,\tbest estimator xgboost's best error=0.1767\n"
     ]
    },
    {
     "name": "stderr",
     "output_type": "stream",
     "text": [
      "[flaml.automl: 10-24 16:16:35] {3354} INFO -  at 45.6s,\testimator extra_tree's best error=0.3130,\tbest estimator xgboost's best error=0.1767\n",
      "[flaml.automl: 10-24 16:16:35] {3174} INFO - iteration 91, current learner rf\n"
     ]
    },
    {
     "name": "stdout",
     "output_type": "stream",
     "text": [
      "[flaml.automl: 10-24 16:16:35] {3174} INFO - iteration 91, current learner rf\n"
     ]
    },
    {
     "name": "stderr",
     "output_type": "stream",
     "text": [
      "[flaml.automl: 10-24 16:16:35] {3174} INFO - iteration 91, current learner rf\n"
     ]
    },
    {
     "name": "stdout",
     "output_type": "stream",
     "text": [
      "[flaml.tune.tune: 10-24 16:16:35] {513} INFO - trial 1 config: {'n_estimators': 8, 'max_features': 0.07544701834784981, 'max_leaves': 4, 'criterion': 'entropy'}\n"
     ]
    },
    {
     "name": "stderr",
     "output_type": "stream",
     "text": [
      "[flaml.tune.tune: 10-24 16:16:35] {513} INFO - trial 1 config: {'n_estimators': 8, 'max_features': 0.07544701834784981, 'max_leaves': 4, 'criterion': 'entropy'}\n",
      "[flaml.automl: 10-24 16:16:35] {3354} INFO -  at 45.8s,\testimator rf's best error=0.3151,\tbest estimator xgboost's best error=0.1767\n"
     ]
    },
    {
     "name": "stdout",
     "output_type": "stream",
     "text": [
      "[flaml.automl: 10-24 16:16:35] {3354} INFO -  at 45.8s,\testimator rf's best error=0.3151,\tbest estimator xgboost's best error=0.1767\n"
     ]
    },
    {
     "name": "stderr",
     "output_type": "stream",
     "text": [
      "[flaml.automl: 10-24 16:16:35] {3354} INFO -  at 45.8s,\testimator rf's best error=0.3151,\tbest estimator xgboost's best error=0.1767\n",
      "[flaml.automl: 10-24 16:16:35] {3174} INFO - iteration 92, current learner extra_tree\n"
     ]
    },
    {
     "name": "stdout",
     "output_type": "stream",
     "text": [
      "[flaml.automl: 10-24 16:16:35] {3174} INFO - iteration 92, current learner extra_tree\n"
     ]
    },
    {
     "name": "stderr",
     "output_type": "stream",
     "text": [
      "[flaml.automl: 10-24 16:16:35] {3174} INFO - iteration 92, current learner extra_tree\n"
     ]
    },
    {
     "name": "stdout",
     "output_type": "stream",
     "text": [
      "[flaml.tune.tune: 10-24 16:16:35] {513} INFO - trial 1 config: {'n_estimators': 4, 'max_features': 0.21750441470599713, 'max_leaves': 11, 'criterion': 'gini'}\n"
     ]
    },
    {
     "name": "stderr",
     "output_type": "stream",
     "text": [
      "[flaml.tune.tune: 10-24 16:16:35] {513} INFO - trial 1 config: {'n_estimators': 4, 'max_features': 0.21750441470599713, 'max_leaves': 11, 'criterion': 'gini'}\n",
      "[flaml.automl: 10-24 16:16:35] {3354} INFO -  at 45.9s,\testimator extra_tree's best error=0.3130,\tbest estimator xgboost's best error=0.1767\n"
     ]
    },
    {
     "name": "stdout",
     "output_type": "stream",
     "text": [
      "[flaml.automl: 10-24 16:16:35] {3354} INFO -  at 45.9s,\testimator extra_tree's best error=0.3130,\tbest estimator xgboost's best error=0.1767\n"
     ]
    },
    {
     "name": "stderr",
     "output_type": "stream",
     "text": [
      "[flaml.automl: 10-24 16:16:35] {3354} INFO -  at 45.9s,\testimator extra_tree's best error=0.3130,\tbest estimator xgboost's best error=0.1767\n",
      "[flaml.automl: 10-24 16:16:35] {3174} INFO - iteration 93, current learner xgboost\n"
     ]
    },
    {
     "name": "stdout",
     "output_type": "stream",
     "text": [
      "[flaml.automl: 10-24 16:16:35] {3174} INFO - iteration 93, current learner xgboost\n"
     ]
    },
    {
     "name": "stderr",
     "output_type": "stream",
     "text": [
      "[flaml.automl: 10-24 16:16:35] {3174} INFO - iteration 93, current learner xgboost\n"
     ]
    },
    {
     "name": "stdout",
     "output_type": "stream",
     "text": [
      "[flaml.tune.tune: 10-24 16:16:35] {513} INFO - trial 1 config: {'n_estimators': 37, 'max_leaves': 7, 'min_child_weight': 0.07072583221279385, 'learning_rate': 0.4970941685537737, 'subsample': 0.8761523315673858, 'colsample_bylevel': 0.8547404088204815, 'colsample_bytree': 0.9436587025872073, 'reg_alpha': 0.010480108029358429, 'reg_lambda': 0.05601720596774634}\n"
     ]
    },
    {
     "name": "stderr",
     "output_type": "stream",
     "text": [
      "[flaml.tune.tune: 10-24 16:16:35] {513} INFO - trial 1 config: {'n_estimators': 37, 'max_leaves': 7, 'min_child_weight': 0.07072583221279385, 'learning_rate': 0.4970941685537737, 'subsample': 0.8761523315673858, 'colsample_bylevel': 0.8547404088204815, 'colsample_bytree': 0.9436587025872073, 'reg_alpha': 0.010480108029358429, 'reg_lambda': 0.05601720596774634}\n",
      "[flaml.automl: 10-24 16:16:35] {3354} INFO -  at 46.1s,\testimator xgboost's best error=0.1767,\tbest estimator xgboost's best error=0.1767\n"
     ]
    },
    {
     "name": "stdout",
     "output_type": "stream",
     "text": [
      "[flaml.automl: 10-24 16:16:35] {3354} INFO -  at 46.1s,\testimator xgboost's best error=0.1767,\tbest estimator xgboost's best error=0.1767\n"
     ]
    },
    {
     "name": "stderr",
     "output_type": "stream",
     "text": [
      "[flaml.automl: 10-24 16:16:35] {3354} INFO -  at 46.1s,\testimator xgboost's best error=0.1767,\tbest estimator xgboost's best error=0.1767\n",
      "[flaml.automl: 10-24 16:16:35] {3174} INFO - iteration 94, current learner catboost\n"
     ]
    },
    {
     "name": "stdout",
     "output_type": "stream",
     "text": [
      "[flaml.automl: 10-24 16:16:35] {3174} INFO - iteration 94, current learner catboost\n"
     ]
    },
    {
     "name": "stderr",
     "output_type": "stream",
     "text": [
      "[flaml.automl: 10-24 16:16:35] {3174} INFO - iteration 94, current learner catboost\n"
     ]
    },
    {
     "name": "stdout",
     "output_type": "stream",
     "text": [
      "[flaml.tune.tune: 10-24 16:16:35] {513} INFO - trial 1 config: {'early_stopping_rounds': 18, 'learning_rate': 0.012726541547569059, 'n_estimators': 8192}\n"
     ]
    },
    {
     "name": "stderr",
     "output_type": "stream",
     "text": [
      "[flaml.tune.tune: 10-24 16:16:35] {513} INFO - trial 1 config: {'early_stopping_rounds': 18, 'learning_rate': 0.012726541547569059, 'n_estimators': 8192}\n",
      "[flaml.automl: 10-24 16:16:38] {3354} INFO -  at 48.7s,\testimator catboost's best error=0.1856,\tbest estimator xgboost's best error=0.1767\n"
     ]
    },
    {
     "name": "stdout",
     "output_type": "stream",
     "text": [
      "[flaml.automl: 10-24 16:16:38] {3354} INFO -  at 48.7s,\testimator catboost's best error=0.1856,\tbest estimator xgboost's best error=0.1767\n"
     ]
    },
    {
     "name": "stderr",
     "output_type": "stream",
     "text": [
      "[flaml.automl: 10-24 16:16:38] {3354} INFO -  at 48.7s,\testimator catboost's best error=0.1856,\tbest estimator xgboost's best error=0.1767\n",
      "[flaml.automl: 10-24 16:16:38] {3174} INFO - iteration 95, current learner lgbm\n"
     ]
    },
    {
     "name": "stdout",
     "output_type": "stream",
     "text": [
      "[flaml.automl: 10-24 16:16:38] {3174} INFO - iteration 95, current learner lgbm\n"
     ]
    },
    {
     "name": "stderr",
     "output_type": "stream",
     "text": [
      "[flaml.automl: 10-24 16:16:38] {3174} INFO - iteration 95, current learner lgbm\n"
     ]
    },
    {
     "name": "stdout",
     "output_type": "stream",
     "text": [
      "[flaml.tune.tune: 10-24 16:16:38] {513} INFO - trial 1 config: {'n_estimators': 9, 'num_leaves': 5, 'min_child_samples': 15, 'learning_rate': 0.4715139390154265, 'log_max_bin': 9, 'colsample_bytree': 0.5662798157804226, 'reg_alpha': 0.1172774806401448, 'reg_lambda': 0.0930001801384511}\n"
     ]
    },
    {
     "name": "stderr",
     "output_type": "stream",
     "text": [
      "[flaml.tune.tune: 10-24 16:16:38] {513} INFO - trial 1 config: {'n_estimators': 9, 'num_leaves': 5, 'min_child_samples': 15, 'learning_rate': 0.4715139390154265, 'log_max_bin': 9, 'colsample_bytree': 0.5662798157804226, 'reg_alpha': 0.1172774806401448, 'reg_lambda': 0.0930001801384511}\n",
      "[flaml.automl: 10-24 16:16:38] {3354} INFO -  at 49.0s,\testimator lgbm's best error=0.1850,\tbest estimator xgboost's best error=0.1767\n"
     ]
    },
    {
     "name": "stdout",
     "output_type": "stream",
     "text": [
      "[flaml.automl: 10-24 16:16:38] {3354} INFO -  at 49.0s,\testimator lgbm's best error=0.1850,\tbest estimator xgboost's best error=0.1767\n"
     ]
    },
    {
     "name": "stderr",
     "output_type": "stream",
     "text": [
      "[flaml.automl: 10-24 16:16:38] {3354} INFO -  at 49.0s,\testimator lgbm's best error=0.1850,\tbest estimator xgboost's best error=0.1767\n",
      "[flaml.automl: 10-24 16:16:38] {3174} INFO - iteration 96, current learner extra_tree\n"
     ]
    },
    {
     "name": "stdout",
     "output_type": "stream",
     "text": [
      "[flaml.automl: 10-24 16:16:38] {3174} INFO - iteration 96, current learner extra_tree\n"
     ]
    },
    {
     "name": "stderr",
     "output_type": "stream",
     "text": [
      "[flaml.automl: 10-24 16:16:38] {3174} INFO - iteration 96, current learner extra_tree\n"
     ]
    },
    {
     "name": "stdout",
     "output_type": "stream",
     "text": [
      "[flaml.tune.tune: 10-24 16:16:38] {513} INFO - trial 1 config: {'n_estimators': 8, 'max_features': 0.3045701560503715, 'max_leaves': 5, 'criterion': 'entropy'}\n"
     ]
    },
    {
     "name": "stderr",
     "output_type": "stream",
     "text": [
      "[flaml.tune.tune: 10-24 16:16:38] {513} INFO - trial 1 config: {'n_estimators': 8, 'max_features': 0.3045701560503715, 'max_leaves': 5, 'criterion': 'entropy'}\n",
      "[flaml.automl: 10-24 16:16:38] {3354} INFO -  at 49.1s,\testimator extra_tree's best error=0.3130,\tbest estimator xgboost's best error=0.1767\n"
     ]
    },
    {
     "name": "stdout",
     "output_type": "stream",
     "text": [
      "[flaml.automl: 10-24 16:16:38] {3354} INFO -  at 49.1s,\testimator extra_tree's best error=0.3130,\tbest estimator xgboost's best error=0.1767\n"
     ]
    },
    {
     "name": "stderr",
     "output_type": "stream",
     "text": [
      "[flaml.automl: 10-24 16:16:38] {3354} INFO -  at 49.1s,\testimator extra_tree's best error=0.3130,\tbest estimator xgboost's best error=0.1767\n",
      "[flaml.automl: 10-24 16:16:38] {3174} INFO - iteration 97, current learner rf\n"
     ]
    },
    {
     "name": "stdout",
     "output_type": "stream",
     "text": [
      "[flaml.automl: 10-24 16:16:38] {3174} INFO - iteration 97, current learner rf\n"
     ]
    },
    {
     "name": "stderr",
     "output_type": "stream",
     "text": [
      "[flaml.automl: 10-24 16:16:38] {3174} INFO - iteration 97, current learner rf\n"
     ]
    },
    {
     "name": "stdout",
     "output_type": "stream",
     "text": [
      "[flaml.tune.tune: 10-24 16:16:38] {513} INFO - trial 1 config: {'n_estimators': 4, 'max_features': 0.08948066038638021, 'max_leaves': 4, 'criterion': 'entropy'}\n"
     ]
    },
    {
     "name": "stderr",
     "output_type": "stream",
     "text": [
      "[flaml.tune.tune: 10-24 16:16:38] {513} INFO - trial 1 config: {'n_estimators': 4, 'max_features': 0.08948066038638021, 'max_leaves': 4, 'criterion': 'entropy'}\n",
      "[flaml.automl: 10-24 16:16:38] {3354} INFO -  at 49.2s,\testimator rf's best error=0.3151,\tbest estimator xgboost's best error=0.1767\n"
     ]
    },
    {
     "name": "stdout",
     "output_type": "stream",
     "text": [
      "[flaml.automl: 10-24 16:16:38] {3354} INFO -  at 49.2s,\testimator rf's best error=0.3151,\tbest estimator xgboost's best error=0.1767\n"
     ]
    },
    {
     "name": "stderr",
     "output_type": "stream",
     "text": [
      "[flaml.automl: 10-24 16:16:38] {3354} INFO -  at 49.2s,\testimator rf's best error=0.3151,\tbest estimator xgboost's best error=0.1767\n",
      "[flaml.automl: 10-24 16:16:38] {3174} INFO - iteration 98, current learner xgb_limitdepth\n"
     ]
    },
    {
     "name": "stdout",
     "output_type": "stream",
     "text": [
      "[flaml.automl: 10-24 16:16:38] {3174} INFO - iteration 98, current learner xgb_limitdepth\n"
     ]
    },
    {
     "name": "stderr",
     "output_type": "stream",
     "text": [
      "[flaml.automl: 10-24 16:16:38] {3174} INFO - iteration 98, current learner xgb_limitdepth\n"
     ]
    },
    {
     "name": "stdout",
     "output_type": "stream",
     "text": [
      "[flaml.tune.tune: 10-24 16:16:38] {513} INFO - trial 1 config: {'n_estimators': 10, 'max_depth': 6, 'min_child_weight': 0.9999999999999993, 'learning_rate': 0.29999999999999993, 'subsample': 1.0, 'colsample_bylevel': 1.0, 'colsample_bytree': 1.0, 'reg_alpha': 0.0009765625, 'reg_lambda': 1.0}\n"
     ]
    },
    {
     "name": "stderr",
     "output_type": "stream",
     "text": [
      "[flaml.tune.tune: 10-24 16:16:38] {513} INFO - trial 1 config: {'n_estimators': 10, 'max_depth': 6, 'min_child_weight': 0.9999999999999993, 'learning_rate': 0.29999999999999993, 'subsample': 1.0, 'colsample_bylevel': 1.0, 'colsample_bytree': 1.0, 'reg_alpha': 0.0009765625, 'reg_lambda': 1.0}\n",
      "[flaml.automl: 10-24 16:16:38] {3354} INFO -  at 49.3s,\testimator xgb_limitdepth's best error=0.3623,\tbest estimator xgboost's best error=0.1767\n"
     ]
    },
    {
     "name": "stdout",
     "output_type": "stream",
     "text": [
      "[flaml.automl: 10-24 16:16:38] {3354} INFO -  at 49.3s,\testimator xgb_limitdepth's best error=0.3623,\tbest estimator xgboost's best error=0.1767\n"
     ]
    },
    {
     "name": "stderr",
     "output_type": "stream",
     "text": [
      "[flaml.automl: 10-24 16:16:38] {3354} INFO -  at 49.3s,\testimator xgb_limitdepth's best error=0.3623,\tbest estimator xgboost's best error=0.1767\n",
      "[flaml.automl: 10-24 16:16:38] {3174} INFO - iteration 99, current learner xgb_limitdepth\n"
     ]
    },
    {
     "name": "stdout",
     "output_type": "stream",
     "text": [
      "[flaml.automl: 10-24 16:16:38] {3174} INFO - iteration 99, current learner xgb_limitdepth\n"
     ]
    },
    {
     "name": "stderr",
     "output_type": "stream",
     "text": [
      "[flaml.automl: 10-24 16:16:38] {3174} INFO - iteration 99, current learner xgb_limitdepth\n"
     ]
    },
    {
     "name": "stdout",
     "output_type": "stream",
     "text": [
      "[flaml.tune.tune: 10-24 16:16:38] {513} INFO - trial 1 config: {'n_estimators': 5, 'max_depth': 6, 'min_child_weight': 1.4952317042235694, 'learning_rate': 0.12157742460441856, 'subsample': 1.0, 'colsample_bylevel': 0.9039669660532299, 'colsample_bytree': 0.9005043427192151, 'reg_alpha': 0.007210828893539485, 'reg_lambda': 0.28193756824170324}\n"
     ]
    },
    {
     "name": "stderr",
     "output_type": "stream",
     "text": [
      "[flaml.tune.tune: 10-24 16:16:38] {513} INFO - trial 1 config: {'n_estimators': 5, 'max_depth': 6, 'min_child_weight': 1.4952317042235694, 'learning_rate': 0.12157742460441856, 'subsample': 1.0, 'colsample_bylevel': 0.9039669660532299, 'colsample_bytree': 0.9005043427192151, 'reg_alpha': 0.007210828893539485, 'reg_lambda': 0.28193756824170324}\n",
      "[flaml.automl: 10-24 16:16:39] {3354} INFO -  at 49.4s,\testimator xgb_limitdepth's best error=0.3623,\tbest estimator xgboost's best error=0.1767\n"
     ]
    },
    {
     "name": "stdout",
     "output_type": "stream",
     "text": [
      "[flaml.automl: 10-24 16:16:39] {3354} INFO -  at 49.4s,\testimator xgb_limitdepth's best error=0.3623,\tbest estimator xgboost's best error=0.1767\n"
     ]
    },
    {
     "name": "stderr",
     "output_type": "stream",
     "text": [
      "[flaml.automl: 10-24 16:16:39] {3354} INFO -  at 49.4s,\testimator xgb_limitdepth's best error=0.3623,\tbest estimator xgboost's best error=0.1767\n",
      "[flaml.automl: 10-24 16:16:39] {3475} INFO - selected model: XGBClassifier(base_score=0.5, booster='gbtree',\n",
      "              colsample_bylevel=0.804388646793182, colsample_bynode=1,\n",
      "              colsample_bytree=1.0, gamma=0, gpu_id=-1, grow_policy='lossguide',\n",
      "              importance_type='gain', interaction_constraints='',\n",
      "              learning_rate=0.5892722506669729, max_delta_step=0, max_depth=0,\n",
      "              max_leaves=11, min_child_weight=0.23904607240199677, missing=nan,\n",
      "              monotone_constraints='()', n_estimators=33, n_jobs=-1,\n",
      "              num_parallel_tree=1, random_state=0,\n",
      "              reg_alpha=0.0016469991740555498, reg_lambda=0.988826446648512,\n",
      "              scale_pos_weight=1, subsample=0.9180402707612114,\n",
      "              tree_method='hist', use_label_encoder=False,\n",
      "              validate_parameters=1, verbosity=0)\n"
     ]
    },
    {
     "name": "stdout",
     "output_type": "stream",
     "text": [
      "[flaml.automl: 10-24 16:16:39] {3475} INFO - selected model: XGBClassifier(base_score=0.5, booster='gbtree',\n",
      "              colsample_bylevel=0.804388646793182, colsample_bynode=1,\n",
      "              colsample_bytree=1.0, gamma=0, gpu_id=-1, grow_policy='lossguide',\n",
      "              importance_type='gain', interaction_constraints='',\n",
      "              learning_rate=0.5892722506669729, max_delta_step=0, max_depth=0,\n",
      "              max_leaves=11, min_child_weight=0.23904607240199677, missing=nan,\n",
      "              monotone_constraints='()', n_estimators=33, n_jobs=-1,\n",
      "              num_parallel_tree=1, random_state=0,\n",
      "              reg_alpha=0.0016469991740555498, reg_lambda=0.988826446648512,\n",
      "              scale_pos_weight=1, subsample=0.9180402707612114,\n",
      "              tree_method='hist', use_label_encoder=False,\n",
      "              validate_parameters=1, verbosity=0)\n"
     ]
    },
    {
     "name": "stderr",
     "output_type": "stream",
     "text": [
      "[flaml.automl: 10-24 16:16:39] {3475} INFO - selected model: XGBClassifier(base_score=0.5, booster='gbtree',\n",
      "              colsample_bylevel=0.804388646793182, colsample_bynode=1,\n",
      "              colsample_bytree=1.0, gamma=0, gpu_id=-1, grow_policy='lossguide',\n",
      "              importance_type='gain', interaction_constraints='',\n",
      "              learning_rate=0.5892722506669729, max_delta_step=0, max_depth=0,\n",
      "              max_leaves=11, min_child_weight=0.23904607240199677, missing=nan,\n",
      "              monotone_constraints='()', n_estimators=33, n_jobs=-1,\n",
      "              num_parallel_tree=1, random_state=0,\n",
      "              reg_alpha=0.0016469991740555498, reg_lambda=0.988826446648512,\n",
      "              scale_pos_weight=1, subsample=0.9180402707612114,\n",
      "              tree_method='hist', use_label_encoder=False,\n",
      "              validate_parameters=1, verbosity=0)\n",
      "[flaml.automl: 10-24 16:16:39] {2900} INFO - fit succeeded\n"
     ]
    },
    {
     "name": "stdout",
     "output_type": "stream",
     "text": [
      "[flaml.automl: 10-24 16:16:39] {2900} INFO - fit succeeded\n"
     ]
    },
    {
     "name": "stderr",
     "output_type": "stream",
     "text": [
      "[flaml.automl: 10-24 16:16:39] {2900} INFO - fit succeeded\n",
      "[flaml.automl: 10-24 16:16:39] {2901} INFO - Time taken to find the best model: 4.914206504821777\n"
     ]
    },
    {
     "name": "stdout",
     "output_type": "stream",
     "text": [
      "[flaml.automl: 10-24 16:16:39] {2901} INFO - Time taken to find the best model: 4.914206504821777\n"
     ]
    },
    {
     "name": "stderr",
     "output_type": "stream",
     "text": [
      "[flaml.automl: 10-24 16:16:39] {2901} INFO - Time taken to find the best model: 4.914206504821777\n"
     ]
    },
    {
     "name": "stdout",
     "output_type": "stream",
     "text": [
      "[__main__: 10-24 16:16:39] {392} INFO - P1.PD.CurrCOR.Row2.Country: 0.00\n",
      "P1.PD.PrevCOR.Row2.Country: 0.05\n",
      "P1.PD.PrevCOR.Row3.Country: 0.00\n",
      "P3.DOV.PrpsRow1.Funds.Funds: 0.02\n",
      "P3.Edu.Edu_Row1.Country.Country: 0.05\n",
      "P3.Occ.OccRow1.Country.Country: 0.00\n",
      "P3.Occ.OccRow2.Country.Country: 0.00\n",
      "P3.Occ.OccRow3.Country.Country: 0.00\n",
      "P1.PD.DOBYear.Period: 0.08\n",
      "P1.PD.PrevCOR.Row2.Period: 0.00\n",
      "P1.PD.PrevCOR.Row3.Period: 0.00\n",
      "P1.PD.CWA.Row2.Period: 0.02\n",
      "P1.MS.SecA.DateOfMarr.Period: 0.02\n",
      "P2.MS.SecA.Period: 0.05\n",
      "P2.MS.SecA.Psprt.ExpiryDate.Remaining: 0.01\n",
      "P3.DOV.PrpsRow1.HLS.Period: 0.04\n",
      "P3.Edu.Edu_Row1.Period: 0.01\n",
      "P3.Occ.OccRow1.Period: 0.01\n",
      "P3.Occ.OccRow2.Period: 0.00\n",
      "P3.Occ.OccRow3.Period: 0.00\n",
      "p1.SecA.Sps.SpsDOB.Period: 0.04\n",
      "p1.SecA.Mo.MoDOB.Period: 0.02\n",
      "p1.SecA.Fa.FaDOB.Period: 0.01\n",
      "p1.SecB.Chd.[0].ChdDOB.Period: 0.02\n",
      "p1.SecB.Chd.[1].ChdDOB.Period: 0.01\n",
      "p1.SecB.Chd.[2].ChdDOB.Period: 0.00\n",
      "p1.SecB.Chd.[3].ChdDOB.Period: 0.00\n",
      "p1.SecC.Chd.[0].ChdDOB.Period: 0.01\n",
      "p1.SecC.Chd.[1].ChdDOB.Period: 0.00\n",
      "p1.SecC.Chd.[2].ChdDOB.Period: 0.04\n",
      "p1.SecC.Chd.[3].ChdDOB.Period: 0.02\n",
      "p1.SecC.Chd.[4].ChdDOB.Period: 0.00\n",
      "p1.SecC.Chd.[5].ChdDOB.Period: 0.00\n",
      "p1.SecC.Chd.[6].ChdDOB.Period: 0.00\n",
      "p1.SecA.App.ChdMStatus_1: 0.00\n",
      "p1.SecA.App.ChdMStatus_3: 0.00\n",
      "p1.SecA.App.ChdMStatus_5: 0.00\n",
      "p1.SecA.App.ChdMStatus_6: 0.00\n",
      "p1.SecA.App.ChdMStatus_7: 0.00\n",
      "p1.SecA.App.ChdMStatus_8: 0.00\n",
      "p1.SecA.App.ChdMStatus_9: 0.00\n",
      "p1.SecA.Mo.ChdMStatus_1: 0.00\n",
      "p1.SecA.Mo.ChdMStatus_3: 0.00\n",
      "p1.SecA.Mo.ChdMStatus_5: 0.00\n",
      "p1.SecA.Mo.ChdMStatus_6: 0.00\n",
      "p1.SecA.Mo.ChdMStatus_7: 0.00\n",
      "p1.SecA.Mo.ChdMStatus_8: 0.00\n",
      "p1.SecA.Mo.ChdMStatus_9: 0.00\n",
      "p1.SecA.Fa.ChdMStatus_1: 0.00\n",
      "p1.SecA.Fa.ChdMStatus_3: 0.00\n",
      "p1.SecA.Fa.ChdMStatus_5: 0.02\n",
      "p1.SecA.Fa.ChdMStatus_6: 0.00\n",
      "p1.SecA.Fa.ChdMStatus_7: 0.00\n",
      "p1.SecA.Fa.ChdMStatus_8: 0.00\n",
      "p1.SecA.Fa.ChdMStatus_9: 0.00\n",
      "p1.SecB.Chd.[0].ChdMStatus_1: 0.00\n",
      "p1.SecB.Chd.[0].ChdMStatus_3: 0.00\n",
      "p1.SecB.Chd.[0].ChdMStatus_5: 0.00\n",
      "p1.SecB.Chd.[0].ChdMStatus_6: 0.00\n",
      "p1.SecB.Chd.[0].ChdMStatus_7: 0.00\n",
      "p1.SecB.Chd.[0].ChdMStatus_8: 0.00\n",
      "p1.SecB.Chd.[0].ChdMStatus_9: 0.00\n",
      "p1.SecB.Chd.[1].ChdMStatus_1: 0.00\n",
      "p1.SecB.Chd.[1].ChdMStatus_3: 0.00\n",
      "p1.SecB.Chd.[1].ChdMStatus_5: 0.00\n",
      "p1.SecB.Chd.[1].ChdMStatus_6: 0.00\n",
      "p1.SecB.Chd.[1].ChdMStatus_7: 0.00\n",
      "p1.SecB.Chd.[1].ChdMStatus_8: 0.00\n",
      "p1.SecB.Chd.[1].ChdMStatus_9: 0.00\n",
      "p1.SecB.Chd.[2].ChdMStatus_1: 0.00\n",
      "p1.SecB.Chd.[2].ChdMStatus_3: 0.00\n",
      "p1.SecB.Chd.[2].ChdMStatus_5: 0.00\n",
      "p1.SecB.Chd.[2].ChdMStatus_6: 0.00\n",
      "p1.SecB.Chd.[2].ChdMStatus_7: 0.00\n",
      "p1.SecB.Chd.[2].ChdMStatus_8: 0.00\n",
      "p1.SecB.Chd.[2].ChdMStatus_9: 0.00\n",
      "p1.SecB.Chd.[3].ChdMStatus_1: 0.00\n",
      "p1.SecB.Chd.[3].ChdMStatus_3: 0.00\n",
      "p1.SecB.Chd.[3].ChdMStatus_5: 0.00\n",
      "p1.SecB.Chd.[3].ChdMStatus_6: 0.00\n",
      "p1.SecB.Chd.[3].ChdMStatus_7: 0.00\n",
      "p1.SecB.Chd.[3].ChdMStatus_8: 0.00\n",
      "p1.SecB.Chd.[3].ChdMStatus_9: 0.00\n",
      "p1.SecC.Chd.[0].ChdMStatus_1: 0.00\n",
      "p1.SecC.Chd.[0].ChdMStatus_3: 0.00\n",
      "p1.SecC.Chd.[0].ChdMStatus_5: 0.00\n",
      "p1.SecC.Chd.[0].ChdMStatus_6: 0.00\n",
      "p1.SecC.Chd.[0].ChdMStatus_7: 0.00\n",
      "p1.SecC.Chd.[0].ChdMStatus_8: 0.00\n",
      "p1.SecC.Chd.[0].ChdMStatus_9: 0.00\n",
      "p1.SecC.Chd.[1].ChdMStatus_1: 0.00\n",
      "p1.SecC.Chd.[1].ChdMStatus_3: 0.00\n",
      "p1.SecC.Chd.[1].ChdMStatus_5: 0.00\n",
      "p1.SecC.Chd.[1].ChdMStatus_6: 0.00\n",
      "p1.SecC.Chd.[1].ChdMStatus_7: 0.00\n",
      "p1.SecC.Chd.[1].ChdMStatus_8: 0.00\n",
      "p1.SecC.Chd.[1].ChdMStatus_9: 0.01\n",
      "p1.SecC.Chd.[2].ChdMStatus_1: 0.00\n",
      "p1.SecC.Chd.[2].ChdMStatus_3: 0.00\n",
      "p1.SecC.Chd.[2].ChdMStatus_5: 0.00\n",
      "p1.SecC.Chd.[2].ChdMStatus_6: 0.00\n",
      "p1.SecC.Chd.[2].ChdMStatus_7: 0.00\n",
      "p1.SecC.Chd.[2].ChdMStatus_8: 0.00\n",
      "p1.SecC.Chd.[2].ChdMStatus_9: 0.00\n",
      "p1.SecC.Chd.[3].ChdMStatus_1: 0.00\n",
      "p1.SecC.Chd.[3].ChdMStatus_3: 0.00\n",
      "p1.SecC.Chd.[3].ChdMStatus_5: 0.00\n",
      "p1.SecC.Chd.[3].ChdMStatus_6: 0.00\n",
      "p1.SecC.Chd.[3].ChdMStatus_7: 0.00\n",
      "p1.SecC.Chd.[3].ChdMStatus_8: 0.00\n",
      "p1.SecC.Chd.[3].ChdMStatus_9: 0.00\n",
      "p1.SecC.Chd.[4].ChdMStatus_1: 0.00\n",
      "p1.SecC.Chd.[4].ChdMStatus_3: 0.00\n",
      "p1.SecC.Chd.[4].ChdMStatus_5: 0.00\n",
      "p1.SecC.Chd.[4].ChdMStatus_6: 0.00\n",
      "p1.SecC.Chd.[4].ChdMStatus_7: 0.00\n",
      "p1.SecC.Chd.[4].ChdMStatus_8: 0.00\n",
      "p1.SecC.Chd.[4].ChdMStatus_9: 0.00\n",
      "p1.SecC.Chd.[5].ChdMStatus_1: 0.00\n",
      "p1.SecC.Chd.[5].ChdMStatus_3: 0.00\n",
      "p1.SecC.Chd.[5].ChdMStatus_5: 0.02\n",
      "p1.SecC.Chd.[5].ChdMStatus_6: 0.00\n",
      "p1.SecC.Chd.[5].ChdMStatus_7: 0.00\n",
      "p1.SecC.Chd.[5].ChdMStatus_8: 0.00\n",
      "p1.SecC.Chd.[5].ChdMStatus_9: 0.00\n",
      "p1.SecC.Chd.[6].ChdMStatus_1: 0.00\n",
      "p1.SecC.Chd.[6].ChdMStatus_3: 0.00\n",
      "p1.SecC.Chd.[6].ChdMStatus_5: 0.00\n",
      "p1.SecC.Chd.[6].ChdMStatus_6: 0.00\n",
      "p1.SecC.Chd.[6].ChdMStatus_7: 0.00\n",
      "p1.SecC.Chd.[6].ChdMStatus_8: 0.00\n",
      "p1.SecC.Chd.[6].ChdMStatus_9: 0.00\n",
      "P1.PD.AliasName.AliasNameIndicator.AliasNameIndicator_False: 0.00\n",
      "P1.PD.AliasName.AliasNameIndicator.AliasNameIndicator_True: 0.00\n",
      "P1.PD.Sex.Sex_Female: 0.00\n",
      "P1.PD.Sex.Sex_Male: 0.00\n",
      "P1.PD.SameAsCORIndicator_False: 0.00\n",
      "P1.PD.SameAsCORIndicator_True: 0.00\n",
      "P2.MS.SecA.PrevMarrIndicator_False: 0.00\n",
      "P2.MS.SecA.PrevMarrIndicator_True: 0.00\n",
      "P3.Edu.EduIndicator_False: 0.00\n",
      "P3.Edu.EduIndicator_True: 0.00\n",
      "P3.noAuthStay_False: 0.00\n",
      "P3.noAuthStay_True: 0.00\n",
      "P3.refuseDeport_False: 0.01\n",
      "P3.refuseDeport_True: 0.00\n",
      "P3.BGI2.PrevApply_False: 0.03\n",
      "P3.BGI2.PrevApply_True: 0.02\n",
      "P1.PD.CurrCOR.Row2.Status_1: 0.00\n",
      "P1.PD.CurrCOR.Row2.Status_2: 0.00\n",
      "P1.PD.CurrCOR.Row2.Status_3: 0.00\n",
      "P1.PD.CWA.Row2.Status_6: 0.00\n",
      "P1.PD.CWA.Row2.Status_3: 0.02\n",
      "P1.PD.CWA.Row2.Status_1: 0.00\n",
      "P1.PD.CWA.Row2.Country_TURKEY: 0.00\n",
      "P1.PD.CWA.Row2.Country_OTHER: 0.00\n",
      "P1.PD.CWA.Row2.Country_Georgia: 0.00\n",
      "P1.PD.CWA.Row2.Country_UAE: 0.00\n",
      "P1.PD.CWA.Row2.Country_Armenia: 0.00\n",
      "P3.DOV.PrpsRow1.PrpsOfVisit.PrpsOfVisit_family visit: 0.00\n",
      "P3.DOV.PrpsRow1.PrpsOfVisit.PrpsOfVisit_tourism: 0.00\n",
      "P3.DOV.PrpsRow1.PrpsOfVisit.PrpsOfVisit_visit: 0.00\n",
      "P3.DOV.PrpsRow1.PrpsOfVisit.PrpsOfVisit_other: 0.00\n",
      "P3.DOV.PrpsRow1.PrpsOfVisit.PrpsOfVisit_business: 0.00\n",
      "P3.DOV.cntcts_Row1.RelationshipToMe.RelationshipToMe_f1: 0.00\n",
      "P3.DOV.cntcts_Row1.RelationshipToMe.RelationshipToMe_f2: 0.00\n",
      "P3.DOV.cntcts_Row1.RelationshipToMe.RelationshipToMe_friend: 0.00\n",
      "P3.DOV.cntcts_Row1.RelationshipToMe.RelationshipToMe_hotel: 0.05\n",
      "P3.DOV.cntcts_Row1.RelationshipToMe.RelationshipToMe_ukn: 0.01\n",
      "P3.DOV.cntcts_Row1.RelationshipToMe.RelationshipToMe_work: 0.00\n",
      "P3.cntcts_Row2.Relationship.RelationshipToMe_f1: 0.00\n",
      "P3.cntcts_Row2.Relationship.RelationshipToMe_f2: 0.00\n",
      "P3.cntcts_Row2.Relationship.RelationshipToMe_friend: 0.00\n",
      "P3.cntcts_Row2.Relationship.RelationshipToMe_hotel: 0.01\n",
      "P3.cntcts_Row2.Relationship.RelationshipToMe_ukn: 0.00\n",
      "P3.Edu.Edu_Row1.FieldOfStudy_unedu: 0.00\n",
      "P3.Edu.Edu_Row1.FieldOfStudy_master: 0.00\n",
      "P3.Edu.Edu_Row1.FieldOfStudy_bachelor: 0.02\n",
      "P3.Edu.Edu_Row1.FieldOfStudy_phd: 0.00\n",
      "P3.Edu.Edu_Row1.FieldOfStudy_apprentice: 0.00\n",
      "P3.Edu.Edu_Row1.FieldOfStudy_diploma: 0.00\n",
      "p1.SecB.Chd.[0].ChdRel_son: 0.03\n",
      "p1.SecB.Chd.[0].ChdRel_daughter: 0.03\n",
      "p1.SecB.Chd.[0].ChdRel_other: 0.00\n",
      "p1.SecB.Chd.[1].ChdRel_son: 0.00\n",
      "p1.SecB.Chd.[1].ChdRel_daughter: 0.00\n",
      "p1.SecB.Chd.[1].ChdRel_other: 0.00\n",
      "p1.SecB.Chd.[2].ChdRel_son: 0.00\n",
      "p1.SecB.Chd.[2].ChdRel_daughter: 0.00\n",
      "p1.SecB.Chd.[2].ChdRel_other: 0.00\n",
      "p1.SecB.Chd.[3].ChdRel_son: 0.00\n",
      "p1.SecB.Chd.[3].ChdRel_daughter: 0.00\n",
      "p1.SecB.Chd.[3].ChdRel_other: 0.00\n",
      "p1.SecC.Chd.[0].ChdRel_brother: 0.02\n",
      "p1.SecC.Chd.[0].ChdRel_sister: 0.00\n",
      "p1.SecC.Chd.[0].ChdRel_other: 0.00\n",
      "p1.SecC.Chd.[1].ChdRel_brother: 0.01\n",
      "p1.SecC.Chd.[1].ChdRel_sister: 0.01\n",
      "p1.SecC.Chd.[1].ChdRel_other: 0.00\n",
      "p1.SecC.Chd.[2].ChdRel_brother: 0.00\n",
      "p1.SecC.Chd.[2].ChdRel_sister: 0.00\n",
      "p1.SecC.Chd.[2].ChdRel_other: 0.00\n",
      "p1.SecC.Chd.[3].ChdRel_brother: 0.00\n",
      "p1.SecC.Chd.[3].ChdRel_sister: 0.01\n",
      "p1.SecC.Chd.[3].ChdRel_other: 0.00\n",
      "p1.SecC.Chd.[4].ChdRel_brother: 0.00\n",
      "p1.SecC.Chd.[4].ChdRel_sister: 0.00\n",
      "p1.SecC.Chd.[4].ChdRel_other: 0.00\n",
      "p1.SecC.Chd.[5].ChdRel_brother: 0.00\n",
      "p1.SecC.Chd.[5].ChdRel_sister: 0.00\n",
      "p1.SecC.Chd.[5].ChdRel_other: 0.00\n",
      "p1.SecC.Chd.[6].ChdRel_brother: 0.00\n",
      "p1.SecC.Chd.[6].ChdRel_sister: 0.00\n",
      "p1.SecC.Chd.[6].ChdRel_other: 0.00\n",
      "P3.Occ.OccRow1.Occ.Occ_student: 0.00\n",
      "P3.Occ.OccRow1.Occ.Occ_housewife: 0.00\n",
      "P3.Occ.OccRow1.Occ.Occ_retired: 0.00\n",
      "P3.Occ.OccRow1.Occ.Occ_OTHER: 0.00\n",
      "P3.Occ.OccRow1.Occ.Occ_manager: 0.01\n",
      "P3.Occ.OccRow1.Occ.Occ_specialist: 0.00\n",
      "P3.Occ.OccRow1.Occ.Occ_employee: 0.00\n",
      "P3.Occ.OccRow2.Occ.Occ_student: 0.02\n",
      "P3.Occ.OccRow2.Occ.Occ_housewife: 0.00\n",
      "P3.Occ.OccRow2.Occ.Occ_retired: 0.00\n",
      "P3.Occ.OccRow2.Occ.Occ_OTHER: 0.00\n",
      "P3.Occ.OccRow2.Occ.Occ_manager: 0.00\n",
      "P3.Occ.OccRow2.Occ.Occ_specialist: 0.00\n",
      "P3.Occ.OccRow2.Occ.Occ_employee: 0.00\n",
      "P3.Occ.OccRow3.Occ.Occ_student: 0.00\n",
      "P3.Occ.OccRow3.Occ.Occ_housewife: 0.00\n",
      "P3.Occ.OccRow3.Occ.Occ_retired: 0.00\n",
      "P3.Occ.OccRow3.Occ.Occ_OTHER: 0.00\n",
      "P3.Occ.OccRow3.Occ.Occ_manager: 0.02\n",
      "P3.Occ.OccRow3.Occ.Occ_specialist: 0.00\n",
      "P3.Occ.OccRow3.Occ.Occ_employee: 0.00\n",
      "P1.PD.PrevCOR.Row.Count: 0.00\n",
      "p1.SecC.Chd.X.ChdCOB.ForeignerCount: 0.00\n",
      "p1.SecB.ChdMoFaSps.X.ChdCOB.ForeignerCount: 0.00\n",
      "p1.SecB.Chd.X.ChdAccomp.Count: 0.00\n",
      "p1.SecA.ParAccomp.Count: 0.04\n",
      "p1.SecA.Sps.SpsAccomp.Count: 0.01\n",
      "p1.SecC.Chd.X.ChdAccomp.Count: 0.00\n",
      "p1.SecB.Chd.X.ChdRel.ChdCount: 0.00\n",
      "p1.SecC.Chd.X.ChdRel.ChdCount: 0.00\n",
      "p1.SecX.LongDistAddr: 0.02\n",
      "p1.SecX.ForeignAddr: 0.01\n",
      "\n"
     ]
    },
    {
     "name": "stderr",
     "output_type": "stream",
     "text": [
      "[__main__: 10-24 16:16:39] {392} INFO - P1.PD.CurrCOR.Row2.Country: 0.00\n",
      "P1.PD.PrevCOR.Row2.Country: 0.05\n",
      "P1.PD.PrevCOR.Row3.Country: 0.00\n",
      "P3.DOV.PrpsRow1.Funds.Funds: 0.02\n",
      "P3.Edu.Edu_Row1.Country.Country: 0.05\n",
      "P3.Occ.OccRow1.Country.Country: 0.00\n",
      "P3.Occ.OccRow2.Country.Country: 0.00\n",
      "P3.Occ.OccRow3.Country.Country: 0.00\n",
      "P1.PD.DOBYear.Period: 0.08\n",
      "P1.PD.PrevCOR.Row2.Period: 0.00\n",
      "P1.PD.PrevCOR.Row3.Period: 0.00\n",
      "P1.PD.CWA.Row2.Period: 0.02\n",
      "P1.MS.SecA.DateOfMarr.Period: 0.02\n",
      "P2.MS.SecA.Period: 0.05\n",
      "P2.MS.SecA.Psprt.ExpiryDate.Remaining: 0.01\n",
      "P3.DOV.PrpsRow1.HLS.Period: 0.04\n",
      "P3.Edu.Edu_Row1.Period: 0.01\n",
      "P3.Occ.OccRow1.Period: 0.01\n",
      "P3.Occ.OccRow2.Period: 0.00\n",
      "P3.Occ.OccRow3.Period: 0.00\n",
      "p1.SecA.Sps.SpsDOB.Period: 0.04\n",
      "p1.SecA.Mo.MoDOB.Period: 0.02\n",
      "p1.SecA.Fa.FaDOB.Period: 0.01\n",
      "p1.SecB.Chd.[0].ChdDOB.Period: 0.02\n",
      "p1.SecB.Chd.[1].ChdDOB.Period: 0.01\n",
      "p1.SecB.Chd.[2].ChdDOB.Period: 0.00\n",
      "p1.SecB.Chd.[3].ChdDOB.Period: 0.00\n",
      "p1.SecC.Chd.[0].ChdDOB.Period: 0.01\n",
      "p1.SecC.Chd.[1].ChdDOB.Period: 0.00\n",
      "p1.SecC.Chd.[2].ChdDOB.Period: 0.04\n",
      "p1.SecC.Chd.[3].ChdDOB.Period: 0.02\n",
      "p1.SecC.Chd.[4].ChdDOB.Period: 0.00\n",
      "p1.SecC.Chd.[5].ChdDOB.Period: 0.00\n",
      "p1.SecC.Chd.[6].ChdDOB.Period: 0.00\n",
      "p1.SecA.App.ChdMStatus_1: 0.00\n",
      "p1.SecA.App.ChdMStatus_3: 0.00\n",
      "p1.SecA.App.ChdMStatus_5: 0.00\n",
      "p1.SecA.App.ChdMStatus_6: 0.00\n",
      "p1.SecA.App.ChdMStatus_7: 0.00\n",
      "p1.SecA.App.ChdMStatus_8: 0.00\n",
      "p1.SecA.App.ChdMStatus_9: 0.00\n",
      "p1.SecA.Mo.ChdMStatus_1: 0.00\n",
      "p1.SecA.Mo.ChdMStatus_3: 0.00\n",
      "p1.SecA.Mo.ChdMStatus_5: 0.00\n",
      "p1.SecA.Mo.ChdMStatus_6: 0.00\n",
      "p1.SecA.Mo.ChdMStatus_7: 0.00\n",
      "p1.SecA.Mo.ChdMStatus_8: 0.00\n",
      "p1.SecA.Mo.ChdMStatus_9: 0.00\n",
      "p1.SecA.Fa.ChdMStatus_1: 0.00\n",
      "p1.SecA.Fa.ChdMStatus_3: 0.00\n",
      "p1.SecA.Fa.ChdMStatus_5: 0.02\n",
      "p1.SecA.Fa.ChdMStatus_6: 0.00\n",
      "p1.SecA.Fa.ChdMStatus_7: 0.00\n",
      "p1.SecA.Fa.ChdMStatus_8: 0.00\n",
      "p1.SecA.Fa.ChdMStatus_9: 0.00\n",
      "p1.SecB.Chd.[0].ChdMStatus_1: 0.00\n",
      "p1.SecB.Chd.[0].ChdMStatus_3: 0.00\n",
      "p1.SecB.Chd.[0].ChdMStatus_5: 0.00\n",
      "p1.SecB.Chd.[0].ChdMStatus_6: 0.00\n",
      "p1.SecB.Chd.[0].ChdMStatus_7: 0.00\n",
      "p1.SecB.Chd.[0].ChdMStatus_8: 0.00\n",
      "p1.SecB.Chd.[0].ChdMStatus_9: 0.00\n",
      "p1.SecB.Chd.[1].ChdMStatus_1: 0.00\n",
      "p1.SecB.Chd.[1].ChdMStatus_3: 0.00\n",
      "p1.SecB.Chd.[1].ChdMStatus_5: 0.00\n",
      "p1.SecB.Chd.[1].ChdMStatus_6: 0.00\n",
      "p1.SecB.Chd.[1].ChdMStatus_7: 0.00\n",
      "p1.SecB.Chd.[1].ChdMStatus_8: 0.00\n",
      "p1.SecB.Chd.[1].ChdMStatus_9: 0.00\n",
      "p1.SecB.Chd.[2].ChdMStatus_1: 0.00\n",
      "p1.SecB.Chd.[2].ChdMStatus_3: 0.00\n",
      "p1.SecB.Chd.[2].ChdMStatus_5: 0.00\n",
      "p1.SecB.Chd.[2].ChdMStatus_6: 0.00\n",
      "p1.SecB.Chd.[2].ChdMStatus_7: 0.00\n",
      "p1.SecB.Chd.[2].ChdMStatus_8: 0.00\n",
      "p1.SecB.Chd.[2].ChdMStatus_9: 0.00\n",
      "p1.SecB.Chd.[3].ChdMStatus_1: 0.00\n",
      "p1.SecB.Chd.[3].ChdMStatus_3: 0.00\n",
      "p1.SecB.Chd.[3].ChdMStatus_5: 0.00\n",
      "p1.SecB.Chd.[3].ChdMStatus_6: 0.00\n",
      "p1.SecB.Chd.[3].ChdMStatus_7: 0.00\n",
      "p1.SecB.Chd.[3].ChdMStatus_8: 0.00\n",
      "p1.SecB.Chd.[3].ChdMStatus_9: 0.00\n",
      "p1.SecC.Chd.[0].ChdMStatus_1: 0.00\n",
      "p1.SecC.Chd.[0].ChdMStatus_3: 0.00\n",
      "p1.SecC.Chd.[0].ChdMStatus_5: 0.00\n",
      "p1.SecC.Chd.[0].ChdMStatus_6: 0.00\n",
      "p1.SecC.Chd.[0].ChdMStatus_7: 0.00\n",
      "p1.SecC.Chd.[0].ChdMStatus_8: 0.00\n",
      "p1.SecC.Chd.[0].ChdMStatus_9: 0.00\n",
      "p1.SecC.Chd.[1].ChdMStatus_1: 0.00\n",
      "p1.SecC.Chd.[1].ChdMStatus_3: 0.00\n",
      "p1.SecC.Chd.[1].ChdMStatus_5: 0.00\n",
      "p1.SecC.Chd.[1].ChdMStatus_6: 0.00\n",
      "p1.SecC.Chd.[1].ChdMStatus_7: 0.00\n",
      "p1.SecC.Chd.[1].ChdMStatus_8: 0.00\n",
      "p1.SecC.Chd.[1].ChdMStatus_9: 0.01\n",
      "p1.SecC.Chd.[2].ChdMStatus_1: 0.00\n",
      "p1.SecC.Chd.[2].ChdMStatus_3: 0.00\n",
      "p1.SecC.Chd.[2].ChdMStatus_5: 0.00\n",
      "p1.SecC.Chd.[2].ChdMStatus_6: 0.00\n",
      "p1.SecC.Chd.[2].ChdMStatus_7: 0.00\n",
      "p1.SecC.Chd.[2].ChdMStatus_8: 0.00\n",
      "p1.SecC.Chd.[2].ChdMStatus_9: 0.00\n",
      "p1.SecC.Chd.[3].ChdMStatus_1: 0.00\n",
      "p1.SecC.Chd.[3].ChdMStatus_3: 0.00\n",
      "p1.SecC.Chd.[3].ChdMStatus_5: 0.00\n",
      "p1.SecC.Chd.[3].ChdMStatus_6: 0.00\n",
      "p1.SecC.Chd.[3].ChdMStatus_7: 0.00\n",
      "p1.SecC.Chd.[3].ChdMStatus_8: 0.00\n",
      "p1.SecC.Chd.[3].ChdMStatus_9: 0.00\n",
      "p1.SecC.Chd.[4].ChdMStatus_1: 0.00\n",
      "p1.SecC.Chd.[4].ChdMStatus_3: 0.00\n",
      "p1.SecC.Chd.[4].ChdMStatus_5: 0.00\n",
      "p1.SecC.Chd.[4].ChdMStatus_6: 0.00\n",
      "p1.SecC.Chd.[4].ChdMStatus_7: 0.00\n",
      "p1.SecC.Chd.[4].ChdMStatus_8: 0.00\n",
      "p1.SecC.Chd.[4].ChdMStatus_9: 0.00\n",
      "p1.SecC.Chd.[5].ChdMStatus_1: 0.00\n",
      "p1.SecC.Chd.[5].ChdMStatus_3: 0.00\n",
      "p1.SecC.Chd.[5].ChdMStatus_5: 0.02\n",
      "p1.SecC.Chd.[5].ChdMStatus_6: 0.00\n",
      "p1.SecC.Chd.[5].ChdMStatus_7: 0.00\n",
      "p1.SecC.Chd.[5].ChdMStatus_8: 0.00\n",
      "p1.SecC.Chd.[5].ChdMStatus_9: 0.00\n",
      "p1.SecC.Chd.[6].ChdMStatus_1: 0.00\n",
      "p1.SecC.Chd.[6].ChdMStatus_3: 0.00\n",
      "p1.SecC.Chd.[6].ChdMStatus_5: 0.00\n",
      "p1.SecC.Chd.[6].ChdMStatus_6: 0.00\n",
      "p1.SecC.Chd.[6].ChdMStatus_7: 0.00\n",
      "p1.SecC.Chd.[6].ChdMStatus_8: 0.00\n",
      "p1.SecC.Chd.[6].ChdMStatus_9: 0.00\n",
      "P1.PD.AliasName.AliasNameIndicator.AliasNameIndicator_False: 0.00\n",
      "P1.PD.AliasName.AliasNameIndicator.AliasNameIndicator_True: 0.00\n",
      "P1.PD.Sex.Sex_Female: 0.00\n",
      "P1.PD.Sex.Sex_Male: 0.00\n",
      "P1.PD.SameAsCORIndicator_False: 0.00\n",
      "P1.PD.SameAsCORIndicator_True: 0.00\n",
      "P2.MS.SecA.PrevMarrIndicator_False: 0.00\n",
      "P2.MS.SecA.PrevMarrIndicator_True: 0.00\n",
      "P3.Edu.EduIndicator_False: 0.00\n",
      "P3.Edu.EduIndicator_True: 0.00\n",
      "P3.noAuthStay_False: 0.00\n",
      "P3.noAuthStay_True: 0.00\n",
      "P3.refuseDeport_False: 0.01\n",
      "P3.refuseDeport_True: 0.00\n",
      "P3.BGI2.PrevApply_False: 0.03\n",
      "P3.BGI2.PrevApply_True: 0.02\n",
      "P1.PD.CurrCOR.Row2.Status_1: 0.00\n",
      "P1.PD.CurrCOR.Row2.Status_2: 0.00\n",
      "P1.PD.CurrCOR.Row2.Status_3: 0.00\n",
      "P1.PD.CWA.Row2.Status_6: 0.00\n",
      "P1.PD.CWA.Row2.Status_3: 0.02\n",
      "P1.PD.CWA.Row2.Status_1: 0.00\n",
      "P1.PD.CWA.Row2.Country_TURKEY: 0.00\n",
      "P1.PD.CWA.Row2.Country_OTHER: 0.00\n",
      "P1.PD.CWA.Row2.Country_Georgia: 0.00\n",
      "P1.PD.CWA.Row2.Country_UAE: 0.00\n",
      "P1.PD.CWA.Row2.Country_Armenia: 0.00\n",
      "P3.DOV.PrpsRow1.PrpsOfVisit.PrpsOfVisit_family visit: 0.00\n",
      "P3.DOV.PrpsRow1.PrpsOfVisit.PrpsOfVisit_tourism: 0.00\n",
      "P3.DOV.PrpsRow1.PrpsOfVisit.PrpsOfVisit_visit: 0.00\n",
      "P3.DOV.PrpsRow1.PrpsOfVisit.PrpsOfVisit_other: 0.00\n",
      "P3.DOV.PrpsRow1.PrpsOfVisit.PrpsOfVisit_business: 0.00\n",
      "P3.DOV.cntcts_Row1.RelationshipToMe.RelationshipToMe_f1: 0.00\n",
      "P3.DOV.cntcts_Row1.RelationshipToMe.RelationshipToMe_f2: 0.00\n",
      "P3.DOV.cntcts_Row1.RelationshipToMe.RelationshipToMe_friend: 0.00\n",
      "P3.DOV.cntcts_Row1.RelationshipToMe.RelationshipToMe_hotel: 0.05\n",
      "P3.DOV.cntcts_Row1.RelationshipToMe.RelationshipToMe_ukn: 0.01\n",
      "P3.DOV.cntcts_Row1.RelationshipToMe.RelationshipToMe_work: 0.00\n",
      "P3.cntcts_Row2.Relationship.RelationshipToMe_f1: 0.00\n",
      "P3.cntcts_Row2.Relationship.RelationshipToMe_f2: 0.00\n",
      "P3.cntcts_Row2.Relationship.RelationshipToMe_friend: 0.00\n",
      "P3.cntcts_Row2.Relationship.RelationshipToMe_hotel: 0.01\n",
      "P3.cntcts_Row2.Relationship.RelationshipToMe_ukn: 0.00\n",
      "P3.Edu.Edu_Row1.FieldOfStudy_unedu: 0.00\n",
      "P3.Edu.Edu_Row1.FieldOfStudy_master: 0.00\n",
      "P3.Edu.Edu_Row1.FieldOfStudy_bachelor: 0.02\n",
      "P3.Edu.Edu_Row1.FieldOfStudy_phd: 0.00\n",
      "P3.Edu.Edu_Row1.FieldOfStudy_apprentice: 0.00\n",
      "P3.Edu.Edu_Row1.FieldOfStudy_diploma: 0.00\n",
      "p1.SecB.Chd.[0].ChdRel_son: 0.03\n",
      "p1.SecB.Chd.[0].ChdRel_daughter: 0.03\n",
      "p1.SecB.Chd.[0].ChdRel_other: 0.00\n",
      "p1.SecB.Chd.[1].ChdRel_son: 0.00\n",
      "p1.SecB.Chd.[1].ChdRel_daughter: 0.00\n",
      "p1.SecB.Chd.[1].ChdRel_other: 0.00\n",
      "p1.SecB.Chd.[2].ChdRel_son: 0.00\n",
      "p1.SecB.Chd.[2].ChdRel_daughter: 0.00\n",
      "p1.SecB.Chd.[2].ChdRel_other: 0.00\n",
      "p1.SecB.Chd.[3].ChdRel_son: 0.00\n",
      "p1.SecB.Chd.[3].ChdRel_daughter: 0.00\n",
      "p1.SecB.Chd.[3].ChdRel_other: 0.00\n",
      "p1.SecC.Chd.[0].ChdRel_brother: 0.02\n",
      "p1.SecC.Chd.[0].ChdRel_sister: 0.00\n",
      "p1.SecC.Chd.[0].ChdRel_other: 0.00\n",
      "p1.SecC.Chd.[1].ChdRel_brother: 0.01\n",
      "p1.SecC.Chd.[1].ChdRel_sister: 0.01\n",
      "p1.SecC.Chd.[1].ChdRel_other: 0.00\n",
      "p1.SecC.Chd.[2].ChdRel_brother: 0.00\n",
      "p1.SecC.Chd.[2].ChdRel_sister: 0.00\n",
      "p1.SecC.Chd.[2].ChdRel_other: 0.00\n",
      "p1.SecC.Chd.[3].ChdRel_brother: 0.00\n",
      "p1.SecC.Chd.[3].ChdRel_sister: 0.01\n",
      "p1.SecC.Chd.[3].ChdRel_other: 0.00\n",
      "p1.SecC.Chd.[4].ChdRel_brother: 0.00\n",
      "p1.SecC.Chd.[4].ChdRel_sister: 0.00\n",
      "p1.SecC.Chd.[4].ChdRel_other: 0.00\n",
      "p1.SecC.Chd.[5].ChdRel_brother: 0.00\n",
      "p1.SecC.Chd.[5].ChdRel_sister: 0.00\n",
      "p1.SecC.Chd.[5].ChdRel_other: 0.00\n",
      "p1.SecC.Chd.[6].ChdRel_brother: 0.00\n",
      "p1.SecC.Chd.[6].ChdRel_sister: 0.00\n",
      "p1.SecC.Chd.[6].ChdRel_other: 0.00\n",
      "P3.Occ.OccRow1.Occ.Occ_student: 0.00\n",
      "P3.Occ.OccRow1.Occ.Occ_housewife: 0.00\n",
      "P3.Occ.OccRow1.Occ.Occ_retired: 0.00\n",
      "P3.Occ.OccRow1.Occ.Occ_OTHER: 0.00\n",
      "P3.Occ.OccRow1.Occ.Occ_manager: 0.01\n",
      "P3.Occ.OccRow1.Occ.Occ_specialist: 0.00\n",
      "P3.Occ.OccRow1.Occ.Occ_employee: 0.00\n",
      "P3.Occ.OccRow2.Occ.Occ_student: 0.02\n",
      "P3.Occ.OccRow2.Occ.Occ_housewife: 0.00\n",
      "P3.Occ.OccRow2.Occ.Occ_retired: 0.00\n",
      "P3.Occ.OccRow2.Occ.Occ_OTHER: 0.00\n",
      "P3.Occ.OccRow2.Occ.Occ_manager: 0.00\n",
      "P3.Occ.OccRow2.Occ.Occ_specialist: 0.00\n",
      "P3.Occ.OccRow2.Occ.Occ_employee: 0.00\n",
      "P3.Occ.OccRow3.Occ.Occ_student: 0.00\n",
      "P3.Occ.OccRow3.Occ.Occ_housewife: 0.00\n",
      "P3.Occ.OccRow3.Occ.Occ_retired: 0.00\n",
      "P3.Occ.OccRow3.Occ.Occ_OTHER: 0.00\n",
      "P3.Occ.OccRow3.Occ.Occ_manager: 0.02\n",
      "P3.Occ.OccRow3.Occ.Occ_specialist: 0.00\n",
      "P3.Occ.OccRow3.Occ.Occ_employee: 0.00\n",
      "P1.PD.PrevCOR.Row.Count: 0.00\n",
      "p1.SecC.Chd.X.ChdCOB.ForeignerCount: 0.00\n",
      "p1.SecB.ChdMoFaSps.X.ChdCOB.ForeignerCount: 0.00\n",
      "p1.SecB.Chd.X.ChdAccomp.Count: 0.00\n",
      "p1.SecA.ParAccomp.Count: 0.04\n",
      "p1.SecA.Sps.SpsAccomp.Count: 0.01\n",
      "p1.SecC.Chd.X.ChdAccomp.Count: 0.00\n",
      "p1.SecB.Chd.X.ChdRel.ChdCount: 0.00\n",
      "p1.SecC.Chd.X.ChdRel.ChdCount: 0.00\n",
      "p1.SecX.LongDistAddr: 0.02\n",
      "p1.SecX.ForeignAddr: 0.01\n",
      "\n"
     ]
    },
    {
     "name": "stdout",
     "output_type": "stream",
     "text": [
      "[__main__: 10-24 16:16:39] {399} INFO - Best FLAML model: XGBClassifier(base_score=0.5, booster='gbtree',\n",
      "              colsample_bylevel=0.804388646793182, colsample_bynode=1,\n",
      "              colsample_bytree=1.0, gamma=0, gpu_id=-1, grow_policy='lossguide',\n",
      "              importance_type='gain', interaction_constraints='',\n",
      "              learning_rate=0.5892722506669729, max_delta_step=0, max_depth=0,\n",
      "              max_leaves=11, min_child_weight=0.23904607240199677, missing=nan,\n",
      "              monotone_constraints='()', n_estimators=33, n_jobs=-1,\n",
      "              num_parallel_tree=1, random_state=0,\n",
      "              reg_alpha=0.0016469991740555498, reg_lambda=0.988826446648512,\n",
      "              scale_pos_weight=1, subsample=0.9180402707612114,\n",
      "              tree_method='hist', use_label_encoder=False,\n",
      "              validate_parameters=1, verbosity=0)\n"
     ]
    },
    {
     "name": "stderr",
     "output_type": "stream",
     "text": [
      "[__main__: 10-24 16:16:39] {399} INFO - Best FLAML model: XGBClassifier(base_score=0.5, booster='gbtree',\n",
      "              colsample_bylevel=0.804388646793182, colsample_bynode=1,\n",
      "              colsample_bytree=1.0, gamma=0, gpu_id=-1, grow_policy='lossguide',\n",
      "              importance_type='gain', interaction_constraints='',\n",
      "              learning_rate=0.5892722506669729, max_delta_step=0, max_depth=0,\n",
      "              max_leaves=11, min_child_weight=0.23904607240199677, missing=nan,\n",
      "              monotone_constraints='()', n_estimators=33, n_jobs=-1,\n",
      "              num_parallel_tree=1, random_state=0,\n",
      "              reg_alpha=0.0016469991740555498, reg_lambda=0.988826446648512,\n",
      "              scale_pos_weight=1, subsample=0.9180402707612114,\n",
      "              tree_method='hist', use_label_encoder=False,\n",
      "              validate_parameters=1, verbosity=0)\n"
     ]
    },
    {
     "name": "stdout",
     "output_type": "stream",
     "text": [
      "[__main__: 10-24 16:16:39] {406} INFO - accuracy score: 0.83\n",
      "log_loss loss: 5.76\n",
      "f1 score: 0.88\n",
      "roc_auc score: 0.89\n",
      "\n"
     ]
    },
    {
     "name": "stderr",
     "output_type": "stream",
     "text": [
      "[__main__: 10-24 16:16:39] {406} INFO - accuracy score: 0.83\n",
      "log_loss loss: 5.76\n",
      "f1 score: 0.88\n",
      "roc_auc score: 0.89\n",
      "\n"
     ]
    },
    {
     "name": "stdout",
     "output_type": "stream",
     "text": [
      "[__main__: 10-24 16:16:39] {412} INFO - \t\t↑↑↑ Finished loading training config and training estimators ↑↑↑\n"
     ]
    },
    {
     "name": "stderr",
     "output_type": "stream",
     "text": [
      "[__main__: 10-24 16:16:39] {412} INFO - \t\t↑↑↑ Finished loading training config and training estimators ↑↑↑\n"
     ]
    },
    {
     "name": "stdout",
     "output_type": "stream",
     "text": [
      "[__main__: 10-24 16:16:39] {414} INFO - \t\t↓↓↓ Starting loading evaluation config and evaluating estimators ↓↓↓\n"
     ]
    },
    {
     "name": "stderr",
     "output_type": "stream",
     "text": [
      "[__main__: 10-24 16:16:39] {414} INFO - \t\t↓↓↓ Starting loading evaluation config and evaluating estimators ↓↓↓\n"
     ]
    },
    {
     "name": "stdout",
     "output_type": "stream",
     "text": [
      "[__main__: 10-24 16:16:39] {416} INFO - \t\t↑↑↑ Finished loading evaluation config and evaluating estimators ↑↑↑\n"
     ]
    },
    {
     "name": "stderr",
     "output_type": "stream",
     "text": [
      "[__main__: 10-24 16:16:39] {416} INFO - \t\t↑↑↑ Finished loading evaluation config and evaluating estimators ↑↑↑\n"
     ]
    },
    {
     "name": "stdout",
     "output_type": "stream",
     "text": [
      "[__main__: 10-24 16:16:39] {418} INFO - \t\t↓↓↓ Starting saving good weights ↓↓↓\n"
     ]
    },
    {
     "name": "stderr",
     "output_type": "stream",
     "text": [
      "[__main__: 10-24 16:16:39] {418} INFO - \t\t↓↓↓ Starting saving good weights ↓↓↓\n"
     ]
    },
    {
     "name": "stdout",
     "output_type": "stream",
     "text": [
      "[__main__: 10-24 16:16:39] {420} INFO - \t\t↑↑↑ Finished saving good weights ↑↑↑\n"
     ]
    },
    {
     "name": "stderr",
     "output_type": "stream",
     "text": [
      "[__main__: 10-24 16:16:39] {420} INFO - \t\t↑↑↑ Finished saving good weights ↑↑↑\n"
     ]
    },
    {
     "name": "stdout",
     "output_type": "stream",
     "text": [
      "[__main__: 10-24 16:16:39] {422} INFO - \t\t↓↓↓ Starting logging preview of results and other stuff ↓↓↓\n"
     ]
    },
    {
     "name": "stderr",
     "output_type": "stream",
     "text": [
      "[__main__: 10-24 16:16:39] {422} INFO - \t\t↓↓↓ Starting logging preview of results and other stuff ↓↓↓\n"
     ]
    },
    {
     "name": "stdout",
     "output_type": "stream",
     "text": [
      "[__main__: 10-24 16:16:39] {424} INFO - \t\t↑↑↑ Finished logging preview of results and other stuff ↑↑↑\n"
     ]
    },
    {
     "name": "stderr",
     "output_type": "stream",
     "text": [
      "[__main__: 10-24 16:16:39] {424} INFO - \t\t↑↑↑ Finished logging preview of results and other stuff ↑↑↑\n"
     ]
    },
    {
     "name": "stdout",
     "output_type": "stream",
     "text": [
      "[__main__: 10-24 16:16:39] {446} INFO - \t\t↓↓↓ Starting logging hyperparams and params with MLFlow ↓↓↓\n"
     ]
    },
    {
     "name": "stderr",
     "output_type": "stream",
     "text": [
      "[__main__: 10-24 16:16:39] {446} INFO - \t\t↓↓↓ Starting logging hyperparams and params with MLFlow ↓↓↓\n"
     ]
    },
    {
     "name": "stdout",
     "output_type": "stream",
     "text": [
      "[__main__: 10-24 16:16:39] {447} INFO - Log global params\n"
     ]
    },
    {
     "name": "stderr",
     "output_type": "stream",
     "text": [
      "[__main__: 10-24 16:16:39] {447} INFO - Log global params\n"
     ]
    },
    {
     "name": "stdout",
     "output_type": "stream",
     "text": [
      "[__main__: 10-24 16:16:39] {456} INFO - Log EDA data params as MLflow params...\n"
     ]
    },
    {
     "name": "stderr",
     "output_type": "stream",
     "text": [
      "[__main__: 10-24 16:16:39] {456} INFO - Log EDA data params as MLflow params...\n"
     ]
    },
    {
     "name": "stdout",
     "output_type": "stream",
     "text": [
      "[__main__: 10-24 16:16:39] {464} INFO - Log Snorkel `LabelModel` params as MLflow params...\n"
     ]
    },
    {
     "name": "stderr",
     "output_type": "stream",
     "text": [
      "[__main__: 10-24 16:16:39] {464} INFO - Log Snorkel `LabelModel` params as MLflow params...\n"
     ]
    },
    {
     "name": "stdout",
     "output_type": "stream",
     "text": [
      "[__main__: 10-24 16:16:39] {469} INFO - Log `FLAML` `AutoML` params as MLflow params...\n"
     ]
    },
    {
     "name": "stderr",
     "output_type": "stream",
     "text": [
      "[__main__: 10-24 16:16:39] {469} INFO - Log `FLAML` `AutoML` params as MLflow params...\n"
     ]
    },
    {
     "name": "stdout",
     "output_type": "stream",
     "text": [
      "[__main__: 10-24 16:16:39] {472} INFO - Log modeling preprocessed params as MLflow params...\n"
     ]
    },
    {
     "name": "stderr",
     "output_type": "stream",
     "text": [
      "[__main__: 10-24 16:16:39] {472} INFO - Log modeling preprocessed params as MLflow params...\n"
     ]
    },
    {
     "name": "stdout",
     "output_type": "stream",
     "text": [
      "[__main__: 10-24 16:16:39] {481} INFO - \t\t↑↑↑ Finished logging hyperparams and params with MLFlow ↑↑↑\n"
     ]
    },
    {
     "name": "stderr",
     "output_type": "stream",
     "text": [
      "[__main__: 10-24 16:16:39] {481} INFO - \t\t↑↑↑ Finished logging hyperparams and params with MLFlow ↑↑↑\n"
     ]
    }
   ],
   "source": [
    "# core\n",
    "import pandas as pd\n",
    "import torch\n",
    "# ours: snorkel\n",
    "from vizard.snorkel import LABEL_MODEL_CONFIGS\n",
    "from vizard.snorkel import labeling\n",
    "from vizard.snorkel import modeling\n",
    "from vizard.snorkel import augmentation\n",
    "from vizard.snorkel import slicing\n",
    "from vizard.snorkel import PandasLFApplier\n",
    "from vizard.snorkel import PandasTFApplier\n",
    "from vizard.snorkel import PandasSFApplier\n",
    "from vizard.snorkel import LFAnalysis\n",
    "from vizard.snorkel import LabelModel\n",
    "from vizard.snorkel import ApplyAllPolicy\n",
    "from vizard.snorkel import Scorer\n",
    "from vizard.snorkel import preview_tfs\n",
    "from vizard.snorkel import slice_dataframe\n",
    "# ours: models\n",
    "from vizard.models import preprocessors\n",
    "from vizard.models import trainers\n",
    "# ours: helpers\n",
    "from vizard.version import VERSION as VIZARD_VERSION\n",
    "from vizard.utils.dtreeviz import FLAMLDTreeViz\n",
    "from vizard.configs import JsonConfigHandler\n",
    "from vizard.utils import loggers\n",
    "# devops\n",
    "import dvc.api\n",
    "import mlflow\n",
    "# helpers\n",
    "from typing import Any, Tuple\n",
    "from pathlib import Path\n",
    "import enlighten\n",
    "import logging\n",
    "import pickle\n",
    "import shutil\n",
    "import sys\n",
    "\n",
    "# globals\n",
    "SEED = 58\n",
    "VERBOSE = logging.DEBUG\n",
    "DEVICE = 'cuda'\n",
    "\n",
    "# configure MLFlow tracking remote server\n",
    "#  see `mlflow-server.sh` for port and hostname. Since\n",
    "#  we are running locally, we can use the default values.\n",
    "mlflow.set_tracking_uri('http://0.0.0.0:5000')\n",
    "\n",
    "# Set up root logger, and add a file handler to root logger\n",
    "MLFLOW_ARTIFACTS_BASE_PATH: Path = Path('artifacts')\n",
    "if MLFLOW_ARTIFACTS_BASE_PATH.exists():\n",
    "    shutil.rmtree(MLFLOW_ARTIFACTS_BASE_PATH)\n",
    "# set libs to log to our logging config\n",
    "__libs = ['snorkel', 'vizard', 'flaml']\n",
    "logger = loggers.Logger(\n",
    "    name=__name__,\n",
    "    level=VERBOSE,\n",
    "    mlflow_artifacts_base_path=MLFLOW_ARTIFACTS_BASE_PATH,\n",
    "    libs=__libs\n",
    ")\n",
    "# logging: setup progress bar\n",
    "manager = enlighten.get_manager(sys.stderr)\n",
    "\n",
    "# internal config handler\n",
    "config_handler = JsonConfigHandler()\n",
    "\n",
    "try:\n",
    "    logger.create_artifact_instance()\n",
    "    logger.info('\\t\\t↓↓↓ Starting setting up configs: dirs, mlflow, dvc, etc ↓↓↓')\n",
    "    # main path\n",
    "    SRC_DIR = '/mnt/e/dataset/processed/all/'  # path to source encrypted pdf\n",
    "    DST_DIR = 'raw-dataset/all/'  # path to decrypted pdf\n",
    "\n",
    "    # data versioning config\n",
    "    PATH = DST_DIR[:-1] + '-dev.pkl'  # path to source data, e.g. data.pkl file\n",
    "    REPO = '/home/nik/visaland-visa-form-utility'\n",
    "    VERSION = 'v1.2.5-dev'  # use the latest EDA version (i.e. `vx.x.x-dev`)\n",
    "\n",
    "    # log experiment configs\n",
    "    MLFLOW_EXPERIMENT_NAME = f'shapash - {VIZARD_VERSION}'\n",
    "    mlflow.set_experiment(MLFLOW_EXPERIMENT_NAME)\n",
    "    mlflow.start_run()\n",
    "\n",
    "    logger.info(f'MLflow experiment name: {MLFLOW_EXPERIMENT_NAME}')\n",
    "    logger.info(f'MLflow experiment id: {mlflow.active_run().info.run_id}')\n",
    "    logger.info(f'DVC data version: {VERSION}')\n",
    "    logger.info(f'DVC repo (root): {REPO}')\n",
    "    logger.info(f'DVC data source path: {PATH}')\n",
    "    logger.info('\\t\\t↑↑↑ Finished setting up configs: dirs, mlflow, and dvc. ↑↑↑')\n",
    "\n",
    "    logger.info('\\t\\t↓↓↓ Starting loading preprocessed (EDA) data from DVC ↓↓↓')\n",
    "    # get url data from DVC data storage\n",
    "    data_url = dvc.api.get_url(path=PATH, repo=REPO, rev=VERSION)\n",
    "    # read dataset from remote (local) data storage\n",
    "    data = pd.read_pickle(data_url)\n",
    "\n",
    "    # get a copy of all data for extracting all categories for normalization\n",
    "    #   for more information, see: issues #67 and #58\n",
    "    data_all = data.copy(deep=True)\n",
    "\n",
    "    logger.info(f'preprocessed data in raw PATH={PATH}'\n",
    "                f' with VERSION={VERSION},\\n'\n",
    "                f'loaded from DVC storage at {data_url}.')\n",
    "    logger.info('\\t\\t↑↑↑ Finished loading preprocessed (EDA) data from DVC ↑↑↑')\n",
    "\n",
    "    # using snorkel for weak supervision to label the data\n",
    "    logger.info('\\t\\t↓↓↓ Starting labeling data with snorkel ↓↓↓')\n",
    "    logger.info('prepare data by separating already labeled (`acc` and `rej`)'\n",
    "                ' from weak and unlabeled data (`w-acc`, `w-rej` and `no idea`)')\n",
    "    output_name = 'VisaResult'\n",
    "    # for training the snorkel label model\n",
    "    data_unlabeled = data[(data[output_name] != 'acc') &\n",
    "                    (data[output_name] != 'rej')].copy()\n",
    "    # for testing the snorkel label model\n",
    "    data_labeled = data[(data[output_name] == 'acc') |\n",
    "                    (data[output_name] == 'rej')].copy()\n",
    "    logger.info(f'shape of unlabeled data: {data_unlabeled.shape}')\n",
    "    logger.info(f'shape of labeled unlabeled data: {data_labeled.shape}')\n",
    "    # convert strong to weak temporary to `lf_weak_*` so `LabelFunction`s'\n",
    "    #   can work i.e. convert `acc` and `rej` in *labeled* dataset to `w-acc` and `w-rej`'\n",
    "    data_labeled[output_name] = data_labeled[output_name].apply(\n",
    "        lambda x: 'w-acc' if x == 'acc' else 'w-rej')\n",
    "    \n",
    "    logger.info('\\t↓↓↓ Starting extracting label matrices (L) by applying `LabelFunction`s ↓↓↓')\n",
    "    # labeling functions\n",
    "    lf_compose = [\n",
    "        labeling.WeakAccept(),\n",
    "        labeling.WeakReject(),\n",
    "        labeling.NoIdea(),\n",
    "    ]\n",
    "    lfs = labeling.ComposeLFLabeling(labelers=lf_compose)()\n",
    "    applier = PandasLFApplier(lfs)\n",
    "    # apply LFs to the unlabeled (for `LabelModel` training) and labeled (for `LabelModel` test)\n",
    "    label_matrix_train = applier.apply(data_unlabeled)\n",
    "    # Remark: only should be used for evaluation of trained `LabelModel` and no where else\n",
    "    label_matrix_test = applier.apply(data_labeled)\n",
    "\n",
    "    y_test = data_labeled[output_name].apply(\n",
    "        lambda x: labeling.ACC if x == 'w-acc' else labeling.REJ).values\n",
    "    y_train = data_unlabeled[output_name].apply(\n",
    "        lambda x: labeling.ACC if x == 'w-acc' else labeling.REJ).values\n",
    "    # LF reports\n",
    "    logger.info(LFAnalysis(L=label_matrix_train, lfs=lfs).lf_summary())\n",
    "    logger.info('\\t↑↑↑ Finishing extracting label matrices (L) by applying `LabelFunction`s ↑↑↑')\n",
    "    \n",
    "    logger.info('\\t↓↓↓ Starting training `LabelModel` ↓↓↓')\n",
    "    # train the label model and compute the training labels\n",
    "    label_model_args = config_handler.parse(\n",
    "        filename=LABEL_MODEL_CONFIGS,\n",
    "        target='LabelModel'\n",
    "    )\n",
    "    config_handler.as_mlflow_artifact(\n",
    "        logger.MLFLOW_ARTIFACTS_CONFIGS_PATH\n",
    "    )\n",
    "    logger.info(f'Training using device=\"{DEVICE}\"')\n",
    "    label_model = LabelModel(\n",
    "        **label_model_args['method_init'],\n",
    "        verbose=True,\n",
    "        device=DEVICE\n",
    "    )\n",
    "    label_model.train()\n",
    "    label_model.fit(\n",
    "        label_matrix_train,\n",
    "        **label_model_args['method_fit'],\n",
    "        seed=SEED\n",
    "    )\n",
    "    logger.info('\\t↑↑↑ Finished training LabelModel ↑↑↑')\n",
    "    \n",
    "    logger.info('\\t↓↓↓ Starting inference on LabelModel ↓↓↓')\n",
    "    # test the label model\n",
    "    with torch.inference_mode():\n",
    "        # predict labels for unlabeled data\n",
    "        label_model.eval()\n",
    "        auto_label_column_name = 'AL'\n",
    "        logger.info(f'ModelLabel prediction is saved in \"{auto_label_column_name}\" column.')\n",
    "        data_unlabeled.loc[:, auto_label_column_name] = label_model.predict(\n",
    "            L=label_matrix_train,\n",
    "            tie_break_policy='abstain'\n",
    "        )\n",
    "        # report train accuracy (train data here is our unlabeled data)\n",
    "        metrics = ['accuracy', 'coverage', 'precision', 'recall', 'f1']\n",
    "        modeling.report_label_model(\n",
    "            label_model=label_model,\n",
    "            label_matrix=label_matrix_train,\n",
    "            gold_labels=y_train,\n",
    "            metrics=metrics,\n",
    "            set='train'\n",
    "        )\n",
    "        # report test accuracy (test data here is our labeled data which is larger (good!))\n",
    "        label_model_metrics = modeling.report_label_model(\n",
    "            label_model=label_model,\n",
    "            label_matrix=label_matrix_test,\n",
    "            gold_labels=y_test,\n",
    "            metrics=metrics,\n",
    "            set='test'\n",
    "        )\n",
    "        \n",
    "        for m in metrics:\n",
    "            mlflow.log_metric(\n",
    "                key=f'SnorkelLabelModel_{m}',\n",
    "                value=label_model_metrics[m]\n",
    "            )\n",
    "    logger.info('\\t↑↑↑ Finishing inference on LabelModel ↑↑↑')\n",
    "    # merge unlabeled data into all data\n",
    "    data_unlabeled[auto_label_column_name] = data_unlabeled[auto_label_column_name].apply(\n",
    "        lambda x: 'acc' if x == labeling.ACC else \n",
    "        'rej' if x == labeling.REJ else 'no idea')\n",
    "    data.loc[data_unlabeled.index, [output_name]] = data_unlabeled[auto_label_column_name]\n",
    "    data[output_name] = data[output_name].astype('object').astype('category')\n",
    "    logger.info('\\t\\t↑↑↑ Finished labeling data with snorkel ↑↑↑')\n",
    "\n",
    "    # split to train and test to only augment train set\n",
    "    pandas_train_test_splitter = preprocessors.PandasTrainTestSplit(\n",
    "        random_state=SEED\n",
    "    )\n",
    "    data_tuple: Tuple[Any, ...] = pandas_train_test_splitter(\n",
    "        df=data,\n",
    "        target_column=output_name\n",
    "    )\n",
    "    data_train: pd.DataFrame = data_tuple[0]\n",
    "    data_test: pd.DataFrame = data_tuple[1]\n",
    "    data = data_train\n",
    "    # dump json config into artifacts\n",
    "    pandas_train_test_splitter.as_mlflow_artifact(\n",
    "        logger.MLFLOW_ARTIFACTS_CONFIGS_PATH\n",
    "    )\n",
    "\n",
    "    logger.info('\\t\\t↓↓↓ Starting augmentation via snorkel (TFs) ↓↓↓')\n",
    "    # transformation functions\n",
    "    tf_compose = [\n",
    "        augmentation.AddNormalNoiseDOBYear(dataframe=data),\n",
    "        augmentation.AddNormalNoiseChildDOBX(dataframe=data, row=0),\n",
    "        augmentation.AddNormalNoiseChildDOBX(dataframe=data, row=1),\n",
    "        augmentation.AddNormalNoiseChildDOBX(dataframe=data, row=2),\n",
    "        augmentation.AddNormalNoiseChildDOBX(dataframe=data, row=3),\n",
    "        augmentation.AddNormalNoiseDateOfMarr(dataframe=data),\n",
    "        augmentation.AddNormalNoiseOccRowXPeriod(dataframe=data, row=1),\n",
    "        augmentation.AddNormalNoiseOccRowXPeriod(dataframe=data, row=2),\n",
    "        augmentation.AddNormalNoiseOccRowXPeriod(dataframe=data, row=3),\n",
    "        augmentation.AddNormalNoiseHLS(dataframe=data),\n",
    "        augmentation.AddCategoricalNoiseChildRelX(dataframe=data, row=0),\n",
    "        augmentation.AddCategoricalNoiseChildRelX(dataframe=data, row=1),\n",
    "        augmentation.AddCategoricalNoiseChildRelX(dataframe=data, row=2),\n",
    "        augmentation.AddCategoricalNoiseChildRelX(dataframe=data, row=3),\n",
    "        augmentation.AddCategoricalNoiseSiblingRelX(dataframe=data, row=0),\n",
    "        augmentation.AddCategoricalNoiseSiblingRelX(dataframe=data, row=1),\n",
    "        augmentation.AddCategoricalNoiseSiblingRelX(dataframe=data, row=2),\n",
    "        augmentation.AddCategoricalNoiseSiblingRelX(dataframe=data, row=3),\n",
    "        augmentation.AddCategoricalNoiseSiblingRelX(dataframe=data, row=4),\n",
    "        augmentation.AddCategoricalNoiseSiblingRelX(dataframe=data, row=5),\n",
    "        augmentation.AddCategoricalNoiseSiblingRelX(dataframe=data, row=6),\n",
    "        augmentation.AddCategoricalNoiseSex(dataframe=data),\n",
    "        augmentation.AddOrderedNoiseChdAccomp(dataframe=data, sec='B'),\n",
    "        augmentation.AddOrderedNoiseChdAccomp(dataframe=data, sec='C')\n",
    "    ]\n",
    "    tfs = augmentation.ComposeTFAugmentation(augments=tf_compose)()  # type: ignore\n",
    "    # define policy for applying TFs\n",
    "    all_policy = ApplyAllPolicy(\n",
    "        n_tfs=len(tfs), #sequence_length=len(tfs),\n",
    "        n_per_original=1,  # TODO: #20\n",
    "        keep_original=True\n",
    "    )\n",
    "    # apply TFs to all data (labels are not used, so no worries currently)\n",
    "    tf_applier = PandasTFApplier(tfs, all_policy)\n",
    "    data_augmented = tf_applier.apply(data)\n",
    "    # TF reports\n",
    "    logger.info(f'Original dataset size: {len(data)}')\n",
    "    logger.info(f'Augmented dataset size: {len(data_augmented)}')\n",
    "    logger.info('\\t\\t↑↑↑ Finishing augmentation via snorkel (TFs) ↑↑↑')\n",
    "\n",
    "    logger.info('\\t\\t↓↓↓ Starting slicing by snorkel (SFs) ↓↓↓')\n",
    "    # slicing functions\n",
    "    sf_compose = [\n",
    "        slicing.SinglePerson(),\n",
    "    ]\n",
    "    sfs = slicing.ComposeSFSlicing(slicers=sf_compose)()\n",
    "    single_person_slice = slice_dataframe(data_augmented, sfs[0])\n",
    "    logger.info(single_person_slice.sample(5))\n",
    "    sf_applier = PandasSFApplier(sfs)\n",
    "    data_augmented_sliced = sf_applier.apply(data_augmented)\n",
    "    scorer = Scorer(metrics=metrics)\n",
    "    # TODO: use slicing `scorer` only for `test` set\n",
    "    # logger.info(scorer.score_slices(S=S_test, golds=Y_test,\n",
    "    #             preds=preds_test, probs=probs_test, as_dataframe=True))\n",
    "    logger.info('\\t\\t↑↑↑ Finishing slicing by snorkel (SFs) ↑↑↑')\n",
    "\n",
    "    logger.info('\\t\\t↓↓↓ Starting preprocessing on directly DVC `vX.X.X-dev` data ↓↓↓')\n",
    "    # TODO: add preprocessing steps here\n",
    "\n",
    "    # change dtype of augmented data to be as original data\n",
    "    data_augmented = data_augmented.astype(data.dtypes)\n",
    "    # use augmented data from now on\n",
    "    data = data_augmented\n",
    "    # move the dependent variable to the end of the dataframe\n",
    "    data = preprocessors.move_dependent_variable_to_end(\n",
    "        df=data,\n",
    "        target_column=output_name\n",
    "    )\n",
    "\n",
    "    # convert to np and split to train, test, eval\n",
    "    y_train = data[output_name].to_numpy()\n",
    "    x_train = data.drop(columns=[output_name], inplace=False).to_numpy()\n",
    "    train_test_eval_splitter = preprocessors.TrainTestEvalSplit(\n",
    "        random_state=SEED\n",
    "    )\n",
    "    data_tuple = train_test_eval_splitter(\n",
    "        df=data_test,\n",
    "        target_column=output_name\n",
    "    )\n",
    "    x_test, x_eval, y_test, y_eval = data_tuple\n",
    "    # dump json config into artifacts\n",
    "    train_test_eval_splitter.as_mlflow_artifact(\n",
    "        logger.MLFLOW_ARTIFACTS_CONFIGS_PATH\n",
    "    )\n",
    "\n",
    "    # Transform and normalize appropriately given config\n",
    "    x_column_transformers_config = preprocessors.ColumnTransformerConfig()\n",
    "    x_column_transformers_config.set_configs(\n",
    "        preprocessors.CANADA_COLUMN_TRANSFORMER_CONFIG_X\n",
    "    )\n",
    "    # dump json config into artifacts\n",
    "    x_column_transformers_config.as_mlflow_artifact(\n",
    "        logger.MLFLOW_ARTIFACTS_CONFIGS_PATH\n",
    "    )\n",
    "\n",
    "    x_ct = preprocessors.ColumnTransformer(\n",
    "        transformers=x_column_transformers_config.generate_pipeline(\n",
    "            df=data,\n",
    "            df_all=data_all\n",
    "        ),\n",
    "        remainder='passthrough',\n",
    "        verbose=False,\n",
    "        verbose_feature_names_out=False,\n",
    "        n_jobs=None,\n",
    "    )\n",
    "    y_ct = preprocessors.LabelBinarizer()\n",
    "    # fit and transform on train data\n",
    "    xt_train = x_ct.fit_transform(x_train)  # TODO: see #41, #42\n",
    "    yt_train = y_ct.fit_transform(y_train)  # TODO: see #47, #42\n",
    "    # save the fitted transforms as artifacts for later use\n",
    "    with open(\n",
    "        logger.MLFLOW_ARTIFACTS_MODELS_PATH / 'train_sklearn_column_transfer.pkl', 'wb'\n",
    "        ) as f:\n",
    "        pickle.dump(x_ct, f, pickle.HIGHEST_PROTOCOL)\n",
    "    # transform on eval data\n",
    "    xt_eval = x_ct.transform(x_eval)\n",
    "    yt_eval = y_ct.transform(y_eval)\n",
    "    # transform on test data\n",
    "    xt_test = x_ct.transform(x_test)\n",
    "    yt_test = y_ct.transform(y_test)\n",
    "\n",
    "    # preview the transformed data\n",
    "    preview_ct = preprocessors.preview_column_transformer(\n",
    "        column_transformer=x_ct,\n",
    "        original=x_train,\n",
    "        transformed=xt_train,\n",
    "        df=data,\n",
    "        random_state=SEED,\n",
    "        n_samples=1\n",
    "    )\n",
    "    logger.info([_ for _ in preview_ct])\n",
    "    logger.info('\\t\\t↑↑↑ Finished preprocessing on directly DVC `vX.X.X-dev` data ↑↑↑')\n",
    "\n",
    "    logger.info('\\t\\t↓↓↓ Starting defining estimators models ↓↓↓')\n",
    "    # TODO: add estimators definition here\n",
    "    logger.info('\\t\\t↑↑↑ Finished defining estimators models ↑↑↑')\n",
    "\n",
    "    logger.info('\\t\\t↓↓↓ Starting loading training config and training estimators ↓↓↓')\n",
    "    # TODO: add training steps here\n",
    "    flaml_automl = trainers.AutoML()\n",
    "    flaml_automl_args = config_handler.parse(\n",
    "        filename=trainers.FLAML_AUTOML_CONFIGS,\n",
    "        target='FLAML_AutoML'\n",
    "    )\n",
    "    config_handler.as_mlflow_artifact(\n",
    "        logger.MLFLOW_ARTIFACTS_CONFIGS_PATH\n",
    "    )\n",
    "    flaml_automl.fit(\n",
    "        X_train=xt_train,\n",
    "        y_train=yt_train,\n",
    "        X_val=xt_eval,\n",
    "        y_val=yt_eval,\n",
    "        seed=SEED,\n",
    "        append_log=False,\n",
    "        log_file_name=logger.MLFLOW_ARTIFACTS_LOGS_PATH / 'flaml.log',\n",
    "        **flaml_automl_args['method_fit'])\n",
    "    # report feature importance\n",
    "    feature_names = preprocessors.get_transformed_feature_names(\n",
    "        column_transformer=x_ct,\n",
    "        original_columns_names=data.drop(columns=[output_name]).columns.values,\n",
    "    )\n",
    "    logger.info(\n",
    "        trainers.report_feature_importances(\n",
    "            estimator=flaml_automl.model.estimator,\n",
    "            feature_names=feature_names\n",
    "        )\n",
    "    )\n",
    "    y_pred = flaml_automl.predict(xt_test)\n",
    "    logger.info(f'Best FLAML model: {flaml_automl.model.estimator}')\n",
    "    metrics = ['accuracy', 'log_loss', 'f1', 'roc_auc', ]\n",
    "    metrics_loss_score_dict = trainers.get_loss_score(\n",
    "        y_predict=y_pred,\n",
    "        y_true=yt_test,\n",
    "        metrics=metrics\n",
    "    )\n",
    "    logger.info(trainers.report_loss_score(metrics=metrics_loss_score_dict))\n",
    "    # Save the model\n",
    "    with open(\n",
    "        logger.MLFLOW_ARTIFACTS_MODELS_PATH / 'flaml_automl.pkl', 'wb'\n",
    "        ) as f:\n",
    "        pickle.dump(flaml_automl, f, pickle.HIGHEST_PROTOCOL)\n",
    "    logger.info('\\t\\t↑↑↑ Finished loading training config and training estimators ↑↑↑')\n",
    "\n",
    "    logger.info('\\t\\t↓↓↓ Starting loading evaluation config and evaluating estimators ↓↓↓')\n",
    "    # TODO: add final evaluation steps here\n",
    "    logger.info('\\t\\t↑↑↑ Finished loading evaluation config and evaluating estimators ↑↑↑')\n",
    "\n",
    "    logger.info('\\t\\t↓↓↓ Starting saving good weights ↓↓↓')\n",
    "    # TODO: add final checkpoint here (save weights)\n",
    "    logger.info('\\t\\t↑↑↑ Finished saving good weights ↑↑↑')\n",
    "\n",
    "    logger.info('\\t\\t↓↓↓ Starting logging preview of results and other stuff ↓↓↓')\n",
    "    # TODO: add final checkpoint here (save weights)\n",
    "    logger.info('\\t\\t↑↑↑ Finished logging preview of results and other stuff ↑↑↑')\n",
    "\n",
    "    dtreeviz_visualizer = FLAMLDTreeViz(\n",
    "        flaml_automl=flaml_automl,\n",
    "        x_data=xt_train,\n",
    "        y_data=yt_train.flatten(),\n",
    "        target_name='VisaResult',\n",
    "        feature_names=flaml_automl.feature_names_in_,\n",
    "        class_names=list(y_ct.classes_),\n",
    "        explanation_type='plain_english'\n",
    "    )\n",
    "\n",
    "except Exception as e:\n",
    "    logger.error(e)\n",
    "\n",
    "# cleanup code\n",
    "finally:\n",
    "    # Log artifacts (logs, saved files, etc)\n",
    "    mlflow.log_artifacts(MLFLOW_ARTIFACTS_BASE_PATH)\n",
    "    # delete redundant logs, files that are logged as artifact\n",
    "    shutil.rmtree(MLFLOW_ARTIFACTS_BASE_PATH)\n",
    "\n",
    "    logger.info('\\t\\t↓↓↓ Starting logging hyperparams and params with MLFlow ↓↓↓')\n",
    "    logger.info('Log global params')\n",
    "    mlflow.log_param('device', DEVICE)\n",
    "    # TODO: log preprocessor configs\n",
    "    # TODO: log estimator params\n",
    "    # TODO: log trainer config\n",
    "    # TODO: log evaluator config\n",
    "    # TODO: log weights\n",
    "    # TODO: log anything else in between that needs to be logged\n",
    "    # log data params\n",
    "    logger.info('Log EDA data params as MLflow params...')\n",
    "    mlflow.log_param('EDA_dataset_dir', DST_DIR)\n",
    "    mlflow.log_param('EDA_data_url', data_url)\n",
    "    mlflow.log_param('EDA_data_version', VERSION)\n",
    "    mlflow.log_param('EDA_input_shape', data.shape)\n",
    "    mlflow.log_param('EDA_input_columns', data.columns.values)\n",
    "    mlflow.log_param('EDA_input_dtypes', data.dtypes.values)\n",
    "    # LabelModel params\n",
    "    logger.info('Log Snorkel `LabelModel` params as MLflow params...')\n",
    "    mlflow.log_param('LabelModel_fit_method', label_model_args['method_fit'])\n",
    "    mlflow.log_param('labeled_dataframe_shape', data_labeled.shape)\n",
    "    mlflow.log_param('unlabeled_dataframe_shape', data_unlabeled.shape)\n",
    "    # log FLAML AutoML params\n",
    "    logger.info('Log `FLAML` `AutoML` params as MLflow params...')\n",
    "    mlflow.log_metrics(metrics_loss_score_dict)\n",
    "    # log modeling preprocessed params\n",
    "    logger.info('Log modeling preprocessed params as MLflow params...')\n",
    "    mlflow.log_param('x_train_shape', x_train.shape)\n",
    "    mlflow.log_param('xt_train_shape', xt_train.shape)\n",
    "    mlflow.log_param('x_test_shape', x_test.shape)\n",
    "    mlflow.log_param('x_val_shape', x_eval.shape)\n",
    "    mlflow.log_param('y_train_shape', y_train.shape)\n",
    "    mlflow.log_param('yt_train_shape', yt_train.shape)\n",
    "    mlflow.log_param('y_test_shape', y_test.shape)\n",
    "    mlflow.log_param('y_val_shape', y_test.shape)\n",
    "    logger.info('\\t\\t↑↑↑ Finished logging hyperparams and params with MLFlow ↑↑↑')\n",
    "    mlflow.end_run()\n"
   ]
  },
  {
   "cell_type": "code",
   "execution_count": 19,
   "metadata": {},
   "outputs": [
    {
     "ename": "TypeError",
     "evalue": "can only concatenate str (not \"int\") to str",
     "output_type": "error",
     "traceback": [
      "\u001b[0;31m---------------------------------------------------------------------------\u001b[0m",
      "\u001b[0;31mTypeError\u001b[0m                                 Traceback (most recent call last)",
      "\u001b[1;32m/home/nik/visaland-visa-form-utility/notebooks/shapash.ipynb Cell 2\u001b[0m in \u001b[0;36m<cell line: 13>\u001b[0;34m()\u001b[0m\n\u001b[1;32m     <a href='vscode-notebook-cell://wsl%2Bubuntu-20.04/home/nik/visaland-visa-form-utility/notebooks/shapash.ipynb#W6sdnNjb2RlLXJlbW90ZQ%3D%3D?line=10'>11</a>\u001b[0m X \u001b[39m=\u001b[39m data\u001b[39m.\u001b[39mdrop(columns\u001b[39m=\u001b[39m[output_name], inplace\u001b[39m=\u001b[39m\u001b[39mFalse\u001b[39;00m)\n\u001b[1;32m     <a href='vscode-notebook-cell://wsl%2Bubuntu-20.04/home/nik/visaland-visa-form-utility/notebooks/shapash.ipynb#W6sdnNjb2RlLXJlbW90ZQ%3D%3D?line=11'>12</a>\u001b[0m Y \u001b[39m=\u001b[39m pd\u001b[39m.\u001b[39mDataFrame(yt_train\u001b[39m.\u001b[39mflatten(), columns\u001b[39m=\u001b[39m[\u001b[39m'\u001b[39m\u001b[39mpred\u001b[39m\u001b[39m'\u001b[39m], index\u001b[39m=\u001b[39mX\u001b[39m.\u001b[39mindex)\n\u001b[0;32m---> <a href='vscode-notebook-cell://wsl%2Bubuntu-20.04/home/nik/visaland-visa-form-utility/notebooks/shapash.ipynb#W6sdnNjb2RlLXJlbW90ZQ%3D%3D?line=12'>13</a>\u001b[0m xpl\u001b[39m.\u001b[39;49mcompile(\n\u001b[1;32m     <a href='vscode-notebook-cell://wsl%2Bubuntu-20.04/home/nik/visaland-visa-form-utility/notebooks/shapash.ipynb#W6sdnNjb2RlLXJlbW90ZQ%3D%3D?line=13'>14</a>\u001b[0m     x\u001b[39m=\u001b[39;49mX,    \n\u001b[1;32m     <a href='vscode-notebook-cell://wsl%2Bubuntu-20.04/home/nik/visaland-visa-form-utility/notebooks/shapash.ipynb#W6sdnNjb2RlLXJlbW90ZQ%3D%3D?line=14'>15</a>\u001b[0m     y_pred\u001b[39m=\u001b[39;49mY,\n\u001b[1;32m     <a href='vscode-notebook-cell://wsl%2Bubuntu-20.04/home/nik/visaland-visa-form-utility/notebooks/shapash.ipynb#W6sdnNjb2RlLXJlbW90ZQ%3D%3D?line=15'>16</a>\u001b[0m )\n\u001b[1;32m     <a href='vscode-notebook-cell://wsl%2Bubuntu-20.04/home/nik/visaland-visa-form-utility/notebooks/shapash.ipynb#W6sdnNjb2RlLXJlbW90ZQ%3D%3D?line=16'>17</a>\u001b[0m app \u001b[39m=\u001b[39m xpl\u001b[39m.\u001b[39mrun_app(port\u001b[39m=\u001b[39m\u001b[39m12000\u001b[39m)\n",
      "File \u001b[0;32m~/anaconda3/envs/py38l/lib/python3.8/site-packages/shapash/explainer/smart_explainer.py:264\u001b[0m, in \u001b[0;36mSmartExplainer.compile\u001b[0;34m(self, x, contributions, y_pred)\u001b[0m\n\u001b[1;32m    235\u001b[0m \u001b[39m\"\"\"\u001b[39;00m\n\u001b[1;32m    236\u001b[0m \u001b[39mThe compile method is the first step to understand model and prediction. It performs the sorting\u001b[39;00m\n\u001b[1;32m    237\u001b[0m \u001b[39mof contributions, the reverse preprocessing steps and performs all the calculations necessary for\u001b[39;00m\n\u001b[0;32m   (...)\u001b[0m\n\u001b[1;32m    261\u001b[0m \n\u001b[1;32m    262\u001b[0m \u001b[39m\"\"\"\u001b[39;00m\n\u001b[1;32m    263\u001b[0m \u001b[39mself\u001b[39m\u001b[39m.\u001b[39mx_encoded \u001b[39m=\u001b[39m x\n\u001b[0;32m--> 264\u001b[0m \u001b[39mself\u001b[39m\u001b[39m.\u001b[39mx_init \u001b[39m=\u001b[39m inverse_transform(\u001b[39mself\u001b[39;49m\u001b[39m.\u001b[39;49mx_encoded, \u001b[39mself\u001b[39;49m\u001b[39m.\u001b[39;49mpreprocessing)\n\u001b[1;32m    265\u001b[0m \u001b[39mself\u001b[39m\u001b[39m.\u001b[39my_pred \u001b[39m=\u001b[39m check_ypred(\u001b[39mself\u001b[39m\u001b[39m.\u001b[39mx_init, y_pred)\n\u001b[1;32m    267\u001b[0m \u001b[39mself\u001b[39m\u001b[39m.\u001b[39m_get_contributions_from_backend_or_user(x, contributions)\n",
      "File \u001b[0;32m~/anaconda3/envs/py38l/lib/python3.8/site-packages/shapash/utils/transform.py:70\u001b[0m, in \u001b[0;36minverse_transform\u001b[0;34m(x_init, preprocessing)\u001b[0m\n\u001b[1;32m     68\u001b[0m \u001b[39mfor\u001b[39;00m encoding \u001b[39min\u001b[39;00m list_encoding:\n\u001b[1;32m     69\u001b[0m     \u001b[39mif\u001b[39;00m use_ct:\n\u001b[0;32m---> 70\u001b[0m         x_inverse \u001b[39m=\u001b[39m inv_transform_ct(x_inverse, encoding)\n\u001b[1;32m     71\u001b[0m     \u001b[39melse\u001b[39;00m:\n\u001b[1;32m     72\u001b[0m         x_inverse \u001b[39m=\u001b[39m inv_transform_ce(x_inverse, encoding)\n",
      "File \u001b[0;32m~/anaconda3/envs/py38l/lib/python3.8/site-packages/shapash/utils/columntransformer_backend.py:76\u001b[0m, in \u001b[0;36minv_transform_ct\u001b[0;34m(x_in, encoding)\u001b[0m\n\u001b[1;32m     74\u001b[0m \u001b[39m# For Scikit encoding we use the associated inverse transform method\u001b[39;00m\n\u001b[1;32m     75\u001b[0m \u001b[39mif\u001b[39;00m \u001b[39mstr\u001b[39m(\u001b[39mtype\u001b[39m(ct_encoding)) \u001b[39min\u001b[39;00m supported_sklearn:\n\u001b[0;32m---> 76\u001b[0m     frame, init \u001b[39m=\u001b[39m inv_transform_sklearn_in_ct(x_in,\n\u001b[1;32m     77\u001b[0m                                               init,\n\u001b[1;32m     78\u001b[0m                                               name_encoding,\n\u001b[1;32m     79\u001b[0m                                               col_encoding,\n\u001b[1;32m     80\u001b[0m                                               ct_encoding)\n\u001b[1;32m     82\u001b[0m \u001b[39m# For category encoding we use the mapping\u001b[39;00m\n\u001b[1;32m     83\u001b[0m \u001b[39melif\u001b[39;00m \u001b[39mstr\u001b[39m(\u001b[39mtype\u001b[39m(ct_encoding)) \u001b[39min\u001b[39;00m supported_category_encoder:\n",
      "File \u001b[0;32m~/anaconda3/envs/py38l/lib/python3.8/site-packages/shapash/utils/columntransformer_backend.py:171\u001b[0m, in \u001b[0;36minv_transform_sklearn_in_ct\u001b[0;34m(x_in, init, name_encoding, col_encoding, ct_encoding)\u001b[0m\n\u001b[1;32m    147\u001b[0m \u001b[39mdef\u001b[39;00m \u001b[39minv_transform_sklearn_in_ct\u001b[39m(x_in, init, name_encoding, col_encoding, ct_encoding):\n\u001b[1;32m    148\u001b[0m     \u001b[39m\"\"\"\u001b[39;00m\n\u001b[1;32m    149\u001b[0m \u001b[39m    Inverse transform when using sklearn in ColumnsTransformer preprocessing.\u001b[39;00m\n\u001b[1;32m    150\u001b[0m \n\u001b[0;32m   (...)\u001b[0m\n\u001b[1;32m    169\u001b[0m \u001b[39m        Index of the last column use to make the transformation.\u001b[39;00m\n\u001b[1;32m    170\u001b[0m \u001b[39m    \"\"\"\u001b[39;00m\n\u001b[0;32m--> 171\u001b[0m     colname_output \u001b[39m=\u001b[39m [name_encoding \u001b[39m+\u001b[39m \u001b[39m'\u001b[39m\u001b[39m_\u001b[39m\u001b[39m'\u001b[39m \u001b[39m+\u001b[39m val \u001b[39mfor\u001b[39;00m val \u001b[39min\u001b[39;00m col_encoding]\n\u001b[1;32m    172\u001b[0m     \u001b[39mif\u001b[39;00m \u001b[39mstr\u001b[39m(\u001b[39mtype\u001b[39m(ct_encoding)) \u001b[39min\u001b[39;00m dummies_sklearn:\n\u001b[1;32m    173\u001b[0m         colname_input \u001b[39m=\u001b[39m ct_encoding\u001b[39m.\u001b[39mget_feature_names(col_encoding)\n",
      "File \u001b[0;32m~/anaconda3/envs/py38l/lib/python3.8/site-packages/shapash/utils/columntransformer_backend.py:171\u001b[0m, in \u001b[0;36m<listcomp>\u001b[0;34m(.0)\u001b[0m\n\u001b[1;32m    147\u001b[0m \u001b[39mdef\u001b[39;00m \u001b[39minv_transform_sklearn_in_ct\u001b[39m(x_in, init, name_encoding, col_encoding, ct_encoding):\n\u001b[1;32m    148\u001b[0m     \u001b[39m\"\"\"\u001b[39;00m\n\u001b[1;32m    149\u001b[0m \u001b[39m    Inverse transform when using sklearn in ColumnsTransformer preprocessing.\u001b[39;00m\n\u001b[1;32m    150\u001b[0m \n\u001b[0;32m   (...)\u001b[0m\n\u001b[1;32m    169\u001b[0m \u001b[39m        Index of the last column use to make the transformation.\u001b[39;00m\n\u001b[1;32m    170\u001b[0m \u001b[39m    \"\"\"\u001b[39;00m\n\u001b[0;32m--> 171\u001b[0m     colname_output \u001b[39m=\u001b[39m [name_encoding \u001b[39m+\u001b[39;49m \u001b[39m'\u001b[39;49m\u001b[39m_\u001b[39;49m\u001b[39m'\u001b[39;49m \u001b[39m+\u001b[39;49m val \u001b[39mfor\u001b[39;00m val \u001b[39min\u001b[39;00m col_encoding]\n\u001b[1;32m    172\u001b[0m     \u001b[39mif\u001b[39;00m \u001b[39mstr\u001b[39m(\u001b[39mtype\u001b[39m(ct_encoding)) \u001b[39min\u001b[39;00m dummies_sklearn:\n\u001b[1;32m    173\u001b[0m         colname_input \u001b[39m=\u001b[39m ct_encoding\u001b[39m.\u001b[39mget_feature_names(col_encoding)\n",
      "\u001b[0;31mTypeError\u001b[0m: can only concatenate str (not \"int\") to str"
     ]
    }
   ],
   "source": [
    "if app:\n",
    "    app.kill()\n",
    "fitted_model = flaml_automl.model.estimator\n",
    "shapash_feature_names = {k:v for k,v in zip(flaml_automl.feature_names_in_, feature_names)}\n",
    "from shapash import SmartExplainer\n",
    "xpl = SmartExplainer(\n",
    "    model=fitted_model,\n",
    "    features_dict=shapash_feature_names,\n",
    "    preprocessing=x_ct\n",
    ")\n",
    "X = data.drop(columns=[output_name], inplace=False)\n",
    "Y = pd.DataFrame(yt_train.flatten(), columns=['pred'], index=X.index)\n",
    "xpl.compile(\n",
    "    x=X,    \n",
    "    y_pred=Y,\n",
    ")\n",
    "app = xpl.run_app(port=12000)"
   ]
  },
  {
   "cell_type": "code",
   "execution_count": null,
   "metadata": {},
   "outputs": [],
   "source": []
  }
 ],
 "metadata": {
  "kernelspec": {
   "display_name": "Python 3.8.0 ('py38l')",
   "language": "python",
   "name": "python3"
  },
  "language_info": {
   "codemirror_mode": {
    "name": "ipython",
    "version": 3
   },
   "file_extension": ".py",
   "mimetype": "text/x-python",
   "name": "python",
   "nbconvert_exporter": "python",
   "pygments_lexer": "ipython3",
   "version": "3.8.0"
  },
  "orig_nbformat": 4,
  "vscode": {
   "interpreter": {
    "hash": "7036a0b4f2ce01267d51bf67d67e15047ef367149053ccbb5330a5f708494b33"
   }
  }
 },
 "nbformat": 4,
 "nbformat_minor": 2
}
